{
 "cells": [
  {
   "cell_type": "code",
   "execution_count": 1,
   "id": "55ee0215",
   "metadata": {},
   "outputs": [
    {
     "name": "stdout",
     "output_type": "stream",
     "text": [
      "Hooray!\n"
     ]
    }
   ],
   "source": [
    "if 5 == 15 / 3:\n",
    "    print(\"Hooray!\")"
   ]
  },
  {
   "cell_type": "code",
   "execution_count": null,
   "id": "855a059d",
   "metadata": {},
   "outputs": [],
   "source": []
  },
  {
   "cell_type": "code",
   "execution_count": 2,
   "id": "83ef31bc",
   "metadata": {},
   "outputs": [],
   "source": [
    "if 5 == 18 / 3:\n",
    "    print(\"Hooray!\")"
   ]
  },
  {
   "cell_type": "code",
   "execution_count": null,
   "id": "6040980f",
   "metadata": {},
   "outputs": [],
   "source": []
  },
  {
   "cell_type": "code",
   "execution_count": 3,
   "id": "101d9892",
   "metadata": {},
   "outputs": [
    {
     "name": "stdout",
     "output_type": "stream",
     "text": [
      "Hooray!\n"
     ]
    }
   ],
   "source": [
    "if 5 != 3 * 6:\n",
    "    print(\"Hooray!\")"
   ]
  }
 ],
 "metadata": {
  "kernelspec": {
   "display_name": "Python 3 (ipykernel)",
   "language": "python",
   "name": "python3"
  },
  "language_info": {
   "codemirror_mode": {
    "name": "ipython",
    "version": 3
   },
   "file_extension": ".py",
   "mimetype": "text/x-python",
   "name": "python",
   "nbconvert_exporter": "python",
   "pygments_lexer": "ipython3",
   "version": "3.11.4"
  }
 },
 "nbformat": 4,
 "nbformat_minor": 5
}
