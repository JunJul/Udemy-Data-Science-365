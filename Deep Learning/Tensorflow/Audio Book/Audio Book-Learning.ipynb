{
 "cells": [
  {
   "cell_type": "code",
   "execution_count": 1,
   "id": "0f1c05f7",
   "metadata": {},
   "outputs": [],
   "source": [
    "import numpy as np\n",
    "import tensorflow as tf"
   ]
  },
  {
   "cell_type": "markdown",
   "id": "5514eeef",
   "metadata": {},
   "source": [
    "## Data"
   ]
  },
  {
   "cell_type": "code",
   "execution_count": 2,
   "id": "666c7102",
   "metadata": {},
   "outputs": [],
   "source": [
    "# We save the NPZs in 2-tuple form [inputs, targets]\n",
    "npz1 = np.load('Audiobooks_data_train_main.npz')\n",
    "\n",
    "# we expect all input values are float and output values are 0\n",
    "train_inputs = npz1['inputs'].astype(float)\n",
    "train_targets = npz1['targets'].astype(int)\n",
    "\n",
    "npz2 = np.load('Audiobooks_data_validation_main.npz')\n",
    "validation_inputs, validation_targets = npz2['inputs'].astype(float), npz2['targets'].astype(int)\n",
    "\n",
    "npz3 = np.load('Audiobooks_data_test_main.npz')\n",
    "test_inputs, test_targets = npz3['inputs'].astype(float), npz3['targets'].astype(int)\n"
   ]
  },
  {
   "cell_type": "markdown",
   "id": "30694dcd",
   "metadata": {},
   "source": [
    "## Model"
   ]
  },
  {
   "cell_type": "markdown",
   "id": "aa8f7d0e",
   "metadata": {},
   "source": [
    "### Outline,optimization, loss, early, stopping, and training"
   ]
  },
  {
   "cell_type": "code",
   "execution_count": 3,
   "id": "5e050089",
   "metadata": {},
   "outputs": [],
   "source": [
    "input_size = 10\n",
    "output_size = 2\n",
    "hidden_layer_size = 50\n",
    "\n",
    "model = tf.keras.Sequential([\n",
    "    tf.keras.layers.Dense(hidden_layer_size, activation='relu'),\n",
    "    tf.keras.layers.Dense(hidden_layer_size, activation='relu'),\n",
    "    tf.keras.layers.Dense(output_size, activation='softmax')\n",
    "])"
   ]
  },
  {
   "cell_type": "code",
   "execution_count": 4,
   "id": "003ec980",
   "metadata": {},
   "outputs": [],
   "source": [
    "#customized_optimizer = tf.keras.optimizers.Adam(learning_rate=0.0001)\n",
    "model.compile(optimizer='adam', loss='sparse_categorical_crossentropy', metrics=['accuracy'])"
   ]
  },
  {
   "cell_type": "code",
   "execution_count": 5,
   "id": "93bdae88",
   "metadata": {
    "scrolled": false
   },
   "outputs": [
    {
     "name": "stdout",
     "output_type": "stream",
     "text": [
      "Epoch 1/50\n",
      "36/36 - 1s - loss: 0.5640 - accuracy: 0.6994 - val_loss: 0.4757 - val_accuracy: 0.7427 - 518ms/epoch - 14ms/step\n",
      "Epoch 2/50\n",
      "36/36 - 0s - loss: 0.4507 - accuracy: 0.7594 - val_loss: 0.4143 - val_accuracy: 0.7852 - 64ms/epoch - 2ms/step\n",
      "Epoch 3/50\n",
      "36/36 - 0s - loss: 0.4097 - accuracy: 0.7835 - val_loss: 0.3869 - val_accuracy: 0.7964 - 57ms/epoch - 2ms/step\n",
      "Epoch 4/50\n",
      "36/36 - 0s - loss: 0.3890 - accuracy: 0.7963 - val_loss: 0.3697 - val_accuracy: 0.7897 - 60ms/epoch - 2ms/step\n",
      "Epoch 5/50\n",
      "36/36 - 0s - loss: 0.3748 - accuracy: 0.7966 - val_loss: 0.3587 - val_accuracy: 0.8031 - 58ms/epoch - 2ms/step\n",
      "Epoch 6/50\n",
      "36/36 - 0s - loss: 0.3656 - accuracy: 0.8047 - val_loss: 0.3543 - val_accuracy: 0.8054 - 64ms/epoch - 2ms/step\n",
      "Epoch 7/50\n",
      "36/36 - 0s - loss: 0.3585 - accuracy: 0.8064 - val_loss: 0.3452 - val_accuracy: 0.8031 - 63ms/epoch - 2ms/step\n",
      "Epoch 8/50\n",
      "36/36 - 0s - loss: 0.3542 - accuracy: 0.8106 - val_loss: 0.3399 - val_accuracy: 0.8121 - 59ms/epoch - 2ms/step\n",
      "Epoch 9/50\n",
      "36/36 - 0s - loss: 0.3511 - accuracy: 0.8075 - val_loss: 0.3345 - val_accuracy: 0.8188 - 59ms/epoch - 2ms/step\n",
      "Epoch 10/50\n",
      "36/36 - 0s - loss: 0.3448 - accuracy: 0.8164 - val_loss: 0.3337 - val_accuracy: 0.8166 - 59ms/epoch - 2ms/step\n",
      "Epoch 11/50\n",
      "36/36 - 0s - loss: 0.3434 - accuracy: 0.8122 - val_loss: 0.3350 - val_accuracy: 0.8166 - 55ms/epoch - 2ms/step\n",
      "Epoch 12/50\n",
      "36/36 - 0s - loss: 0.3399 - accuracy: 0.8136 - val_loss: 0.3321 - val_accuracy: 0.8143 - 66ms/epoch - 2ms/step\n",
      "Epoch 13/50\n",
      "36/36 - 0s - loss: 0.3356 - accuracy: 0.8282 - val_loss: 0.3311 - val_accuracy: 0.8166 - 58ms/epoch - 2ms/step\n",
      "Epoch 14/50\n",
      "36/36 - 0s - loss: 0.3351 - accuracy: 0.8167 - val_loss: 0.3238 - val_accuracy: 0.8143 - 58ms/epoch - 2ms/step\n",
      "Epoch 15/50\n",
      "36/36 - 0s - loss: 0.3331 - accuracy: 0.8220 - val_loss: 0.3236 - val_accuracy: 0.8277 - 60ms/epoch - 2ms/step\n",
      "Epoch 16/50\n",
      "36/36 - 0s - loss: 0.3354 - accuracy: 0.8187 - val_loss: 0.3227 - val_accuracy: 0.8188 - 58ms/epoch - 2ms/step\n",
      "Epoch 17/50\n",
      "36/36 - 0s - loss: 0.3315 - accuracy: 0.8217 - val_loss: 0.3328 - val_accuracy: 0.8098 - 60ms/epoch - 2ms/step\n",
      "Epoch 18/50\n",
      "36/36 - 0s - loss: 0.3302 - accuracy: 0.8240 - val_loss: 0.3300 - val_accuracy: 0.8098 - 57ms/epoch - 2ms/step\n"
     ]
    },
    {
     "data": {
      "text/plain": [
       "<keras.callbacks.History at 0x18b1e78a320>"
      ]
     },
     "execution_count": 5,
     "metadata": {},
     "output_type": "execute_result"
    }
   ],
   "source": [
    "batch_size = 100\n",
    "max_epochs = 50\n",
    "\n",
    "# By default, the object will monitor the validation loss and \n",
    "    # stop the training process the first time the validation loss starts increasing \n",
    "# tf.keras.callbacks.EarlyStopping(patience) configures the early stopping mechanism of the algorithm\n",
    "    # patience lets us decide how many consecutive increases we can tolerate\n",
    "# he first sign of no further improvement may not be the best time to stop training. \n",
    "    # This is because the model may coast into a plateau of no improvement \n",
    "    # or even get slightly worse before getting much better.\n",
    "early_stopping = tf.keras.callbacks.EarlyStopping(patience=2)\n",
    "\n",
    "# indicating the batch size in .fit() will automatically batch the data\n",
    "model.fit(train_inputs, \n",
    "          train_targets, \n",
    "          batch_size = batch_size, \n",
    "          epochs=max_epochs, \n",
    "          callbacks=[early_stopping],\n",
    "          validation_data=(validation_inputs, validation_targets), \n",
    "          verbose=2)"
   ]
  },
  {
   "cell_type": "code",
   "execution_count": 6,
   "id": "346e4a0b",
   "metadata": {},
   "outputs": [
    {
     "name": "stdout",
     "output_type": "stream",
     "text": [
      "(3579, 10) (3579,)\n"
     ]
    }
   ],
   "source": [
    "print(train_inputs.shape, train_targets.shape)"
   ]
  },
  {
   "cell_type": "markdown",
   "id": "084c4227",
   "metadata": {},
   "source": [
    "## Testing"
   ]
  },
  {
   "cell_type": "code",
   "execution_count": 7,
   "id": "bec7eff3",
   "metadata": {},
   "outputs": [
    {
     "name": "stdout",
     "output_type": "stream",
     "text": [
      "14/14 [==============================] - 0s 762us/step - loss: 0.3246 - accuracy: 0.8348\n"
     ]
    }
   ],
   "source": [
    "# The test should be equal or lower than the validation accuracy\n",
    "test_loss, test_accuracy = model.evaluate(test_inputs, test_targets)"
   ]
  },
  {
   "cell_type": "code",
   "execution_count": 8,
   "id": "21e69d18",
   "metadata": {},
   "outputs": [
    {
     "name": "stdout",
     "output_type": "stream",
     "text": [
      "The loss is 0.32. Test accuracy: 0.83\n"
     ]
    }
   ],
   "source": [
    "print('The loss is {0:.2f}. Test accuracy: {1:.2f}'.format(test_loss, test_accuracy))"
   ]
  },
  {
   "cell_type": "code",
   "execution_count": null,
   "id": "445594c9",
   "metadata": {},
   "outputs": [],
   "source": []
  }
 ],
 "metadata": {
  "kernelspec": {
   "display_name": "Python 3 (ipykernel)",
   "language": "python",
   "name": "python3"
  },
  "language_info": {
   "codemirror_mode": {
    "name": "ipython",
    "version": 3
   },
   "file_extension": ".py",
   "mimetype": "text/x-python",
   "name": "python",
   "nbconvert_exporter": "python",
   "pygments_lexer": "ipython3",
   "version": "3.10.12"
  }
 },
 "nbformat": 4,
 "nbformat_minor": 5
}
