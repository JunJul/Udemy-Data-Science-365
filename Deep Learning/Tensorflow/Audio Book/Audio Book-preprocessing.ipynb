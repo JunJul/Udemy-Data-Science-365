{
 "cells": [
  {
   "cell_type": "code",
   "execution_count": 1,
   "id": "7e2a15cb",
   "metadata": {},
   "outputs": [],
   "source": [
    "import numpy as np\n",
    "from sklearn import preprocessing "
   ]
  },
  {
   "cell_type": "markdown",
   "id": "0ad5014a",
   "metadata": {},
   "source": [
    "## Extract the data from the csv"
   ]
  },
  {
   "cell_type": "code",
   "execution_count": 2,
   "id": "7c393984",
   "metadata": {},
   "outputs": [],
   "source": [
    "raw_csv_data = np.loadtxt('Audiobooks_data.csv', delimiter=',')\n",
    "\n",
    "unscaled_inputs_all = raw_csv_data[:, 1:-1]\n",
    "targets_all = raw_csv_data[:,-1]"
   ]
  },
  {
   "cell_type": "markdown",
   "id": "4d3b5391",
   "metadata": {},
   "source": [
    "## Balance/Scaling the dataset"
   ]
  },
  {
   "cell_type": "markdown",
   "id": "8aa9e8b7",
   "metadata": {},
   "source": [
    "### 1. We will count the number of targets that are 1s\n",
    "### 2. We will keep as many 0s and 1s (we will delete the others)"
   ]
  },
  {
   "cell_type": "code",
   "execution_count": 3,
   "id": "ccb323fe",
   "metadata": {},
   "outputs": [],
   "source": [
    "# if we sum all the targets we will get the number of targets that are 1s\n",
    "num_one_targets = int(np.sum(targets_all))\n",
    "zero_targets_counter = 0\n",
    "indices_to_remove = []\n",
    "\n",
    "# The shape of targets_all on axis = 0, is basically the length of the vector\n",
    "for i in range(targets_all.shape[0]):\n",
    "    if targets_all[i] == 0:\n",
    "        zero_targets_counter += 1\n",
    "        if zero_targets_counter > num_one_targets:\n",
    "            indices_to_remove.append(i)"
   ]
  },
  {
   "cell_type": "code",
   "execution_count": 4,
   "id": "018c94c4",
   "metadata": {},
   "outputs": [],
   "source": [
    "# np.delete(array, obj to delete, axis) is a method that deletes an object along an axis\n",
    "unscaled_inputs_equal_priors = np.delete(unscaled_inputs_all, indices_to_remove, axis=0)\n",
    "targets_equal_priors = np.delete(targets_all, indices_to_remove, axis=0)"
   ]
  },
  {
   "cell_type": "code",
   "execution_count": 5,
   "id": "ed416072",
   "metadata": {},
   "outputs": [
    {
     "data": {
      "text/plain": [
       "(14084,)"
      ]
     },
     "execution_count": 5,
     "metadata": {},
     "output_type": "execute_result"
    }
   ],
   "source": [
    "targets_all.shape"
   ]
  },
  {
   "cell_type": "code",
   "execution_count": 6,
   "id": "491e7c68",
   "metadata": {},
   "outputs": [
    {
     "data": {
      "text/plain": [
       "(14084, 10)"
      ]
     },
     "execution_count": 6,
     "metadata": {},
     "output_type": "execute_result"
    }
   ],
   "source": [
    "unscaled_inputs_all.shape"
   ]
  },
  {
   "cell_type": "code",
   "execution_count": 16,
   "id": "bf7c7c21",
   "metadata": {},
   "outputs": [
    {
     "data": {
      "text/plain": [
       "array([1.6200e+03, 1.6200e+03, 1.9730e+01, 1.9730e+01, 1.0000e+00,\n",
       "       1.0000e+01, 9.9000e-01, 1.6038e+03, 5.0000e+00, 9.2000e+01])"
      ]
     },
     "execution_count": 16,
     "metadata": {},
     "output_type": "execute_result"
    }
   ],
   "source": [
    "unscaled_inputs_all[0]"
   ]
  },
  {
   "cell_type": "markdown",
   "id": "9430558c",
   "metadata": {},
   "source": [
    "## Standardize the inputs"
   ]
  },
  {
   "cell_type": "code",
   "execution_count": 7,
   "id": "12edf396",
   "metadata": {},
   "outputs": [],
   "source": [
    "scaled_inputs = preprocessing.scale(unscaled_inputs_equal_priors)"
   ]
  },
  {
   "cell_type": "markdown",
   "id": "37c75e5f",
   "metadata": {},
   "source": [
    "## Shuffle the data"
   ]
  },
  {
   "cell_type": "code",
   "execution_count": 8,
   "id": "0998ef26",
   "metadata": {},
   "outputs": [],
   "source": [
    "# shuffle the inputs and the targets. We keep the same information but in a random order\n",
    "# Since we will be batching, so we must shuffle the data\n",
    "\n",
    "# np.arange([start], stop) is a method that returns a evenly spaced values within a given interval\n",
    "    # is the same as arange\n",
    "shuffled_indices = np.arange(scaled_inputs.shape[0])\n",
    "np.random.shuffle(shuffled_indices)\n",
    "\n",
    "shuffled_inputs = scaled_inputs[shuffled_indices]\n",
    "shuffled_targets = targets_equal_priors[shuffled_indices]"
   ]
  },
  {
   "cell_type": "code",
   "execution_count": 9,
   "id": "224885fa",
   "metadata": {
    "scrolled": true
   },
   "outputs": [
    {
     "data": {
      "text/plain": [
       "(4474, 10)"
      ]
     },
     "execution_count": 9,
     "metadata": {},
     "output_type": "execute_result"
    }
   ],
   "source": [
    "scaled_inputs.shape"
   ]
  },
  {
   "cell_type": "code",
   "execution_count": 10,
   "id": "5a41842a",
   "metadata": {},
   "outputs": [
    {
     "data": {
      "text/plain": [
       "array([2868, 1807, 3747, ..., 2779,  725, 2513])"
      ]
     },
     "execution_count": 10,
     "metadata": {},
     "output_type": "execute_result"
    }
   ],
   "source": [
    "shuffled_indices"
   ]
  },
  {
   "cell_type": "code",
   "execution_count": 11,
   "id": "5479bbd9",
   "metadata": {},
   "outputs": [
    {
     "data": {
      "text/plain": [
       "array([[ 2.10533868e-01, -1.88885170e-01,  1.97823887e+00,\n",
       "         1.43819814e+00,  2.10780037e+00,  1.49110879e+00,\n",
       "         4.24286158e+00,  4.80955413e+00,  1.18382842e+01,\n",
       "         9.41504310e-02],\n",
       "       [ 1.27894497e+00,  4.16467444e-01, -3.90824747e-01,\n",
       "        -5.08367103e-01, -4.74428231e-01,  1.42655343e-03,\n",
       "        -4.26477846e-01, -4.15699224e-01, -2.01834807e-01,\n",
       "        -8.02558517e-01]])"
      ]
     },
     "execution_count": 11,
     "metadata": {},
     "output_type": "execute_result"
    }
   ],
   "source": [
    "a = scaled_inputs[[0, 1]]\n",
    "a"
   ]
  },
  {
   "cell_type": "markdown",
   "id": "bdf1f0b9",
   "metadata": {},
   "source": [
    "## Split the dataset into train, validation, and test"
   ]
  },
  {
   "cell_type": "code",
   "execution_count": 12,
   "id": "91b36ac7",
   "metadata": {},
   "outputs": [],
   "source": [
    "# 80-10-10 split for train,validation, and test\n",
    "samples_count = shuffled_inputs.shape[0]\n",
    "\n",
    "train_samples_count = int(0.8*samples_count)\n",
    "validation_samples_count = int(0.1*samples_count)\n",
    "test_samples_count = samples_count - train_samples_count - validation_samples_count\n",
    "\n",
    "train_inputs = shuffled_inputs[:train_samples_count]\n",
    "train_targets = shuffled_targets[:train_samples_count]\n",
    "\n",
    "validation_inputs = shuffled_inputs[train_samples_count: train_samples_count+validation_samples_count]\n",
    "validation_targets = shuffled_targets[train_samples_count: train_samples_count+validation_samples_count]\n",
    "\n",
    "test_inputs = shuffled_inputs[train_samples_count+validation_samples_count:]\n",
    "test_targets = shuffled_targets[train_samples_count+validation_samples_count:]"
   ]
  },
  {
   "cell_type": "code",
   "execution_count": 13,
   "id": "b9ab5ef7",
   "metadata": {},
   "outputs": [
    {
     "name": "stdout",
     "output_type": "stream",
     "text": [
      "1798.0 3579 0.502374965074043\n",
      "225.0 447 0.5033557046979866\n",
      "214.0 448 0.47767857142857145\n"
     ]
    }
   ],
   "source": [
    "# check if we have balanced the dataset\n",
    "# the totla number of samples, and the proportion of ones as a part of the total\n",
    "print(np.sum(train_targets), train_samples_count, np.sum(train_targets)/train_samples_count)\n",
    "print(np.sum(validation_targets), validation_samples_count, np.sum(validation_targets)/validation_samples_count)\n",
    "print(np.sum(test_targets), test_samples_count, np.sum(test_targets)/test_samples_count)"
   ]
  },
  {
   "cell_type": "markdown",
   "id": "a3a77d76",
   "metadata": {},
   "source": [
    "## Save the three datasets in *.npz"
   ]
  },
  {
   "cell_type": "code",
   "execution_count": 14,
   "id": "c286cb9d",
   "metadata": {},
   "outputs": [],
   "source": [
    "np.savez('Audiobooks_data_train_main', inputs=train_inputs, targets=train_targets)\n",
    "np.savez('Audiobooks_data_validation_main', inputs=validation_inputs, targets=validation_targets)\n",
    "np.savez('Audiobooks_data_test_main', inputs=test_inputs, targets=test_targets)"
   ]
  }
 ],
 "metadata": {
  "kernelspec": {
   "display_name": "Python 3 (ipykernel)",
   "language": "python",
   "name": "python3"
  },
  "language_info": {
   "codemirror_mode": {
    "name": "ipython",
    "version": 3
   },
   "file_extension": ".py",
   "mimetype": "text/x-python",
   "name": "python",
   "nbconvert_exporter": "python",
   "pygments_lexer": "ipython3",
   "version": "3.10.12"
  }
 },
 "nbformat": 4,
 "nbformat_minor": 5
}
