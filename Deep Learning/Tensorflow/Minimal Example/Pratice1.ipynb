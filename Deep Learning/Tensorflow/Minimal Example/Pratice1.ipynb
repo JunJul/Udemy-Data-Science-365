{
 "cells": [
  {
   "cell_type": "code",
   "execution_count": 1,
   "id": "445d2707",
   "metadata": {},
   "outputs": [],
   "source": [
    "import numpy as np\n",
    "import matplotlib.pyplot as plt\n",
    "import tensorflow as tf"
   ]
  },
  {
   "cell_type": "markdown",
   "id": "172615d6",
   "metadata": {},
   "source": [
    "## Data"
   ]
  },
  {
   "cell_type": "markdown",
   "id": "5c48e68c",
   "metadata": {},
   "source": [
    "## y = 20*xs + 12*zs + 7"
   ]
  },
  {
   "cell_type": "code",
   "execution_count": 2,
   "id": "6f45d603",
   "metadata": {},
   "outputs": [],
   "source": [
    "observations = 1000\n",
    "\n",
    "xs = np.random.uniform(-10,10,(observations,1))\n",
    "zs = np.random.uniform(-10,10,(observations,1))\n",
    "generated_inputs = np.column_stack((xs,zs))\n",
    "\n",
    "noise = np.random.uniform(-1,1,(observations,1))\n",
    "generated_target = 20*xs + 12*zs + 7 + noise\n",
    "\n",
    "np.savez('Pratice1', inputs=generated_inputs, target=generated_target)"
   ]
  },
  {
   "cell_type": "markdown",
   "id": "87ae046d",
   "metadata": {},
   "source": [
    "## Model"
   ]
  },
  {
   "cell_type": "code",
   "execution_count": 3,
   "id": "71046790",
   "metadata": {},
   "outputs": [],
   "source": [
    "training_data = np.load('Pratice1.npz')"
   ]
  },
  {
   "cell_type": "code",
   "execution_count": 4,
   "id": "4b6c1cd2",
   "metadata": {},
   "outputs": [],
   "source": [
    "output_size = 1\n",
    "input_size = 2\n",
    "\n",
    "model = tf.keras.Sequential([\n",
    "    tf.keras.layers.Dense(output_size, \n",
    "                   kernel_initializer=tf.random_uniform_initializer(-1,1),\n",
    "                  bias_initializer=tf.random_uniform_initializer(-1,1))\n",
    "])"
   ]
  },
  {
   "cell_type": "markdown",
   "id": "9f834945",
   "metadata": {},
   "source": [
    "## Objective functions Optimization "
   ]
  },
  {
   "cell_type": "code",
   "execution_count": 5,
   "id": "70cfae3c",
   "metadata": {},
   "outputs": [],
   "source": [
    "learning_rate = 0.01"
   ]
  },
  {
   "cell_type": "code",
   "execution_count": 6,
   "id": "a4b1bb69",
   "metadata": {},
   "outputs": [
    {
     "name": "stdout",
     "output_type": "stream",
     "text": [
      "Epoch 1/100\n",
      "32/32 - 0s - loss: 685.2120 - 377ms/epoch - 12ms/step\n",
      "Epoch 2/100\n",
      "32/32 - 0s - loss: 9.8140 - 33ms/epoch - 1ms/step\n",
      "Epoch 3/100\n",
      "32/32 - 0s - loss: 2.9858 - 31ms/epoch - 962us/step\n",
      "Epoch 4/100\n",
      "32/32 - 0s - loss: 1.0868 - 35ms/epoch - 1ms/step\n",
      "Epoch 5/100\n",
      "32/32 - 0s - loss: 0.5558 - 32ms/epoch - 998us/step\n",
      "Epoch 6/100\n",
      "32/32 - 0s - loss: 0.4015 - 32ms/epoch - 991us/step\n",
      "Epoch 7/100\n",
      "32/32 - 0s - loss: 0.3682 - 32ms/epoch - 1ms/step\n",
      "Epoch 8/100\n",
      "32/32 - 0s - loss: 0.3545 - 30ms/epoch - 927us/step\n",
      "Epoch 9/100\n",
      "32/32 - 0s - loss: 0.3504 - 30ms/epoch - 943us/step\n",
      "Epoch 10/100\n",
      "32/32 - 0s - loss: 0.3548 - 27ms/epoch - 834us/step\n",
      "Epoch 11/100\n",
      "32/32 - 0s - loss: 0.3484 - 38ms/epoch - 1ms/step\n",
      "Epoch 12/100\n",
      "32/32 - 0s - loss: 0.3487 - 30ms/epoch - 934us/step\n",
      "Epoch 13/100\n",
      "32/32 - 0s - loss: 0.3593 - 37ms/epoch - 1ms/step\n",
      "Epoch 14/100\n",
      "32/32 - 0s - loss: 0.3513 - 32ms/epoch - 999us/step\n",
      "Epoch 15/100\n",
      "32/32 - 0s - loss: 0.3505 - 30ms/epoch - 935us/step\n",
      "Epoch 16/100\n",
      "32/32 - 0s - loss: 0.3553 - 30ms/epoch - 933us/step\n",
      "Epoch 17/100\n",
      "32/32 - 0s - loss: 0.3562 - 36ms/epoch - 1ms/step\n",
      "Epoch 18/100\n",
      "32/32 - 0s - loss: 0.3471 - 34ms/epoch - 1ms/step\n",
      "Epoch 19/100\n",
      "32/32 - 0s - loss: 0.3488 - 39ms/epoch - 1ms/step\n",
      "Epoch 20/100\n",
      "32/32 - 0s - loss: 0.3467 - 29ms/epoch - 910us/step\n",
      "Epoch 21/100\n",
      "32/32 - 0s - loss: 0.3494 - 32ms/epoch - 990us/step\n",
      "Epoch 22/100\n",
      "32/32 - 0s - loss: 0.3544 - 31ms/epoch - 962us/step\n",
      "Epoch 23/100\n",
      "32/32 - 0s - loss: 0.3448 - 32ms/epoch - 999us/step\n",
      "Epoch 24/100\n",
      "32/32 - 0s - loss: 0.3515 - 37ms/epoch - 1ms/step\n",
      "Epoch 25/100\n",
      "32/32 - 0s - loss: 0.3489 - 34ms/epoch - 1ms/step\n",
      "Epoch 26/100\n",
      "32/32 - 0s - loss: 0.3452 - 36ms/epoch - 1ms/step\n",
      "Epoch 27/100\n",
      "32/32 - 0s - loss: 0.3522 - 35ms/epoch - 1ms/step\n",
      "Epoch 28/100\n",
      "32/32 - 0s - loss: 0.3519 - 33ms/epoch - 1ms/step\n",
      "Epoch 29/100\n",
      "32/32 - 0s - loss: 0.3407 - 31ms/epoch - 967us/step\n",
      "Epoch 30/100\n",
      "32/32 - 0s - loss: 0.3439 - 28ms/epoch - 873us/step\n",
      "Epoch 31/100\n",
      "32/32 - 0s - loss: 0.3506 - 30ms/epoch - 945us/step\n",
      "Epoch 32/100\n",
      "32/32 - 0s - loss: 0.3521 - 30ms/epoch - 942us/step\n",
      "Epoch 33/100\n",
      "32/32 - 0s - loss: 0.3594 - 30ms/epoch - 936us/step\n",
      "Epoch 34/100\n",
      "32/32 - 0s - loss: 0.3525 - 35ms/epoch - 1ms/step\n",
      "Epoch 35/100\n",
      "32/32 - 0s - loss: 0.3463 - 32ms/epoch - 997us/step\n",
      "Epoch 36/100\n",
      "32/32 - 0s - loss: 0.3522 - 30ms/epoch - 942us/step\n",
      "Epoch 37/100\n",
      "32/32 - 0s - loss: 0.3579 - 31ms/epoch - 965us/step\n",
      "Epoch 38/100\n",
      "32/32 - 0s - loss: 0.3524 - 28ms/epoch - 860us/step\n",
      "Epoch 39/100\n",
      "32/32 - 0s - loss: 0.3497 - 28ms/epoch - 862us/step\n",
      "Epoch 40/100\n",
      "32/32 - 0s - loss: 0.3537 - 32ms/epoch - 995us/step\n",
      "Epoch 41/100\n",
      "32/32 - 0s - loss: 0.3454 - 34ms/epoch - 1ms/step\n",
      "Epoch 42/100\n",
      "32/32 - 0s - loss: 0.3590 - 35ms/epoch - 1ms/step\n",
      "Epoch 43/100\n",
      "32/32 - 0s - loss: 0.3573 - 35ms/epoch - 1ms/step\n",
      "Epoch 44/100\n",
      "32/32 - 0s - loss: 0.3525 - 30ms/epoch - 942us/step\n",
      "Epoch 45/100\n",
      "32/32 - 0s - loss: 0.3515 - 30ms/epoch - 925us/step\n",
      "Epoch 46/100\n",
      "32/32 - 0s - loss: 0.3448 - 30ms/epoch - 942us/step\n",
      "Epoch 47/100\n",
      "32/32 - 0s - loss: 0.3454 - 30ms/epoch - 935us/step\n",
      "Epoch 48/100\n",
      "32/32 - 0s - loss: 0.3514 - 30ms/epoch - 937us/step\n",
      "Epoch 49/100\n",
      "32/32 - 0s - loss: 0.3584 - 28ms/epoch - 884us/step\n",
      "Epoch 50/100\n",
      "32/32 - 0s - loss: 0.3438 - 30ms/epoch - 951us/step\n",
      "Epoch 51/100\n",
      "32/32 - 0s - loss: 0.3463 - 30ms/epoch - 935us/step\n",
      "Epoch 52/100\n",
      "32/32 - 0s - loss: 0.3524 - 35ms/epoch - 1ms/step\n",
      "Epoch 53/100\n",
      "32/32 - 0s - loss: 0.3428 - 26ms/epoch - 821us/step\n",
      "Epoch 54/100\n",
      "32/32 - 0s - loss: 0.3528 - 32ms/epoch - 996us/step\n",
      "Epoch 55/100\n",
      "32/32 - 0s - loss: 0.3457 - 30ms/epoch - 926us/step\n",
      "Epoch 56/100\n",
      "32/32 - 0s - loss: 0.3466 - 30ms/epoch - 935us/step\n",
      "Epoch 57/100\n",
      "32/32 - 0s - loss: 0.3552 - 35ms/epoch - 1ms/step\n",
      "Epoch 58/100\n",
      "32/32 - 0s - loss: 0.3460 - 40ms/epoch - 1ms/step\n",
      "Epoch 59/100\n",
      "32/32 - 0s - loss: 0.3478 - 30ms/epoch - 941us/step\n",
      "Epoch 60/100\n",
      "32/32 - 0s - loss: 0.3487 - 30ms/epoch - 943us/step\n",
      "Epoch 61/100\n",
      "32/32 - 0s - loss: 0.3483 - 35ms/epoch - 1ms/step\n",
      "Epoch 62/100\n",
      "32/32 - 0s - loss: 0.3524 - 28ms/epoch - 873us/step\n",
      "Epoch 63/100\n",
      "32/32 - 0s - loss: 0.3525 - 32ms/epoch - 1ms/step\n",
      "Epoch 64/100\n",
      "32/32 - 0s - loss: 0.3454 - 31ms/epoch - 953us/step\n",
      "Epoch 65/100\n",
      "32/32 - 0s - loss: 0.3484 - 30ms/epoch - 927us/step\n",
      "Epoch 66/100\n",
      "32/32 - 0s - loss: 0.3516 - 30ms/epoch - 950us/step\n",
      "Epoch 67/100\n",
      "32/32 - 0s - loss: 0.3491 - 32ms/epoch - 1ms/step\n",
      "Epoch 68/100\n",
      "32/32 - 0s - loss: 0.3523 - 28ms/epoch - 874us/step\n",
      "Epoch 69/100\n",
      "32/32 - 0s - loss: 0.3473 - 31ms/epoch - 977us/step\n",
      "Epoch 70/100\n",
      "32/32 - 0s - loss: 0.3527 - 29ms/epoch - 921us/step\n",
      "Epoch 71/100\n",
      "32/32 - 0s - loss: 0.3578 - 28ms/epoch - 866us/step\n",
      "Epoch 72/100\n",
      "32/32 - 0s - loss: 0.3459 - 27ms/epoch - 843us/step\n",
      "Epoch 73/100\n",
      "32/32 - 0s - loss: 0.3514 - 25ms/epoch - 770us/step\n",
      "Epoch 74/100\n",
      "32/32 - 0s - loss: 0.3499 - 25ms/epoch - 781us/step\n",
      "Epoch 75/100\n",
      "32/32 - 0s - loss: 0.3482 - 30ms/epoch - 938us/step\n",
      "Epoch 76/100\n",
      "32/32 - 0s - loss: 0.3517 - 50ms/epoch - 2ms/step\n",
      "Epoch 77/100\n",
      "32/32 - 0s - loss: 0.3540 - 54ms/epoch - 2ms/step\n",
      "Epoch 78/100\n",
      "32/32 - 0s - loss: 0.3413 - 57ms/epoch - 2ms/step\n",
      "Epoch 79/100\n",
      "32/32 - 0s - loss: 0.3519 - 65ms/epoch - 2ms/step\n",
      "Epoch 80/100\n",
      "32/32 - 0s - loss: 0.3541 - 60ms/epoch - 2ms/step\n",
      "Epoch 81/100\n",
      "32/32 - 0s - loss: 0.3523 - 65ms/epoch - 2ms/step\n",
      "Epoch 82/100\n",
      "32/32 - 0s - loss: 0.3508 - 68ms/epoch - 2ms/step\n",
      "Epoch 83/100\n",
      "32/32 - 0s - loss: 0.3522 - 55ms/epoch - 2ms/step\n",
      "Epoch 84/100\n",
      "32/32 - 0s - loss: 0.3464 - 60ms/epoch - 2ms/step\n",
      "Epoch 85/100\n",
      "32/32 - 0s - loss: 0.3517 - 57ms/epoch - 2ms/step\n",
      "Epoch 86/100\n",
      "32/32 - 0s - loss: 0.3485 - 50ms/epoch - 2ms/step\n",
      "Epoch 87/100\n",
      "32/32 - 0s - loss: 0.3583 - 58ms/epoch - 2ms/step\n",
      "Epoch 88/100\n",
      "32/32 - 0s - loss: 0.3526 - 58ms/epoch - 2ms/step\n",
      "Epoch 89/100\n",
      "32/32 - 0s - loss: 0.3515 - 56ms/epoch - 2ms/step\n",
      "Epoch 90/100\n",
      "32/32 - 0s - loss: 0.3524 - 59ms/epoch - 2ms/step\n",
      "Epoch 91/100\n",
      "32/32 - 0s - loss: 0.3523 - 60ms/epoch - 2ms/step\n",
      "Epoch 92/100\n",
      "32/32 - 0s - loss: 0.3518 - 60ms/epoch - 2ms/step\n",
      "Epoch 93/100\n",
      "32/32 - 0s - loss: 0.3524 - 70ms/epoch - 2ms/step\n",
      "Epoch 94/100\n",
      "32/32 - 0s - loss: 0.3514 - 60ms/epoch - 2ms/step\n",
      "Epoch 95/100\n",
      "32/32 - 0s - loss: 0.3515 - 68ms/epoch - 2ms/step\n",
      "Epoch 96/100\n",
      "32/32 - 0s - loss: 0.3502 - 64ms/epoch - 2ms/step\n",
      "Epoch 97/100\n",
      "32/32 - 0s - loss: 0.3402 - 59ms/epoch - 2ms/step\n",
      "Epoch 98/100\n",
      "32/32 - 0s - loss: 0.3451 - 72ms/epoch - 2ms/step\n",
      "Epoch 99/100\n",
      "32/32 - 0s - loss: 0.3442 - 71ms/epoch - 2ms/step\n",
      "Epoch 100/100\n",
      "32/32 - 0s - loss: 0.3571 - 68ms/epoch - 2ms/step\n"
     ]
    },
    {
     "data": {
      "text/plain": [
       "<keras.callbacks.History at 0x2e086716e90>"
      ]
     },
     "execution_count": 6,
     "metadata": {},
     "output_type": "execute_result"
    }
   ],
   "source": [
    "optimization = tf.keras.optimizers.SGD(learning_rate)\n",
    "\n",
    "model.compile(optimization, loss='mean_squared_error')\n",
    "\n",
    "model.fit(training_data['inputs'], training_data['target'], epochs=100, verbose=2)"
   ]
  },
  {
   "cell_type": "markdown",
   "id": "30effa7f",
   "metadata": {},
   "source": [
    "## Checking weights and bias"
   ]
  },
  {
   "cell_type": "code",
   "execution_count": 7,
   "id": "e62a125e",
   "metadata": {},
   "outputs": [],
   "source": [
    "weights = model.layers[0].get_weights()[0]\n",
    "bias = model.layers[0].get_weights()[1]"
   ]
  },
  {
   "cell_type": "code",
   "execution_count": 8,
   "id": "91fb5cce",
   "metadata": {},
   "outputs": [
    {
     "name": "stdout",
     "output_type": "stream",
     "text": [
      "weight[[19.964163]\n",
      " [11.965107]]\n",
      "bias[6.998841]\n"
     ]
    }
   ],
   "source": [
    "print('weight'+ str(weights))\n",
    "print('bias' + str(bias))"
   ]
  },
  {
   "cell_type": "markdown",
   "id": "9fbe9025",
   "metadata": {},
   "source": [
    "## Prediction"
   ]
  },
  {
   "cell_type": "code",
   "execution_count": 11,
   "id": "1a87cd01",
   "metadata": {},
   "outputs": [],
   "source": [
    "outputs = model.predict_on_batch(training_data['inputs'])"
   ]
  },
  {
   "cell_type": "markdown",
   "id": "c7ebe8a8",
   "metadata": {},
   "source": [
    "## Plot the data"
   ]
  },
  {
   "cell_type": "code",
   "execution_count": 13,
   "id": "2bd0ccff",
   "metadata": {},
   "outputs": [
    {
     "data": {
      "image/png": "[encoded data removed]",
      "text/plain": [
       "<Figure size 640x480 with 1 Axes>"
      ]
     },
     "metadata": {},
     "output_type": "display_data"
    }
   ],
   "source": [
    "plt.plot(np.squeeze(outputs), np.squeeze(training_data['target']))\n",
    "plt.xlabel('outputs')\n",
    "plt.ylabel('targets')\n",
    "plt.show()"
   ]
  }
 ],
 "metadata": {
  "kernelspec": {
   "display_name": "Python 3 (ipykernel)",
   "language": "python",
   "name": "python3"
  },
  "language_info": {
   "codemirror_mode": {
    "name": "ipython",
    "version": 3
   },
   "file_extension": ".py",
   "mimetype": "text/x-python",
   "name": "python",
   "nbconvert_exporter": "python",
   "pygments_lexer": "ipython3",
   "version": "3.10.12"
  }
 },
 "nbformat": 4,
 "nbformat_minor": 5
}
