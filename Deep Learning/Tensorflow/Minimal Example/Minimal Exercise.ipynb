{
 "cells": [
  {
   "cell_type": "code",
   "execution_count": 1,
   "id": "1d8e9fa9",
   "metadata": {},
   "outputs": [],
   "source": [
    "import numpy as np\n",
    "import matplotlib.pyplot as plt\n",
    "import tensorflow as tf"
   ]
  },
  {
   "cell_type": "markdown",
   "id": "7bdafb79",
   "metadata": {},
   "source": [
    "## f(x,z) = 13*xs + 7*zs - 12"
   ]
  },
  {
   "cell_type": "markdown",
   "id": "767aa8ca",
   "metadata": {},
   "source": [
    "## Generate data"
   ]
  },
  {
   "cell_type": "code",
   "execution_count": 2,
   "id": "561a12fd",
   "metadata": {},
   "outputs": [],
   "source": [
    "observation = 1000\n",
    "\n",
    "xs = np.random.uniform(-10,10,size=(observation,1))\n",
    "zs = np.random.uniform(-10,10,size=(observation,1))\n",
    "generated_inputs = np.column_stack((xs,zs))\n",
    "\n",
    "noise = np.random.uniform(-10,10,size=(observation,1))\n",
    "\n",
    "generated_targets = 13*xs + 7*zs - 12 + noise\n",
    "\n",
    "np.savez('Minimal Exercise', inputs=generated_inputs, targets=generated_targets)"
   ]
  },
  {
   "cell_type": "markdown",
   "id": "9be62388",
   "metadata": {},
   "source": [
    "## Data"
   ]
  },
  {
   "cell_type": "code",
   "execution_count": 3,
   "id": "5e4a7b7b",
   "metadata": {},
   "outputs": [],
   "source": [
    "training_data = np.load('Minimal Exercise.npz')"
   ]
  },
  {
   "cell_type": "code",
   "execution_count": 4,
   "id": "a3288ed4",
   "metadata": {},
   "outputs": [
    {
     "data": {
      "text/plain": [
       "array([[-1.44064303,  7.23663954],\n",
       "       [-2.49211858, -6.53626935],\n",
       "       [ 3.76456883, -2.17222386],\n",
       "       ...,\n",
       "       [-2.14127511,  8.44218688],\n",
       "       [ 7.63702295, -4.00364546],\n",
       "       [-3.20306093,  1.99008536]])"
      ]
     },
     "execution_count": 4,
     "metadata": {},
     "output_type": "execute_result"
    }
   ],
   "source": [
    "training_data['inputs']"
   ]
  },
  {
   "cell_type": "markdown",
   "id": "f032020a",
   "metadata": {},
   "source": [
    "## Model"
   ]
  },
  {
   "cell_type": "code",
   "execution_count": 5,
   "id": "7bce758b",
   "metadata": {},
   "outputs": [],
   "source": [
    "output_size = 1\n",
    "\n",
    "model = tf.keras.Sequential([\n",
    "    tf.keras.layers.Dense(\n",
    "        output_size, \n",
    "        kernel_initializer=tf.random_uniform_initializer(minval=-0.1,maxval=0.1),\n",
    "        bias_initializer=tf.random_uniform_initializer(minval=-0.1,maxval=0.1)\n",
    "        )\n",
    "    ])"
   ]
  },
  {
   "cell_type": "markdown",
   "id": "97a6cb42",
   "metadata": {},
   "source": [
    "## Objective Functions"
   ]
  },
  {
   "cell_type": "code",
   "execution_count": 6,
   "id": "2cf36418",
   "metadata": {},
   "outputs": [],
   "source": [
    "# learning rate\n",
    "customized_learning = tf.keras.optimizers.SGD(learning_rate=0.01)"
   ]
  },
  {
   "cell_type": "code",
   "execution_count": 9,
   "id": "2c60cfb2",
   "metadata": {
    "collapsed": true
   },
   "outputs": [
    {
     "name": "stdout",
     "output_type": "stream",
     "text": [
      "Epoch 1/100\n",
      "32/32 - 0s - loss: 33.4023 - 223ms/epoch - 7ms/step\n",
      "Epoch 2/100\n",
      "32/32 - 0s - loss: 32.7903 - 35ms/epoch - 1ms/step\n",
      "Epoch 3/100\n",
      "32/32 - 0s - loss: 32.9492 - 33ms/epoch - 1ms/step\n",
      "Epoch 4/100\n",
      "32/32 - 0s - loss: 32.6679 - 34ms/epoch - 1ms/step\n",
      "Epoch 5/100\n",
      "32/32 - 0s - loss: 32.9531 - 34ms/epoch - 1ms/step\n",
      "Epoch 6/100\n",
      "32/32 - 0s - loss: 32.5419 - 30ms/epoch - 944us/step\n",
      "Epoch 7/100\n",
      "32/32 - 0s - loss: 32.9619 - 30ms/epoch - 944us/step\n",
      "Epoch 8/100\n",
      "32/32 - 0s - loss: 32.8530 - 32ms/epoch - 997us/step\n",
      "Epoch 9/100\n",
      "32/32 - 0s - loss: 32.8325 - 33ms/epoch - 1ms/step\n",
      "Epoch 10/100\n",
      "32/32 - 0s - loss: 32.6031 - 33ms/epoch - 1ms/step\n",
      "Epoch 11/100\n",
      "32/32 - 0s - loss: 32.9296 - 36ms/epoch - 1ms/step\n",
      "Epoch 12/100\n",
      "32/32 - 0s - loss: 32.7244 - 33ms/epoch - 1ms/step\n",
      "Epoch 13/100\n",
      "32/32 - 0s - loss: 33.1776 - 32ms/epoch - 1000us/step\n",
      "Epoch 14/100\n",
      "32/32 - 0s - loss: 32.8398 - 33ms/epoch - 1ms/step\n",
      "Epoch 15/100\n",
      "32/32 - 0s - loss: 33.3843 - 32ms/epoch - 1ms/step\n",
      "Epoch 16/100\n",
      "32/32 - 0s - loss: 32.7729 - 34ms/epoch - 1ms/step\n",
      "Epoch 17/100\n",
      "32/32 - 0s - loss: 33.0130 - 32ms/epoch - 990us/step\n",
      "Epoch 18/100\n",
      "32/32 - 0s - loss: 32.7875 - 31ms/epoch - 963us/step\n",
      "Epoch 19/100\n",
      "32/32 - 0s - loss: 32.5151 - 31ms/epoch - 960us/step\n",
      "Epoch 20/100\n",
      "32/32 - 0s - loss: 32.7752 - 32ms/epoch - 999us/step\n",
      "Epoch 21/100\n",
      "32/32 - 0s - loss: 33.1893 - 40ms/epoch - 1ms/step\n",
      "Epoch 22/100\n",
      "32/32 - 0s - loss: 32.7507 - 35ms/epoch - 1ms/step\n",
      "Epoch 23/100\n",
      "32/32 - 0s - loss: 32.6249 - 39ms/epoch - 1ms/step\n",
      "Epoch 24/100\n",
      "32/32 - 0s - loss: 33.1185 - 38ms/epoch - 1ms/step\n",
      "Epoch 25/100\n",
      "32/32 - 0s - loss: 32.4510 - 36ms/epoch - 1ms/step\n",
      "Epoch 26/100\n",
      "32/32 - 0s - loss: 32.9571 - 33ms/epoch - 1ms/step\n",
      "Epoch 27/100\n",
      "32/32 - 0s - loss: 33.7391 - 36ms/epoch - 1ms/step\n",
      "Epoch 28/100\n",
      "32/32 - 0s - loss: 32.8703 - 33ms/epoch - 1ms/step\n",
      "Epoch 29/100\n",
      "32/32 - 0s - loss: 33.5754 - 31ms/epoch - 964us/step\n",
      "Epoch 30/100\n",
      "32/32 - 0s - loss: 32.4730 - 36ms/epoch - 1ms/step\n",
      "Epoch 31/100\n",
      "32/32 - 0s - loss: 33.2648 - 39ms/epoch - 1ms/step\n",
      "Epoch 32/100\n",
      "32/32 - 0s - loss: 33.1812 - 36ms/epoch - 1ms/step\n",
      "Epoch 33/100\n",
      "32/32 - 0s - loss: 32.1868 - 39ms/epoch - 1ms/step\n",
      "Epoch 34/100\n",
      "32/32 - 0s - loss: 32.6673 - 36ms/epoch - 1ms/step\n",
      "Epoch 35/100\n",
      "32/32 - 0s - loss: 32.7530 - 35ms/epoch - 1ms/step\n",
      "Epoch 36/100\n",
      "32/32 - 0s - loss: 32.4878 - 37ms/epoch - 1ms/step\n",
      "Epoch 37/100\n",
      "32/32 - 0s - loss: 32.9821 - 34ms/epoch - 1ms/step\n",
      "Epoch 38/100\n",
      "32/32 - 0s - loss: 32.6492 - 34ms/epoch - 1ms/step\n",
      "Epoch 39/100\n",
      "32/32 - 0s - loss: 33.2086 - 34ms/epoch - 1ms/step\n",
      "Epoch 40/100\n",
      "32/32 - 0s - loss: 32.4658 - 36ms/epoch - 1ms/step\n",
      "Epoch 41/100\n",
      "32/32 - 0s - loss: 32.8621 - 34ms/epoch - 1ms/step\n",
      "Epoch 42/100\n",
      "32/32 - 0s - loss: 32.7497 - 35ms/epoch - 1ms/step\n",
      "Epoch 43/100\n",
      "32/32 - 0s - loss: 33.9054 - 32ms/epoch - 989us/step\n",
      "Epoch 44/100\n",
      "32/32 - 0s - loss: 33.0918 - 31ms/epoch - 972us/step\n",
      "Epoch 45/100\n",
      "32/32 - 0s - loss: 33.7514 - 30ms/epoch - 926us/step\n",
      "Epoch 46/100\n",
      "32/32 - 0s - loss: 32.8236 - 31ms/epoch - 972us/step\n",
      "Epoch 47/100\n",
      "32/32 - 0s - loss: 32.7904 - 33ms/epoch - 1ms/step\n",
      "Epoch 48/100\n",
      "32/32 - 0s - loss: 33.0081 - 32ms/epoch - 1ms/step\n",
      "Epoch 49/100\n",
      "32/32 - 0s - loss: 32.7831 - 33ms/epoch - 1ms/step\n",
      "Epoch 50/100\n",
      "32/32 - 0s - loss: 33.6598 - 34ms/epoch - 1ms/step\n",
      "Epoch 51/100\n",
      "32/32 - 0s - loss: 32.7048 - 31ms/epoch - 954us/step\n",
      "Epoch 52/100\n",
      "32/32 - 0s - loss: 33.1861 - 33ms/epoch - 1ms/step\n",
      "Epoch 53/100\n",
      "32/32 - 0s - loss: 33.2654 - 32ms/epoch - 1ms/step\n",
      "Epoch 54/100\n",
      "32/32 - 0s - loss: 32.5682 - 35ms/epoch - 1ms/step\n",
      "Epoch 55/100\n",
      "32/32 - 0s - loss: 32.0751 - 31ms/epoch - 974us/step\n",
      "Epoch 56/100\n",
      "32/32 - 0s - loss: 32.8976 - 35ms/epoch - 1ms/step\n",
      "Epoch 57/100\n",
      "32/32 - 0s - loss: 32.7414 - 36ms/epoch - 1ms/step\n",
      "Epoch 58/100\n",
      "32/32 - 0s - loss: 33.7815 - 36ms/epoch - 1ms/step\n",
      "Epoch 59/100\n",
      "32/32 - 0s - loss: 33.0249 - 34ms/epoch - 1ms/step\n",
      "Epoch 60/100\n",
      "32/32 - 0s - loss: 33.1209 - 38ms/epoch - 1ms/step\n",
      "Epoch 61/100\n",
      "32/32 - 0s - loss: 32.8649 - 37ms/epoch - 1ms/step\n",
      "Epoch 62/100\n",
      "32/32 - 0s - loss: 33.0426 - 37ms/epoch - 1ms/step\n",
      "Epoch 63/100\n",
      "32/32 - 0s - loss: 33.0463 - 36ms/epoch - 1ms/step\n",
      "Epoch 64/100\n",
      "32/32 - 0s - loss: 33.0371 - 38ms/epoch - 1ms/step\n",
      "Epoch 65/100\n",
      "32/32 - 0s - loss: 32.6427 - 38ms/epoch - 1ms/step\n",
      "Epoch 66/100\n",
      "32/32 - 0s - loss: 32.8191 - 35ms/epoch - 1ms/step\n",
      "Epoch 67/100\n",
      "32/32 - 0s - loss: 33.2507 - 38ms/epoch - 1ms/step\n",
      "Epoch 68/100\n",
      "32/32 - 0s - loss: 32.7257 - 37ms/epoch - 1ms/step\n",
      "Epoch 69/100\n",
      "32/32 - 0s - loss: 33.1873 - 34ms/epoch - 1ms/step\n",
      "Epoch 70/100\n",
      "32/32 - 0s - loss: 32.6980 - 37ms/epoch - 1ms/step\n",
      "Epoch 71/100\n",
      "32/32 - 0s - loss: 32.6062 - 38ms/epoch - 1ms/step\n",
      "Epoch 72/100\n",
      "32/32 - 0s - loss: 33.1101 - 34ms/epoch - 1ms/step\n",
      "Epoch 73/100\n",
      "32/32 - 0s - loss: 32.3822 - 32ms/epoch - 1000us/step\n",
      "Epoch 74/100\n",
      "32/32 - 0s - loss: 32.9976 - 31ms/epoch - 976us/step\n",
      "Epoch 75/100\n",
      "32/32 - 0s - loss: 33.2288 - 34ms/epoch - 1ms/step\n",
      "Epoch 76/100\n",
      "32/32 - 0s - loss: 33.0483 - 44ms/epoch - 1ms/step\n",
      "Epoch 77/100\n",
      "32/32 - 0s - loss: 32.8721 - 37ms/epoch - 1ms/step\n",
      "Epoch 78/100\n",
      "32/32 - 0s - loss: 32.6857 - 43ms/epoch - 1ms/step\n",
      "Epoch 79/100\n",
      "32/32 - 0s - loss: 32.2985 - 40ms/epoch - 1ms/step\n",
      "Epoch 80/100\n",
      "32/32 - 0s - loss: 32.8632 - 36ms/epoch - 1ms/step\n",
      "Epoch 81/100\n",
      "32/32 - 0s - loss: 33.0475 - 37ms/epoch - 1ms/step\n",
      "Epoch 82/100\n",
      "32/32 - 0s - loss: 32.8742 - 37ms/epoch - 1ms/step\n",
      "Epoch 83/100\n",
      "32/32 - 0s - loss: 32.1060 - 36ms/epoch - 1ms/step\n",
      "Epoch 84/100\n",
      "32/32 - 0s - loss: 32.6309 - 40ms/epoch - 1ms/step\n",
      "Epoch 85/100\n",
      "32/32 - 0s - loss: 33.0822 - 41ms/epoch - 1ms/step\n",
      "Epoch 86/100\n",
      "32/32 - 0s - loss: 32.6526 - 42ms/epoch - 1ms/step\n",
      "Epoch 87/100\n",
      "32/32 - 0s - loss: 33.1190 - 36ms/epoch - 1ms/step\n",
      "Epoch 88/100\n",
      "32/32 - 0s - loss: 32.9490 - 33ms/epoch - 1ms/step\n",
      "Epoch 89/100\n",
      "32/32 - 0s - loss: 32.6482 - 31ms/epoch - 969us/step\n",
      "Epoch 90/100\n",
      "32/32 - 0s - loss: 32.8958 - 33ms/epoch - 1ms/step\n",
      "Epoch 91/100\n",
      "32/32 - 0s - loss: 32.8916 - 35ms/epoch - 1ms/step\n",
      "Epoch 92/100\n",
      "32/32 - 0s - loss: 32.8444 - 39ms/epoch - 1ms/step\n",
      "Epoch 93/100\n",
      "32/32 - 0s - loss: 33.3308 - 34ms/epoch - 1ms/step\n",
      "Epoch 94/100\n",
      "32/32 - 0s - loss: 32.5717 - 37ms/epoch - 1ms/step\n",
      "Epoch 95/100\n",
      "32/32 - 0s - loss: 33.3109 - 37ms/epoch - 1ms/step\n",
      "Epoch 96/100\n",
      "32/32 - 0s - loss: 32.6270 - 48ms/epoch - 1ms/step\n",
      "Epoch 97/100\n",
      "32/32 - 0s - loss: 32.0460 - 56ms/epoch - 2ms/step\n",
      "Epoch 98/100\n",
      "32/32 - 0s - loss: 32.8769 - 58ms/epoch - 2ms/step\n",
      "Epoch 99/100\n",
      "32/32 - 0s - loss: 32.8961 - 43ms/epoch - 1ms/step\n",
      "Epoch 100/100\n",
      "32/32 - 0s - loss: 33.1298 - 39ms/epoch - 1ms/step\n"
     ]
    },
    {
     "data": {
      "text/plain": [
       "<keras.callbacks.History at 0x26ca267bcd0>"
      ]
     },
     "execution_count": 9,
     "metadata": {},
     "output_type": "execute_result"
    }
   ],
   "source": [
    "model.compile(optimizer=customized_learning, loss='mean_squared_error')\n",
    "model.fit(training_data['inputs'], training_data['targets'], epochs=100, verbose=2)"
   ]
  },
  {
   "cell_type": "markdown",
   "id": "57633d76",
   "metadata": {},
   "source": [
    "## Extract weights and bias"
   ]
  },
  {
   "cell_type": "code",
   "execution_count": 8,
   "id": "4e9183eb",
   "metadata": {},
   "outputs": [
    {
     "data": {
      "text/plain": [
       "[array([[13.41045  ],\n",
       "        [ 6.8517995]], dtype=float32),\n",
       " array([-12.314577], dtype=float32)]"
      ]
     },
     "execution_count": 8,
     "metadata": {},
     "output_type": "execute_result"
    }
   ],
   "source": [
    "model.layers[0].get_weights()"
   ]
  },
  {
   "cell_type": "code",
   "execution_count": 12,
   "id": "3303d34a",
   "metadata": {},
   "outputs": [
    {
     "name": "stdout",
     "output_type": "stream",
     "text": [
      "weights: [[13.120519 ]\n",
      " [ 6.9249663]]\n",
      "bias: [-12.413222]\n"
     ]
    }
   ],
   "source": [
    "print('weights: ' + str(model.layers[0].get_weights()[0]))\n",
    "print('bias: ' + str(model.layers[0].get_weights()[1]))"
   ]
  },
  {
   "cell_type": "markdown",
   "id": "1cf7578a",
   "metadata": {},
   "source": [
    "## Make prediction"
   ]
  },
  {
   "cell_type": "code",
   "execution_count": 14,
   "id": "081143d4",
   "metadata": {},
   "outputs": [],
   "source": [
    "prediction = model.predict_on_batch(training_data['inputs'])"
   ]
  },
  {
   "cell_type": "markdown",
   "id": "22415f71",
   "metadata": {},
   "source": [
    "## Plot the targets vs prediction/output"
   ]
  },
  {
   "cell_type": "code",
   "execution_count": 17,
   "id": "c522ac92",
   "metadata": {},
   "outputs": [
    {
     "data": {
      "image/png": "[encoded data removed]",
      "text/plain": [
       "<Figure size 640x480 with 1 Axes>"
      ]
     },
     "metadata": {},
     "output_type": "display_data"
    }
   ],
   "source": [
    "plt.plot(np.squeeze(prediction), np.squeeze(training_data['targets']))\n",
    "plt.xlabel('Outputs')\n",
    "plt.ylabel('Targets')\n",
    "plt.show()"
   ]
  },
  {
   "cell_type": "code",
   "execution_count": null,
   "id": "d375ff76",
   "metadata": {},
   "outputs": [],
   "source": []
  }
 ],
 "metadata": {
  "kernelspec": {
   "display_name": "Python 3 (ipykernel)",
   "language": "python",
   "name": "python3"
  },
  "language_info": {
   "codemirror_mode": {
    "name": "ipython",
    "version": 3
   },
   "file_extension": ".py",
   "mimetype": "text/x-python",
   "name": "python",
   "nbconvert_exporter": "python",
   "pygments_lexer": "ipython3",
   "version": "3.10.12"
  }
 },
 "nbformat": 4,
 "nbformat_minor": 5
}
