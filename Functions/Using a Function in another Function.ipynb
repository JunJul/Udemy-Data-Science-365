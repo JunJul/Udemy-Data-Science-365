{
 "cells": [
  {
   "cell_type": "code",
   "execution_count": 1,
   "id": "9196da1b",
   "metadata": {},
   "outputs": [],
   "source": [
    "def wage(w_hours):\n",
    "    return w_hours * 25"
   ]
  },
  {
   "cell_type": "code",
   "execution_count": 2,
   "id": "59aa5dd7",
   "metadata": {},
   "outputs": [],
   "source": [
    "def with_bouns(w_hours):\n",
    "    return wage(w_hours) + 50;"
   ]
  },
  {
   "cell_type": "code",
   "execution_count": 3,
   "id": "470d701c",
   "metadata": {},
   "outputs": [
    {
     "data": {
      "text/plain": [
       "(200, 250)"
      ]
     },
     "execution_count": 3,
     "metadata": {},
     "output_type": "execute_result"
    }
   ],
   "source": [
    "wage(8), with_bouns(8)"
   ]
  },
  {
   "cell_type": "code",
   "execution_count": null,
   "id": "24c315c4",
   "metadata": {},
   "outputs": [],
   "source": []
  }
 ],
 "metadata": {
  "kernelspec": {
   "display_name": "Python 3 (ipykernel)",
   "language": "python",
   "name": "python3"
  },
  "language_info": {
   "codemirror_mode": {
    "name": "ipython",
    "version": 3
   },
   "file_extension": ".py",
   "mimetype": "text/x-python",
   "name": "python",
   "nbconvert_exporter": "python",
   "pygments_lexer": "ipython3",
   "version": "3.11.4"
  }
 },
 "nbformat": 4,
 "nbformat_minor": 5
}
