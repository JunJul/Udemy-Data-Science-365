{
 "cells": [
  {
   "cell_type": "markdown",
   "id": "b9c019f0",
   "metadata": {},
   "source": [
    "shift+enter:create a cell\n",
    "ctrl+enter:run"
   ]
  },
  {
   "cell_type": "code",
   "execution_count": 1,
   "id": "237f76df",
   "metadata": {},
   "outputs": [
    {
     "data": {
      "text/plain": [
       "[1, 2, 3, 4]"
      ]
     },
     "execution_count": 1,
     "metadata": {},
     "output_type": "execute_result"
    }
   ],
   "source": [
    "x=[1,2,3,4]\n",
    "x"
   ]
  },
  {
   "cell_type": "markdown",
   "id": "11cc5d78",
   "metadata": {},
   "source": [
    "M: create markdown\n",
    "   a: create a cell above\n",
    "   b: create a cell below\n",
    "   Y: return to code"
   ]
  },
  {
   "cell_type": "code",
   "execution_count": null,
   "id": "ba7a370a",
   "metadata": {},
   "outputs": [],
   "source": []
  },
  {
   "cell_type": "code",
   "execution_count": 2,
   "id": "899270a3",
   "metadata": {},
   "outputs": [
    {
     "data": {
      "text/plain": [
       "100"
      ]
     },
     "execution_count": 2,
     "metadata": {},
     "output_type": "execute_result"
    }
   ],
   "source": [
    "a = 100\n",
    "a"
   ]
  },
  {
   "cell_type": "code",
   "execution_count": null,
   "id": "b51a6b82",
   "metadata": {},
   "outputs": [],
   "source": []
  }
 ],
 "metadata": {
  "kernelspec": {
   "display_name": "Python 3 (ipykernel)",
   "language": "python",
   "name": "python3"
  },
  "language_info": {
   "codemirror_mode": {
    "name": "ipython",
    "version": 3
   },
   "file_extension": ".py",
   "mimetype": "text/x-python",
   "name": "python",
   "nbconvert_exporter": "python",
   "pygments_lexer": "ipython3",
   "version": "3.11.4"
  }
 },
 "nbformat": 4,
 "nbformat_minor": 5
}
