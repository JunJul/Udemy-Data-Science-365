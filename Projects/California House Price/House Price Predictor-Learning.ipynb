{
 "cells": [
  {
   "cell_type": "code",
   "execution_count": 1,
   "id": "b424b2ab",
   "metadata": {},
   "outputs": [],
   "source": [
    "import numpy as np\n",
    "import tensorflow as tf"
   ]
  },
  {
   "cell_type": "markdown",
   "id": "54665254",
   "metadata": {},
   "source": [
    "## Using tensorflow to build the linear model"
   ]
  },
  {
   "cell_type": "code",
   "execution_count": 2,
   "id": "be1637ee",
   "metadata": {},
   "outputs": [],
   "source": [
    "# load the data\n",
    "npz = np.load('train_data.npz')\n",
    "train_inputs = npz['inputs']\n",
    "train_targets = npz['targets']\n",
    "\n",
    "npz = np.load('validation_data.npz')\n",
    "validation_inputs = npz['inputs']\n",
    "validation_targets = npz['targets']\n",
    "\n",
    "npz = np.load('test_data.npz')\n",
    "test_inputs = npz['inputs']\n",
    "test_targets = npz['targets']"
   ]
  },
  {
   "cell_type": "code",
   "execution_count": 3,
   "id": "1ee31fc5",
   "metadata": {},
   "outputs": [],
   "source": [
    "# set the input size \n",
    "input_size = train_inputs.shape[1]\n",
    "# set the output size\n",
    "output_size = 1\n",
    "# set the number of hidden layer\n",
    "hidden_layer = 100\n",
    "\n",
    "model = tf.keras.Sequential([\n",
    "    #tf.keras.layers.Input(shape=(input_size, )),\n",
    "    tf.keras.layers.Dense(hidden_layer, activation='relu'),\n",
    "    tf.keras.layers.Dense(hidden_layer, activation='relu'),\n",
    "    tf.keras.layers.Dense(output_size)\n",
    "])"
   ]
  },
  {
   "cell_type": "code",
   "execution_count": 4,
   "id": "31045f1e",
   "metadata": {},
   "outputs": [],
   "source": [
    "# set the customized optimizer \n",
    "customized_optimizer = tf.keras.optimizers.Adam(learning_rate=0.1)\n",
    "\n",
    "# compile the model with optimizer, loss function, and specified metrics\n",
    "model.compile(optimizer=customized_optimizer, loss='mean_squared_error', metrics=['mean_squared_error'])"
   ]
  },
  {
   "cell_type": "code",
   "execution_count": 5,
   "id": "eba90d82",
   "metadata": {
    "scrolled": true
   },
   "outputs": [
    {
     "name": "stdout",
     "output_type": "stream",
     "text": [
      "Epoch 1/100\n",
      "75/75 - 1s - loss: 11623884800.0000 - mean_squared_error: 11623884800.0000 - val_loss: 10960492544.0000 - val_mean_squared_error: 10960492544.0000 - 1s/epoch - 14ms/step\n",
      "Epoch 2/100\n",
      "75/75 - 0s - loss: 8002828800.0000 - mean_squared_error: 8002828800.0000 - val_loss: 10444166144.0000 - val_mean_squared_error: 10444167168.0000 - 160ms/epoch - 2ms/step\n",
      "Epoch 3/100\n",
      "75/75 - 0s - loss: 6272423424.0000 - mean_squared_error: 6272423424.0000 - val_loss: 8810565632.0000 - val_mean_squared_error: 8810565632.0000 - 152ms/epoch - 2ms/step\n",
      "Epoch 4/100\n",
      "75/75 - 0s - loss: 6079068160.0000 - mean_squared_error: 6079068160.0000 - val_loss: 11097838592.0000 - val_mean_squared_error: 11097838592.0000 - 154ms/epoch - 2ms/step\n",
      "Epoch 5/100\n",
      "75/75 - 0s - loss: 5692597248.0000 - mean_squared_error: 5692597248.0000 - val_loss: 12928684032.0000 - val_mean_squared_error: 12928684032.0000 - 150ms/epoch - 2ms/step\n",
      "Epoch 6/100\n",
      "75/75 - 0s - loss: 5455290368.0000 - mean_squared_error: 5455290368.0000 - val_loss: 5776991744.0000 - val_mean_squared_error: 5776991744.0000 - 151ms/epoch - 2ms/step\n",
      "Epoch 7/100\n",
      "75/75 - 0s - loss: 5292661248.0000 - mean_squared_error: 5292661248.0000 - val_loss: 5489142784.0000 - val_mean_squared_error: 5489142784.0000 - 174ms/epoch - 2ms/step\n",
      "Epoch 8/100\n",
      "75/75 - 0s - loss: 5716363776.0000 - mean_squared_error: 5716363776.0000 - val_loss: 16310566912.0000 - val_mean_squared_error: 16310566912.0000 - 175ms/epoch - 2ms/step\n",
      "Epoch 9/100\n",
      "75/75 - 0s - loss: 5445568512.0000 - mean_squared_error: 5445568512.0000 - val_loss: 10695065600.0000 - val_mean_squared_error: 10695065600.0000 - 180ms/epoch - 2ms/step\n",
      "Epoch 10/100\n",
      "75/75 - 0s - loss: 4892955648.0000 - mean_squared_error: 4892956160.0000 - val_loss: 14586775552.0000 - val_mean_squared_error: 14586775552.0000 - 142ms/epoch - 2ms/step\n",
      "Epoch 11/100\n",
      "75/75 - 0s - loss: 4836362752.0000 - mean_squared_error: 4836362240.0000 - val_loss: 9503433728.0000 - val_mean_squared_error: 9503433728.0000 - 127ms/epoch - 2ms/step\n",
      "Epoch 12/100\n",
      "75/75 - 0s - loss: 4347059712.0000 - mean_squared_error: 4347059712.0000 - val_loss: 4545760768.0000 - val_mean_squared_error: 4545760768.0000 - 120ms/epoch - 2ms/step\n",
      "Epoch 13/100\n",
      "75/75 - 0s - loss: 4901334528.0000 - mean_squared_error: 4901334528.0000 - val_loss: 8459489280.0000 - val_mean_squared_error: 8459489280.0000 - 120ms/epoch - 2ms/step\n",
      "Epoch 14/100\n",
      "75/75 - 0s - loss: 4195863040.0000 - mean_squared_error: 4195862528.0000 - val_loss: 7286866944.0000 - val_mean_squared_error: 7286866944.0000 - 120ms/epoch - 2ms/step\n",
      "Epoch 15/100\n",
      "75/75 - 0s - loss: 4712576000.0000 - mean_squared_error: 4712576000.0000 - val_loss: 10756919296.0000 - val_mean_squared_error: 10756919296.0000 - 117ms/epoch - 2ms/step\n",
      "Epoch 16/100\n",
      "75/75 - 0s - loss: 4321375744.0000 - mean_squared_error: 4321375744.0000 - val_loss: 6097734656.0000 - val_mean_squared_error: 6097734656.0000 - 125ms/epoch - 2ms/step\n",
      "Epoch 17/100\n",
      "75/75 - 0s - loss: 4183552512.0000 - mean_squared_error: 4183552512.0000 - val_loss: 6974890496.0000 - val_mean_squared_error: 6974889984.0000 - 128ms/epoch - 2ms/step\n",
      "Epoch 18/100\n",
      "75/75 - 0s - loss: 4294213120.0000 - mean_squared_error: 4294213120.0000 - val_loss: 6159735296.0000 - val_mean_squared_error: 6159735296.0000 - 128ms/epoch - 2ms/step\n",
      "Epoch 19/100\n",
      "75/75 - 0s - loss: 4471224832.0000 - mean_squared_error: 4471224832.0000 - val_loss: 5834486784.0000 - val_mean_squared_error: 5834486784.0000 - 124ms/epoch - 2ms/step\n",
      "Epoch 20/100\n",
      "75/75 - 0s - loss: 4617681408.0000 - mean_squared_error: 4617681408.0000 - val_loss: 14109613056.0000 - val_mean_squared_error: 14109613056.0000 - 125ms/epoch - 2ms/step\n",
      "Epoch 21/100\n",
      "75/75 - 0s - loss: 4286396928.0000 - mean_squared_error: 4286396928.0000 - val_loss: 10956022784.0000 - val_mean_squared_error: 10956022784.0000 - 120ms/epoch - 2ms/step\n",
      "Epoch 22/100\n",
      "75/75 - 0s - loss: 3943235584.0000 - mean_squared_error: 3943235584.0000 - val_loss: 5838348800.0000 - val_mean_squared_error: 5838348800.0000 - 122ms/epoch - 2ms/step\n",
      "Epoch 23/100\n",
      "75/75 - 0s - loss: 3790268672.0000 - mean_squared_error: 3790268672.0000 - val_loss: 4141669120.0000 - val_mean_squared_error: 4141669120.0000 - 123ms/epoch - 2ms/step\n",
      "Epoch 24/100\n",
      "75/75 - 0s - loss: 3837600768.0000 - mean_squared_error: 3837600768.0000 - val_loss: 6169602048.0000 - val_mean_squared_error: 6169602048.0000 - 120ms/epoch - 2ms/step\n",
      "Epoch 25/100\n",
      "75/75 - 0s - loss: 4115505920.0000 - mean_squared_error: 4115505920.0000 - val_loss: 4246857472.0000 - val_mean_squared_error: 4246857472.0000 - 120ms/epoch - 2ms/step\n",
      "Epoch 26/100\n",
      "75/75 - 0s - loss: 3783731712.0000 - mean_squared_error: 3783731712.0000 - val_loss: 4192159744.0000 - val_mean_squared_error: 4192159744.0000 - 125ms/epoch - 2ms/step\n",
      "Epoch 27/100\n",
      "75/75 - 0s - loss: 3820560384.0000 - mean_squared_error: 3820560384.0000 - val_loss: 4339032576.0000 - val_mean_squared_error: 4339032576.0000 - 120ms/epoch - 2ms/step\n",
      "Epoch 28/100\n",
      "75/75 - 0s - loss: 3716790016.0000 - mean_squared_error: 3716790016.0000 - val_loss: 7695379456.0000 - val_mean_squared_error: 7695379456.0000 - 121ms/epoch - 2ms/step\n",
      "Epoch 29/100\n",
      "75/75 - 0s - loss: 3954227712.0000 - mean_squared_error: 3954227712.0000 - val_loss: 6601847296.0000 - val_mean_squared_error: 6601847296.0000 - 121ms/epoch - 2ms/step\n",
      "Epoch 30/100\n",
      "75/75 - 0s - loss: 3770744832.0000 - mean_squared_error: 3770744832.0000 - val_loss: 7830360064.0000 - val_mean_squared_error: 7830360064.0000 - 120ms/epoch - 2ms/step\n",
      "Epoch 31/100\n",
      "75/75 - 0s - loss: 3948081920.0000 - mean_squared_error: 3948082176.0000 - val_loss: 4921431040.0000 - val_mean_squared_error: 4921431040.0000 - 121ms/epoch - 2ms/step\n",
      "Epoch 32/100\n",
      "75/75 - 0s - loss: 4601175552.0000 - mean_squared_error: 4601175552.0000 - val_loss: 4476595712.0000 - val_mean_squared_error: 4476595712.0000 - 125ms/epoch - 2ms/step\n",
      "Epoch 33/100\n",
      "75/75 - 0s - loss: 3761137408.0000 - mean_squared_error: 3761137408.0000 - val_loss: 4373542400.0000 - val_mean_squared_error: 4373542400.0000 - 124ms/epoch - 2ms/step\n",
      "Epoch 34/100\n",
      "75/75 - 0s - loss: 4103866368.0000 - mean_squared_error: 4103866368.0000 - val_loss: 3685914368.0000 - val_mean_squared_error: 3685914368.0000 - 125ms/epoch - 2ms/step\n",
      "Epoch 35/100\n",
      "75/75 - 0s - loss: 5107724800.0000 - mean_squared_error: 5107724800.0000 - val_loss: 6578727936.0000 - val_mean_squared_error: 6578727936.0000 - 120ms/epoch - 2ms/step\n",
      "Epoch 36/100\n",
      "75/75 - 0s - loss: 3862325248.0000 - mean_squared_error: 3862325248.0000 - val_loss: 4507885568.0000 - val_mean_squared_error: 4507885568.0000 - 114ms/epoch - 2ms/step\n",
      "Epoch 37/100\n",
      "75/75 - 0s - loss: 3640476416.0000 - mean_squared_error: 3640476416.0000 - val_loss: 8316931584.0000 - val_mean_squared_error: 8316931584.0000 - 122ms/epoch - 2ms/step\n",
      "Epoch 38/100\n",
      "75/75 - 0s - loss: 4027755264.0000 - mean_squared_error: 4027755264.0000 - val_loss: 4361316352.0000 - val_mean_squared_error: 4361316352.0000 - 120ms/epoch - 2ms/step\n",
      "Epoch 39/100\n",
      "75/75 - 0s - loss: 3977816576.0000 - mean_squared_error: 3977816576.0000 - val_loss: 7338635264.0000 - val_mean_squared_error: 7338635264.0000 - 125ms/epoch - 2ms/step\n",
      "Epoch 40/100\n",
      "75/75 - 0s - loss: 3883844352.0000 - mean_squared_error: 3883844352.0000 - val_loss: 4221110272.0000 - val_mean_squared_error: 4221110272.0000 - 120ms/epoch - 2ms/step\n",
      "Epoch 41/100\n",
      "75/75 - 0s - loss: 3831018240.0000 - mean_squared_error: 3831018240.0000 - val_loss: 4652225024.0000 - val_mean_squared_error: 4652225024.0000 - 125ms/epoch - 2ms/step\n",
      "Epoch 42/100\n",
      "75/75 - 0s - loss: 4375872000.0000 - mean_squared_error: 4375872000.0000 - val_loss: 3986559232.0000 - val_mean_squared_error: 3986559232.0000 - 125ms/epoch - 2ms/step\n",
      "Epoch 43/100\n",
      "75/75 - 0s - loss: 4000912640.0000 - mean_squared_error: 4000912640.0000 - val_loss: 9493387264.0000 - val_mean_squared_error: 9493387264.0000 - 124ms/epoch - 2ms/step\n",
      "Epoch 44/100\n",
      "75/75 - 0s - loss: 3777251072.0000 - mean_squared_error: 3777251072.0000 - val_loss: 4552950784.0000 - val_mean_squared_error: 4552950784.0000 - 122ms/epoch - 2ms/step\n",
      "Epoch 45/100\n",
      "75/75 - 0s - loss: 3990701056.0000 - mean_squared_error: 3990701056.0000 - val_loss: 11818141696.0000 - val_mean_squared_error: 11818141696.0000 - 123ms/epoch - 2ms/step\n",
      "Epoch 46/100\n",
      "75/75 - 0s - loss: 3804906752.0000 - mean_squared_error: 3804907008.0000 - val_loss: 4801564160.0000 - val_mean_squared_error: 4801564160.0000 - 120ms/epoch - 2ms/step\n"
     ]
    },
    {
     "name": "stdout",
     "output_type": "stream",
     "text": [
      "Epoch 47/100\n",
      "75/75 - 0s - loss: 3869220352.0000 - mean_squared_error: 3869220352.0000 - val_loss: 5138880512.0000 - val_mean_squared_error: 5138880512.0000 - 167ms/epoch - 2ms/step\n",
      "Epoch 48/100\n",
      "75/75 - 0s - loss: 3764952064.0000 - mean_squared_error: 3764952064.0000 - val_loss: 6599880704.0000 - val_mean_squared_error: 6599880704.0000 - 180ms/epoch - 2ms/step\n",
      "Epoch 49/100\n",
      "75/75 - 0s - loss: 3713096448.0000 - mean_squared_error: 3713095936.0000 - val_loss: 5067849216.0000 - val_mean_squared_error: 5067849216.0000 - 184ms/epoch - 2ms/step\n",
      "Epoch 50/100\n",
      "75/75 - 0s - loss: 3613609472.0000 - mean_squared_error: 3613609472.0000 - val_loss: 6712853504.0000 - val_mean_squared_error: 6712853504.0000 - 180ms/epoch - 2ms/step\n",
      "Epoch 51/100\n",
      "75/75 - 0s - loss: 3769623040.0000 - mean_squared_error: 3769623040.0000 - val_loss: 6264707072.0000 - val_mean_squared_error: 6264707072.0000 - 180ms/epoch - 2ms/step\n",
      "Epoch 52/100\n",
      "75/75 - 0s - loss: 4202514176.0000 - mean_squared_error: 4202514176.0000 - val_loss: 5651851776.0000 - val_mean_squared_error: 5651851776.0000 - 185ms/epoch - 2ms/step\n",
      "Epoch 53/100\n",
      "75/75 - 0s - loss: 3654608896.0000 - mean_squared_error: 3654608896.0000 - val_loss: 5933059584.0000 - val_mean_squared_error: 5933059584.0000 - 180ms/epoch - 2ms/step\n",
      "Epoch 54/100\n",
      "75/75 - 0s - loss: 3918464512.0000 - mean_squared_error: 3918464512.0000 - val_loss: 7479631360.0000 - val_mean_squared_error: 7479631360.0000 - 187ms/epoch - 2ms/step\n",
      "Epoch 55/100\n",
      "75/75 - 0s - loss: 3780826624.0000 - mean_squared_error: 3780826624.0000 - val_loss: 7972661248.0000 - val_mean_squared_error: 7972661248.0000 - 180ms/epoch - 2ms/step\n",
      "Epoch 56/100\n",
      "75/75 - 0s - loss: 3822983680.0000 - mean_squared_error: 3822983680.0000 - val_loss: 7920813056.0000 - val_mean_squared_error: 7920813056.0000 - 180ms/epoch - 2ms/step\n",
      "Epoch 57/100\n",
      "75/75 - 0s - loss: 3842395904.0000 - mean_squared_error: 3842395904.0000 - val_loss: 5037414912.0000 - val_mean_squared_error: 5037414912.0000 - 175ms/epoch - 2ms/step\n",
      "Epoch 58/100\n",
      "75/75 - 0s - loss: 3692539392.0000 - mean_squared_error: 3692539392.0000 - val_loss: 6513826304.0000 - val_mean_squared_error: 6513826304.0000 - 170ms/epoch - 2ms/step\n",
      "Epoch 59/100\n",
      "75/75 - 0s - loss: 3575443200.0000 - mean_squared_error: 3575443200.0000 - val_loss: 7714685952.0000 - val_mean_squared_error: 7714685952.0000 - 179ms/epoch - 2ms/step\n",
      "Epoch 60/100\n",
      "75/75 - 0s - loss: 3455308032.0000 - mean_squared_error: 3455308032.0000 - val_loss: 3855757056.0000 - val_mean_squared_error: 3855757056.0000 - 183ms/epoch - 2ms/step\n",
      "Epoch 61/100\n",
      "75/75 - 0s - loss: 3726824704.0000 - mean_squared_error: 3726824704.0000 - val_loss: 4181672192.0000 - val_mean_squared_error: 4181672192.0000 - 189ms/epoch - 3ms/step\n",
      "Epoch 62/100\n",
      "75/75 - 0s - loss: 3683166976.0000 - mean_squared_error: 3683166976.0000 - val_loss: 7284822016.0000 - val_mean_squared_error: 7284822016.0000 - 200ms/epoch - 3ms/step\n",
      "Epoch 63/100\n",
      "75/75 - 0s - loss: 3502519296.0000 - mean_squared_error: 3502519296.0000 - val_loss: 5499766272.0000 - val_mean_squared_error: 5499766272.0000 - 170ms/epoch - 2ms/step\n",
      "Epoch 64/100\n",
      "75/75 - 0s - loss: 3434887424.0000 - mean_squared_error: 3434887424.0000 - val_loss: 5245832704.0000 - val_mean_squared_error: 5245832704.0000 - 125ms/epoch - 2ms/step\n",
      "Epoch 65/100\n",
      "75/75 - 0s - loss: 4135831296.0000 - mean_squared_error: 4135831296.0000 - val_loss: 7311950848.0000 - val_mean_squared_error: 7311950848.0000 - 130ms/epoch - 2ms/step\n",
      "Epoch 66/100\n",
      "75/75 - 0s - loss: 3752224256.0000 - mean_squared_error: 3752224256.0000 - val_loss: 5950287872.0000 - val_mean_squared_error: 5950287872.0000 - 125ms/epoch - 2ms/step\n",
      "Epoch 67/100\n",
      "75/75 - 0s - loss: 3499855616.0000 - mean_squared_error: 3499855616.0000 - val_loss: 8972812288.0000 - val_mean_squared_error: 8972812288.0000 - 128ms/epoch - 2ms/step\n",
      "Epoch 68/100\n",
      "75/75 - 0s - loss: 3716289792.0000 - mean_squared_error: 3716289792.0000 - val_loss: 5071810560.0000 - val_mean_squared_error: 5071810560.0000 - 120ms/epoch - 2ms/step\n",
      "Epoch 69/100\n",
      "75/75 - 0s - loss: 3542893568.0000 - mean_squared_error: 3542893568.0000 - val_loss: 5702568448.0000 - val_mean_squared_error: 5702568448.0000 - 130ms/epoch - 2ms/step\n",
      "Epoch 70/100\n",
      "75/75 - 0s - loss: 3446280704.0000 - mean_squared_error: 3446280704.0000 - val_loss: 12235074560.0000 - val_mean_squared_error: 12235074560.0000 - 130ms/epoch - 2ms/step\n",
      "Epoch 71/100\n",
      "75/75 - 0s - loss: 3833172224.0000 - mean_squared_error: 3833172224.0000 - val_loss: 8099026432.0000 - val_mean_squared_error: 8099026432.0000 - 125ms/epoch - 2ms/step\n",
      "Epoch 72/100\n",
      "75/75 - 0s - loss: 3431616768.0000 - mean_squared_error: 3431616768.0000 - val_loss: 8135761408.0000 - val_mean_squared_error: 8135761920.0000 - 118ms/epoch - 2ms/step\n",
      "Epoch 73/100\n",
      "75/75 - 0s - loss: 3598272256.0000 - mean_squared_error: 3598272256.0000 - val_loss: 4594065920.0000 - val_mean_squared_error: 4594065920.0000 - 125ms/epoch - 2ms/step\n",
      "Epoch 74/100\n",
      "75/75 - 0s - loss: 3406966016.0000 - mean_squared_error: 3406966016.0000 - val_loss: 5621085184.0000 - val_mean_squared_error: 5621085184.0000 - 130ms/epoch - 2ms/step\n",
      "Epoch 75/100\n",
      "75/75 - 0s - loss: 3397958656.0000 - mean_squared_error: 3397958656.0000 - val_loss: 7554650624.0000 - val_mean_squared_error: 7554650624.0000 - 135ms/epoch - 2ms/step\n",
      "Epoch 76/100\n",
      "75/75 - 0s - loss: 3657838336.0000 - mean_squared_error: 3657838336.0000 - val_loss: 7414300672.0000 - val_mean_squared_error: 7414300672.0000 - 128ms/epoch - 2ms/step\n",
      "Epoch 77/100\n",
      "75/75 - 0s - loss: 3402407424.0000 - mean_squared_error: 3402407424.0000 - val_loss: 6549939712.0000 - val_mean_squared_error: 6549939712.0000 - 125ms/epoch - 2ms/step\n",
      "Epoch 78/100\n",
      "75/75 - 0s - loss: 3346999808.0000 - mean_squared_error: 3346999808.0000 - val_loss: 6483990016.0000 - val_mean_squared_error: 6483990016.0000 - 130ms/epoch - 2ms/step\n",
      "Epoch 79/100\n",
      "75/75 - 0s - loss: 3390756096.0000 - mean_squared_error: 3390756096.0000 - val_loss: 8632122368.0000 - val_mean_squared_error: 8632122368.0000 - 125ms/epoch - 2ms/step\n",
      "Epoch 80/100\n",
      "75/75 - 0s - loss: 3509360128.0000 - mean_squared_error: 3509360128.0000 - val_loss: 6052442112.0000 - val_mean_squared_error: 6052442112.0000 - 120ms/epoch - 2ms/step\n",
      "Epoch 81/100\n",
      "75/75 - 0s - loss: 3928731392.0000 - mean_squared_error: 3928731392.0000 - val_loss: 9331948544.0000 - val_mean_squared_error: 9331948544.0000 - 120ms/epoch - 2ms/step\n",
      "Epoch 82/100\n",
      "75/75 - 0s - loss: 3402088192.0000 - mean_squared_error: 3402088192.0000 - val_loss: 6593271296.0000 - val_mean_squared_error: 6593271296.0000 - 120ms/epoch - 2ms/step\n",
      "Epoch 83/100\n",
      "75/75 - 0s - loss: 3521936384.0000 - mean_squared_error: 3521936384.0000 - val_loss: 11251633152.0000 - val_mean_squared_error: 11251633152.0000 - 122ms/epoch - 2ms/step\n",
      "Epoch 84/100\n",
      "75/75 - 0s - loss: 3450117120.0000 - mean_squared_error: 3450117120.0000 - val_loss: 6895259136.0000 - val_mean_squared_error: 6895259136.0000 - 124ms/epoch - 2ms/step\n",
      "Epoch 85/100\n",
      "75/75 - 0s - loss: 3345289472.0000 - mean_squared_error: 3345289472.0000 - val_loss: 8045194752.0000 - val_mean_squared_error: 8045194240.0000 - 125ms/epoch - 2ms/step\n",
      "Epoch 86/100\n",
      "75/75 - 0s - loss: 3593938944.0000 - mean_squared_error: 3593938944.0000 - val_loss: 9841159168.0000 - val_mean_squared_error: 9841159168.0000 - 128ms/epoch - 2ms/step\n",
      "Epoch 87/100\n",
      "75/75 - 0s - loss: 3762692096.0000 - mean_squared_error: 3762692096.0000 - val_loss: 5160966144.0000 - val_mean_squared_error: 5160966144.0000 - 180ms/epoch - 2ms/step\n",
      "Epoch 88/100\n",
      "75/75 - 0s - loss: 3544561152.0000 - mean_squared_error: 3544561152.0000 - val_loss: 6269515776.0000 - val_mean_squared_error: 6269515776.0000 - 180ms/epoch - 2ms/step\n",
      "Epoch 89/100\n",
      "75/75 - 0s - loss: 3357671424.0000 - mean_squared_error: 3357671424.0000 - val_loss: 4117587712.0000 - val_mean_squared_error: 4117587712.0000 - 183ms/epoch - 2ms/step\n",
      "Epoch 90/100\n",
      "75/75 - 0s - loss: 3379623936.0000 - mean_squared_error: 3379623680.0000 - val_loss: 7310188544.0000 - val_mean_squared_error: 7310188544.0000 - 190ms/epoch - 3ms/step\n",
      "Epoch 91/100\n",
      "75/75 - 0s - loss: 3524838144.0000 - mean_squared_error: 3524838144.0000 - val_loss: 4857308160.0000 - val_mean_squared_error: 4857308160.0000 - 185ms/epoch - 2ms/step\n",
      "Epoch 92/100\n",
      "75/75 - 0s - loss: 3427069440.0000 - mean_squared_error: 3427069440.0000 - val_loss: 7184640512.0000 - val_mean_squared_error: 7184640512.0000 - 175ms/epoch - 2ms/step\n"
     ]
    },
    {
     "name": "stdout",
     "output_type": "stream",
     "text": [
      "Epoch 93/100\n",
      "75/75 - 0s - loss: 3340406016.0000 - mean_squared_error: 3340406016.0000 - val_loss: 5304987648.0000 - val_mean_squared_error: 5304987648.0000 - 180ms/epoch - 2ms/step\n",
      "Epoch 94/100\n",
      "75/75 - 0s - loss: 3334019328.0000 - mean_squared_error: 3334019328.0000 - val_loss: 4458900992.0000 - val_mean_squared_error: 4458900992.0000 - 175ms/epoch - 2ms/step\n",
      "Epoch 95/100\n",
      "75/75 - 0s - loss: 3310940160.0000 - mean_squared_error: 3310940160.0000 - val_loss: 4995812864.0000 - val_mean_squared_error: 4995812864.0000 - 170ms/epoch - 2ms/step\n",
      "Epoch 96/100\n",
      "75/75 - 0s - loss: 3418933760.0000 - mean_squared_error: 3418933760.0000 - val_loss: 7044173312.0000 - val_mean_squared_error: 7044173312.0000 - 175ms/epoch - 2ms/step\n",
      "Epoch 97/100\n",
      "75/75 - 0s - loss: 3297005824.0000 - mean_squared_error: 3297005824.0000 - val_loss: 4496911872.0000 - val_mean_squared_error: 4496911872.0000 - 175ms/epoch - 2ms/step\n",
      "Epoch 98/100\n",
      "75/75 - 0s - loss: 3549739520.0000 - mean_squared_error: 3549739520.0000 - val_loss: 8054847488.0000 - val_mean_squared_error: 8054846464.0000 - 177ms/epoch - 2ms/step\n",
      "Epoch 99/100\n",
      "75/75 - 0s - loss: 3266154240.0000 - mean_squared_error: 3266153984.0000 - val_loss: 4415711232.0000 - val_mean_squared_error: 4415711232.0000 - 180ms/epoch - 2ms/step\n",
      "Epoch 100/100\n",
      "75/75 - 0s - loss: 3386991360.0000 - mean_squared_error: 3386991360.0000 - val_loss: 6642368512.0000 - val_mean_squared_error: 6642368512.0000 - 180ms/epoch - 2ms/step\n"
     ]
    },
    {
     "data": {
      "text/plain": [
       "<keras.callbacks.History at 0x1f10aa2bdc0>"
      ]
     },
     "execution_count": 5,
     "metadata": {},
     "output_type": "execute_result"
    }
   ],
   "source": [
    "# number of iteration\n",
    "max_epochs = 100\n",
    "\n",
    "# divide the data into each batch\n",
    "batch_size = 100\n",
    "\n",
    "#  allow the model runs in overfitting twice, no more than three\n",
    "early_stopping = tf.keras.callbacks.EarlyStopping(patience=2)\n",
    "\n",
    "# run the model\n",
    "model.fit(\n",
    "    train_inputs,\n",
    "    train_targets,\n",
    "    epochs=max_epochs,\n",
    "    batch_size=batch_size,\n",
    "    validation_data=(validation_inputs, validation_targets),\n",
    "    verbose=2\n",
    ")"
   ]
  },
  {
   "cell_type": "code",
   "execution_count": 6,
   "id": "45f8dd03",
   "metadata": {},
   "outputs": [
    {
     "name": "stdout",
     "output_type": "stream",
     "text": [
      "30/30 [==============================] - 0s 2ms/step - loss: 3605077504.0000 - mean_squared_error: 3605077504.0000\n",
      "The test loss is 3605077504.0\n",
      "The test error is 3605077504.0\n"
     ]
    }
   ],
   "source": [
    "test_loss, test_error = model.evaluate(test_inputs, test_targets)\n",
    "print('The test loss is ' + str(test_loss))\n",
    "print('The test error is ' + str(test_error))"
   ]
  },
  {
   "cell_type": "markdown",
   "id": "6e5434d8",
   "metadata": {},
   "source": [
    "## Using scikit-learn to build the model"
   ]
  },
  {
   "cell_type": "code",
   "execution_count": 7,
   "id": "160b1a17",
   "metadata": {},
   "outputs": [],
   "source": [
    "from sklearn.linear_model import LinearRegression\n",
    "from sklearn import metrics"
   ]
  },
  {
   "cell_type": "markdown",
   "id": "ee3f8f98",
   "metadata": {},
   "source": [
    "### Train data"
   ]
  },
  {
   "cell_type": "code",
   "execution_count": 8,
   "id": "742bff3f",
   "metadata": {},
   "outputs": [],
   "source": [
    "reg = LinearRegression()\n",
    "reg.fit(train_inputs, train_targets)\n",
    "outputs = reg.predict(train_inputs)"
   ]
  },
  {
   "cell_type": "code",
   "execution_count": 9,
   "id": "baec010a",
   "metadata": {},
   "outputs": [
    {
     "name": "stdout",
     "output_type": "stream",
     "text": [
      "The mean squared error in train dataset: 58942.6721785672\n"
     ]
    }
   ],
   "source": [
    "rmse = metrics.mean_squared_error(outputs, train_targets, squared=False)\n",
    "print('The mean squared error in train dataset: ' + str(rmse))"
   ]
  },
  {
   "cell_type": "markdown",
   "id": "ed19a2d8",
   "metadata": {},
   "source": [
    "## Validation data"
   ]
  },
  {
   "cell_type": "code",
   "execution_count": 10,
   "id": "ed6dc2d8",
   "metadata": {},
   "outputs": [
    {
     "name": "stdout",
     "output_type": "stream",
     "text": [
      "The mean squared error in validation dataset: 56713.241371586315\n"
     ]
    }
   ],
   "source": [
    "reg = LinearRegression()\n",
    "reg.fit(validation_inputs, validation_targets)\n",
    "outputs = reg.predict(validation_inputs)\n",
    "\n",
    "rmse = metrics.mean_squared_error(outputs, validation_targets, squared=False)\n",
    "print('The mean squared error in validation dataset: ' + str(rmse))"
   ]
  },
  {
   "cell_type": "markdown",
   "id": "dd17a19a",
   "metadata": {},
   "source": [
    "### Test Data"
   ]
  },
  {
   "cell_type": "code",
   "execution_count": 11,
   "id": "d9e8f1b8",
   "metadata": {},
   "outputs": [
    {
     "name": "stdout",
     "output_type": "stream",
     "text": [
      "The mean squared error in test dataset: 57744.47645453902\n"
     ]
    }
   ],
   "source": [
    "reg = LinearRegression()\n",
    "reg.fit(test_inputs, test_targets)\n",
    "outputs = reg.predict(test_inputs)\n",
    "\n",
    "rmse = metrics.mean_squared_error(outputs, test_targets, squared=False)\n",
    "print('The mean squared error in test dataset: ' + str(rmse))"
   ]
  },
  {
   "cell_type": "markdown",
   "id": "7ce453ff",
   "metadata": {},
   "source": [
    "#### The variables are not quite linear so the mean squared error cannot be lowered to close to 0 and the prediction is not accurate at all"
   ]
  },
  {
   "cell_type": "code",
   "execution_count": null,
   "id": "4f5b122e",
   "metadata": {},
   "outputs": [],
   "source": []
  }
 ],
 "metadata": {
  "kernelspec": {
   "display_name": "Python 3 (ipykernel)",
   "language": "python",
   "name": "python3"
  },
  "language_info": {
   "codemirror_mode": {
    "name": "ipython",
    "version": 3
   },
   "file_extension": ".py",
   "mimetype": "text/x-python",
   "name": "python",
   "nbconvert_exporter": "python",
   "pygments_lexer": "ipython3",
   "version": "3.10.12"
  }
 },
 "nbformat": 4,
 "nbformat_minor": 5
}
