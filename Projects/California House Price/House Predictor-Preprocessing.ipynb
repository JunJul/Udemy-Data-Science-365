{
 "cells": [
  {
   "cell_type": "code",
   "execution_count": 1,
   "id": "b5c8da62",
   "metadata": {},
   "outputs": [],
   "source": [
    "import numpy as np\n",
    "import matplotlib.pyplot as plt\n",
    "import pandas as pd"
   ]
  },
  {
   "cell_type": "markdown",
   "id": "3376af70",
   "metadata": {},
   "source": [
    "## Load the data"
   ]
  },
  {
   "cell_type": "code",
   "execution_count": 2,
   "id": "0bd14418",
   "metadata": {},
   "outputs": [
    {
     "data": {
      "text/html": [
       "<div>\n",
       "<style scoped>\n",
       "    .dataframe tbody tr th:only-of-type {\n",
       "        vertical-align: middle;\n",
       "    }\n",
       "\n",
       "    .dataframe tbody tr th {\n",
       "        vertical-align: top;\n",
       "    }\n",
       "\n",
       "    .dataframe thead th {\n",
       "        text-align: right;\n",
       "    }\n",
       "</style>\n",
       "<table border=\"1\" class=\"dataframe\">\n",
       "  <thead>\n",
       "    <tr style=\"text-align: right;\">\n",
       "      <th></th>\n",
       "      <th>longitude</th>\n",
       "      <th>latitude</th>\n",
       "      <th>housing_median_age</th>\n",
       "      <th>total_rooms</th>\n",
       "      <th>total_bedrooms</th>\n",
       "      <th>population</th>\n",
       "      <th>households</th>\n",
       "      <th>median_income</th>\n",
       "      <th>ocean_proximity</th>\n",
       "      <th>median_house_value</th>\n",
       "    </tr>\n",
       "  </thead>\n",
       "  <tbody>\n",
       "    <tr>\n",
       "      <th>0</th>\n",
       "      <td>-122.23</td>\n",
       "      <td>37.88</td>\n",
       "      <td>41</td>\n",
       "      <td>880</td>\n",
       "      <td>129.0</td>\n",
       "      <td>322</td>\n",
       "      <td>126</td>\n",
       "      <td>8.3252</td>\n",
       "      <td>NEAR BAY</td>\n",
       "      <td>452600</td>\n",
       "    </tr>\n",
       "    <tr>\n",
       "      <th>1</th>\n",
       "      <td>-122.22</td>\n",
       "      <td>37.86</td>\n",
       "      <td>21</td>\n",
       "      <td>7099</td>\n",
       "      <td>1106.0</td>\n",
       "      <td>2401</td>\n",
       "      <td>1138</td>\n",
       "      <td>8.3014</td>\n",
       "      <td>NEAR BAY</td>\n",
       "      <td>358500</td>\n",
       "    </tr>\n",
       "    <tr>\n",
       "      <th>2</th>\n",
       "      <td>-122.24</td>\n",
       "      <td>37.85</td>\n",
       "      <td>52</td>\n",
       "      <td>1467</td>\n",
       "      <td>190.0</td>\n",
       "      <td>496</td>\n",
       "      <td>177</td>\n",
       "      <td>7.2574</td>\n",
       "      <td>NEAR BAY</td>\n",
       "      <td>352100</td>\n",
       "    </tr>\n",
       "    <tr>\n",
       "      <th>3</th>\n",
       "      <td>-122.25</td>\n",
       "      <td>37.85</td>\n",
       "      <td>52</td>\n",
       "      <td>1274</td>\n",
       "      <td>235.0</td>\n",
       "      <td>558</td>\n",
       "      <td>219</td>\n",
       "      <td>5.6431</td>\n",
       "      <td>NEAR BAY</td>\n",
       "      <td>341300</td>\n",
       "    </tr>\n",
       "    <tr>\n",
       "      <th>4</th>\n",
       "      <td>-122.25</td>\n",
       "      <td>37.85</td>\n",
       "      <td>52</td>\n",
       "      <td>1627</td>\n",
       "      <td>280.0</td>\n",
       "      <td>565</td>\n",
       "      <td>259</td>\n",
       "      <td>3.8462</td>\n",
       "      <td>NEAR BAY</td>\n",
       "      <td>342200</td>\n",
       "    </tr>\n",
       "  </tbody>\n",
       "</table>\n",
       "</div>"
      ],
      "text/plain": [
       "   longitude  latitude  housing_median_age  total_rooms  total_bedrooms  \\\n",
       "0    -122.23     37.88                  41          880           129.0   \n",
       "1    -122.22     37.86                  21         7099          1106.0   \n",
       "2    -122.24     37.85                  52         1467           190.0   \n",
       "3    -122.25     37.85                  52         1274           235.0   \n",
       "4    -122.25     37.85                  52         1627           280.0   \n",
       "\n",
       "   population  households  median_income ocean_proximity  median_house_value  \n",
       "0         322         126         8.3252        NEAR BAY              452600  \n",
       "1        2401        1138         8.3014        NEAR BAY              358500  \n",
       "2         496         177         7.2574        NEAR BAY              352100  \n",
       "3         558         219         5.6431        NEAR BAY              341300  \n",
       "4         565         259         3.8462        NEAR BAY              342200  "
      ]
     },
     "execution_count": 2,
     "metadata": {},
     "output_type": "execute_result"
    }
   ],
   "source": [
    "data = pd.read_csv('housing.csv')\n",
    "data.head()"
   ]
  },
  {
   "cell_type": "code",
   "execution_count": 3,
   "id": "4c13dcc0",
   "metadata": {},
   "outputs": [],
   "source": [
    "# we knows all the houses are in california they don't have much difference \n",
    "interested_data = data.drop(['longitude', 'latitude'], axis=1)"
   ]
  },
  {
   "cell_type": "code",
   "execution_count": 4,
   "id": "f94cdcb8",
   "metadata": {},
   "outputs": [
    {
     "data": {
      "text/plain": [
       "array(['NEAR BAY', '<1H OCEAN', 'INLAND', 'NEAR OCEAN', 'ISLAND'],\n",
       "      dtype=object)"
      ]
     },
     "execution_count": 4,
     "metadata": {},
     "output_type": "execute_result"
    }
   ],
   "source": [
    "interested_data['ocean_proximity'].unique()"
   ]
  },
  {
   "cell_type": "code",
   "execution_count": 5,
   "id": "6997b358",
   "metadata": {},
   "outputs": [],
   "source": [
    "# map the categorical data\n",
    "interested_data['ocean_proximity'] = interested_data['ocean_proximity'].map({\n",
    "    'NEAR BAY': 0, '<1H OCEAN': 1, 'INLAND': 2,  'NEAR OCEAN': 3, 'ISLAND': 4\n",
    "})"
   ]
  },
  {
   "cell_type": "code",
   "execution_count": 6,
   "id": "2ff3d63c",
   "metadata": {},
   "outputs": [
    {
     "data": {
      "text/html": [
       "<div>\n",
       "<style scoped>\n",
       "    .dataframe tbody tr th:only-of-type {\n",
       "        vertical-align: middle;\n",
       "    }\n",
       "\n",
       "    .dataframe tbody tr th {\n",
       "        vertical-align: top;\n",
       "    }\n",
       "\n",
       "    .dataframe thead th {\n",
       "        text-align: right;\n",
       "    }\n",
       "</style>\n",
       "<table border=\"1\" class=\"dataframe\">\n",
       "  <thead>\n",
       "    <tr style=\"text-align: right;\">\n",
       "      <th></th>\n",
       "      <th>housing_median_age</th>\n",
       "      <th>total_rooms</th>\n",
       "      <th>total_bedrooms</th>\n",
       "      <th>population</th>\n",
       "      <th>households</th>\n",
       "      <th>median_income</th>\n",
       "      <th>ocean_proximity</th>\n",
       "      <th>median_house_value</th>\n",
       "    </tr>\n",
       "  </thead>\n",
       "  <tbody>\n",
       "    <tr>\n",
       "      <th>0</th>\n",
       "      <td>41</td>\n",
       "      <td>880</td>\n",
       "      <td>129.0</td>\n",
       "      <td>322</td>\n",
       "      <td>126</td>\n",
       "      <td>8.3252</td>\n",
       "      <td>0</td>\n",
       "      <td>452600</td>\n",
       "    </tr>\n",
       "    <tr>\n",
       "      <th>1</th>\n",
       "      <td>21</td>\n",
       "      <td>7099</td>\n",
       "      <td>1106.0</td>\n",
       "      <td>2401</td>\n",
       "      <td>1138</td>\n",
       "      <td>8.3014</td>\n",
       "      <td>0</td>\n",
       "      <td>358500</td>\n",
       "    </tr>\n",
       "    <tr>\n",
       "      <th>2</th>\n",
       "      <td>52</td>\n",
       "      <td>1467</td>\n",
       "      <td>190.0</td>\n",
       "      <td>496</td>\n",
       "      <td>177</td>\n",
       "      <td>7.2574</td>\n",
       "      <td>0</td>\n",
       "      <td>352100</td>\n",
       "    </tr>\n",
       "    <tr>\n",
       "      <th>3</th>\n",
       "      <td>52</td>\n",
       "      <td>1274</td>\n",
       "      <td>235.0</td>\n",
       "      <td>558</td>\n",
       "      <td>219</td>\n",
       "      <td>5.6431</td>\n",
       "      <td>0</td>\n",
       "      <td>341300</td>\n",
       "    </tr>\n",
       "    <tr>\n",
       "      <th>4</th>\n",
       "      <td>52</td>\n",
       "      <td>1627</td>\n",
       "      <td>280.0</td>\n",
       "      <td>565</td>\n",
       "      <td>259</td>\n",
       "      <td>3.8462</td>\n",
       "      <td>0</td>\n",
       "      <td>342200</td>\n",
       "    </tr>\n",
       "  </tbody>\n",
       "</table>\n",
       "</div>"
      ],
      "text/plain": [
       "   housing_median_age  total_rooms  total_bedrooms  population  households  \\\n",
       "0                  41          880           129.0         322         126   \n",
       "1                  21         7099          1106.0        2401        1138   \n",
       "2                  52         1467           190.0         496         177   \n",
       "3                  52         1274           235.0         558         219   \n",
       "4                  52         1627           280.0         565         259   \n",
       "\n",
       "   median_income  ocean_proximity  median_house_value  \n",
       "0         8.3252                0              452600  \n",
       "1         8.3014                0              358500  \n",
       "2         7.2574                0              352100  \n",
       "3         5.6431                0              341300  \n",
       "4         3.8462                0              342200  "
      ]
     },
     "execution_count": 6,
     "metadata": {},
     "output_type": "execute_result"
    }
   ],
   "source": [
    "interested_data.head()"
   ]
  },
  {
   "cell_type": "markdown",
   "id": "11567c16",
   "metadata": {},
   "source": [
    "## Missing values"
   ]
  },
  {
   "cell_type": "code",
   "execution_count": 7,
   "id": "387b39ec",
   "metadata": {},
   "outputs": [
    {
     "data": {
      "text/plain": [
       "housing_median_age      0\n",
       "total_rooms             0\n",
       "total_bedrooms        207\n",
       "population              0\n",
       "households              0\n",
       "median_income           0\n",
       "ocean_proximity         0\n",
       "median_house_value      0\n",
       "dtype: int64"
      ]
     },
     "execution_count": 7,
     "metadata": {},
     "output_type": "execute_result"
    }
   ],
   "source": [
    "# counts the total null values\n",
    "interested_data.isnull().sum()"
   ]
  },
  {
   "cell_type": "code",
   "execution_count": 8,
   "id": "2f5d4740",
   "metadata": {},
   "outputs": [],
   "source": [
    "# fill the null values in the total_bedrooms col with the mean value\n",
    "noNull_data = interested_data.copy()\n",
    "noNull_data['total_bedrooms'] = noNull_data['total_bedrooms'].fillna(noNull_data['total_bedrooms'].mean())"
   ]
  },
  {
   "cell_type": "code",
   "execution_count": 9,
   "id": "74dcc6a7",
   "metadata": {},
   "outputs": [
    {
     "data": {
      "text/plain": [
       "housing_median_age    0\n",
       "total_rooms           0\n",
       "total_bedrooms        0\n",
       "population            0\n",
       "households            0\n",
       "median_income         0\n",
       "ocean_proximity       0\n",
       "median_house_value    0\n",
       "dtype: int64"
      ]
     },
     "execution_count": 9,
     "metadata": {},
     "output_type": "execute_result"
    }
   ],
   "source": [
    "noNull_data.isnull().sum()"
   ]
  },
  {
   "cell_type": "markdown",
   "id": "9b1b9a7d",
   "metadata": {},
   "source": [
    "## Checking outliers"
   ]
  },
  {
   "cell_type": "code",
   "execution_count": 10,
   "id": "d7092546",
   "metadata": {},
   "outputs": [
    {
     "data": {
      "text/html": [
       "<div>\n",
       "<style scoped>\n",
       "    .dataframe tbody tr th:only-of-type {\n",
       "        vertical-align: middle;\n",
       "    }\n",
       "\n",
       "    .dataframe tbody tr th {\n",
       "        vertical-align: top;\n",
       "    }\n",
       "\n",
       "    .dataframe thead th {\n",
       "        text-align: right;\n",
       "    }\n",
       "</style>\n",
       "<table border=\"1\" class=\"dataframe\">\n",
       "  <thead>\n",
       "    <tr style=\"text-align: right;\">\n",
       "      <th></th>\n",
       "      <th>housing_median_age</th>\n",
       "      <th>total_rooms</th>\n",
       "      <th>total_bedrooms</th>\n",
       "      <th>population</th>\n",
       "      <th>households</th>\n",
       "      <th>median_income</th>\n",
       "      <th>ocean_proximity</th>\n",
       "      <th>median_house_value</th>\n",
       "    </tr>\n",
       "  </thead>\n",
       "  <tbody>\n",
       "    <tr>\n",
       "      <th>count</th>\n",
       "      <td>20640.000000</td>\n",
       "      <td>20640.000000</td>\n",
       "      <td>20640.000000</td>\n",
       "      <td>20640.000000</td>\n",
       "      <td>20640.000000</td>\n",
       "      <td>20640.000000</td>\n",
       "      <td>20640.000000</td>\n",
       "      <td>20640.000000</td>\n",
       "    </tr>\n",
       "    <tr>\n",
       "      <th>mean</th>\n",
       "      <td>28.639486</td>\n",
       "      <td>2635.763081</td>\n",
       "      <td>537.870553</td>\n",
       "      <td>1425.476744</td>\n",
       "      <td>499.539680</td>\n",
       "      <td>3.870671</td>\n",
       "      <td>1.464729</td>\n",
       "      <td>206855.816909</td>\n",
       "    </tr>\n",
       "    <tr>\n",
       "      <th>std</th>\n",
       "      <td>12.585558</td>\n",
       "      <td>2181.615252</td>\n",
       "      <td>419.266592</td>\n",
       "      <td>1132.462122</td>\n",
       "      <td>382.329753</td>\n",
       "      <td>1.899822</td>\n",
       "      <td>0.854226</td>\n",
       "      <td>115395.615874</td>\n",
       "    </tr>\n",
       "    <tr>\n",
       "      <th>min</th>\n",
       "      <td>1.000000</td>\n",
       "      <td>2.000000</td>\n",
       "      <td>1.000000</td>\n",
       "      <td>3.000000</td>\n",
       "      <td>1.000000</td>\n",
       "      <td>0.499900</td>\n",
       "      <td>0.000000</td>\n",
       "      <td>14999.000000</td>\n",
       "    </tr>\n",
       "    <tr>\n",
       "      <th>25%</th>\n",
       "      <td>18.000000</td>\n",
       "      <td>1447.750000</td>\n",
       "      <td>297.000000</td>\n",
       "      <td>787.000000</td>\n",
       "      <td>280.000000</td>\n",
       "      <td>2.563400</td>\n",
       "      <td>1.000000</td>\n",
       "      <td>119600.000000</td>\n",
       "    </tr>\n",
       "    <tr>\n",
       "      <th>50%</th>\n",
       "      <td>29.000000</td>\n",
       "      <td>2127.000000</td>\n",
       "      <td>438.000000</td>\n",
       "      <td>1166.000000</td>\n",
       "      <td>409.000000</td>\n",
       "      <td>3.534800</td>\n",
       "      <td>1.000000</td>\n",
       "      <td>179700.000000</td>\n",
       "    </tr>\n",
       "    <tr>\n",
       "      <th>75%</th>\n",
       "      <td>37.000000</td>\n",
       "      <td>3148.000000</td>\n",
       "      <td>643.250000</td>\n",
       "      <td>1725.000000</td>\n",
       "      <td>605.000000</td>\n",
       "      <td>4.743250</td>\n",
       "      <td>2.000000</td>\n",
       "      <td>264725.000000</td>\n",
       "    </tr>\n",
       "    <tr>\n",
       "      <th>max</th>\n",
       "      <td>52.000000</td>\n",
       "      <td>39320.000000</td>\n",
       "      <td>6445.000000</td>\n",
       "      <td>35682.000000</td>\n",
       "      <td>6082.000000</td>\n",
       "      <td>15.000100</td>\n",
       "      <td>4.000000</td>\n",
       "      <td>500001.000000</td>\n",
       "    </tr>\n",
       "  </tbody>\n",
       "</table>\n",
       "</div>"
      ],
      "text/plain": [
       "       housing_median_age   total_rooms  total_bedrooms    population  \\\n",
       "count        20640.000000  20640.000000    20640.000000  20640.000000   \n",
       "mean            28.639486   2635.763081      537.870553   1425.476744   \n",
       "std             12.585558   2181.615252      419.266592   1132.462122   \n",
       "min              1.000000      2.000000        1.000000      3.000000   \n",
       "25%             18.000000   1447.750000      297.000000    787.000000   \n",
       "50%             29.000000   2127.000000      438.000000   1166.000000   \n",
       "75%             37.000000   3148.000000      643.250000   1725.000000   \n",
       "max             52.000000  39320.000000     6445.000000  35682.000000   \n",
       "\n",
       "         households  median_income  ocean_proximity  median_house_value  \n",
       "count  20640.000000   20640.000000     20640.000000        20640.000000  \n",
       "mean     499.539680       3.870671         1.464729       206855.816909  \n",
       "std      382.329753       1.899822         0.854226       115395.615874  \n",
       "min        1.000000       0.499900         0.000000        14999.000000  \n",
       "25%      280.000000       2.563400         1.000000       119600.000000  \n",
       "50%      409.000000       3.534800         1.000000       179700.000000  \n",
       "75%      605.000000       4.743250         2.000000       264725.000000  \n",
       "max     6082.000000      15.000100         4.000000       500001.000000  "
      ]
     },
     "execution_count": 10,
     "metadata": {},
     "output_type": "execute_result"
    }
   ],
   "source": [
    "noNull_data.describe()"
   ]
  },
  {
   "cell_type": "code",
   "execution_count": 11,
   "id": "14aa6b1c",
   "metadata": {},
   "outputs": [],
   "source": [
    "# quantile the dataframe\n",
    "    # dframe: data frame\n",
    "    # cols: an list with the columns in the data frame\n",
    "    # min_q: a lowest cutting point \n",
    "    # max_q: a highest cutting point\n",
    "def dealing_outliers(dframe, cols, min_q, max_q):\n",
    "    for i in cols: \n",
    "        # get the lowest point and highest point in the data\n",
    "        min_thresold, max_thresold = dframe[i].quantile([min_q, max_q])\n",
    "        \n",
    "        # quantile the values between the min_thresold and the max_thresold\n",
    "        dframe = dframe[(dframe[i] > min_thresold) & (dframe[i] < max_thresold)]\n",
    "    return dframe"
   ]
  },
  {
   "cell_type": "code",
   "execution_count": 12,
   "id": "29f2a498",
   "metadata": {},
   "outputs": [],
   "source": [
    "# These are the data needs to be qunatiled\n",
    "cols = ['total_rooms', 'total_bedrooms', 'households', 'median_house_value', 'housing_median_age', 'population']\n",
    "\n",
    "# quantiled the data with higher 2% and below 98% \n",
    "noNull_outliers_data = dealing_outliers(noNull_data.copy(), cols, 0.1, 0.99)"
   ]
  },
  {
   "cell_type": "code",
   "execution_count": 13,
   "id": "bda87135",
   "metadata": {
    "scrolled": true
   },
   "outputs": [
    {
     "data": {
      "text/html": [
       "<div>\n",
       "<style scoped>\n",
       "    .dataframe tbody tr th:only-of-type {\n",
       "        vertical-align: middle;\n",
       "    }\n",
       "\n",
       "    .dataframe tbody tr th {\n",
       "        vertical-align: top;\n",
       "    }\n",
       "\n",
       "    .dataframe thead th {\n",
       "        text-align: right;\n",
       "    }\n",
       "</style>\n",
       "<table border=\"1\" class=\"dataframe\">\n",
       "  <thead>\n",
       "    <tr style=\"text-align: right;\">\n",
       "      <th></th>\n",
       "      <th>housing_median_age</th>\n",
       "      <th>total_rooms</th>\n",
       "      <th>total_bedrooms</th>\n",
       "      <th>population</th>\n",
       "      <th>households</th>\n",
       "      <th>median_income</th>\n",
       "      <th>ocean_proximity</th>\n",
       "      <th>median_house_value</th>\n",
       "    </tr>\n",
       "  </thead>\n",
       "  <tbody>\n",
       "    <tr>\n",
       "      <th>count</th>\n",
       "      <td>9317.000000</td>\n",
       "      <td>9317.000000</td>\n",
       "      <td>9317.000000</td>\n",
       "      <td>9317.000000</td>\n",
       "      <td>9317.000000</td>\n",
       "      <td>9317.000000</td>\n",
       "      <td>9317.000000</td>\n",
       "      <td>9317.000000</td>\n",
       "    </tr>\n",
       "    <tr>\n",
       "      <th>mean</th>\n",
       "      <td>28.405710</td>\n",
       "      <td>2915.358914</td>\n",
       "      <td>602.317788</td>\n",
       "      <td>1649.393904</td>\n",
       "      <td>569.896104</td>\n",
       "      <td>3.844241</td>\n",
       "      <td>1.411935</td>\n",
       "      <td>208836.653429</td>\n",
       "    </tr>\n",
       "    <tr>\n",
       "      <th>std</th>\n",
       "      <td>9.592348</td>\n",
       "      <td>1251.878440</td>\n",
       "      <td>248.045487</td>\n",
       "      <td>644.554525</td>\n",
       "      <td>226.078903</td>\n",
       "      <td>1.470063</td>\n",
       "      <td>0.847102</td>\n",
       "      <td>88375.476270</td>\n",
       "    </tr>\n",
       "    <tr>\n",
       "      <th>min</th>\n",
       "      <td>13.000000</td>\n",
       "      <td>948.000000</td>\n",
       "      <td>262.000000</td>\n",
       "      <td>871.000000</td>\n",
       "      <td>288.000000</td>\n",
       "      <td>0.683100</td>\n",
       "      <td>0.000000</td>\n",
       "      <td>86200.000000</td>\n",
       "    </tr>\n",
       "    <tr>\n",
       "      <th>25%</th>\n",
       "      <td>20.000000</td>\n",
       "      <td>2043.000000</td>\n",
       "      <td>419.000000</td>\n",
       "      <td>1161.000000</td>\n",
       "      <td>402.000000</td>\n",
       "      <td>2.750000</td>\n",
       "      <td>1.000000</td>\n",
       "      <td>142000.000000</td>\n",
       "    </tr>\n",
       "    <tr>\n",
       "      <th>50%</th>\n",
       "      <td>28.000000</td>\n",
       "      <td>2627.000000</td>\n",
       "      <td>537.870553</td>\n",
       "      <td>1481.000000</td>\n",
       "      <td>510.000000</td>\n",
       "      <td>3.640600</td>\n",
       "      <td>1.000000</td>\n",
       "      <td>189800.000000</td>\n",
       "    </tr>\n",
       "    <tr>\n",
       "      <th>75%</th>\n",
       "      <td>35.000000</td>\n",
       "      <td>3476.000000</td>\n",
       "      <td>716.000000</td>\n",
       "      <td>1949.000000</td>\n",
       "      <td>674.000000</td>\n",
       "      <td>4.708300</td>\n",
       "      <td>2.000000</td>\n",
       "      <td>259400.000000</td>\n",
       "    </tr>\n",
       "    <tr>\n",
       "      <th>max</th>\n",
       "      <td>51.000000</td>\n",
       "      <td>10282.000000</td>\n",
       "      <td>1780.000000</td>\n",
       "      <td>4027.000000</td>\n",
       "      <td>1474.000000</td>\n",
       "      <td>11.112100</td>\n",
       "      <td>3.000000</td>\n",
       "      <td>500000.000000</td>\n",
       "    </tr>\n",
       "  </tbody>\n",
       "</table>\n",
       "</div>"
      ],
      "text/plain": [
       "       housing_median_age   total_rooms  total_bedrooms   population  \\\n",
       "count         9317.000000   9317.000000     9317.000000  9317.000000   \n",
       "mean            28.405710   2915.358914      602.317788  1649.393904   \n",
       "std              9.592348   1251.878440      248.045487   644.554525   \n",
       "min             13.000000    948.000000      262.000000   871.000000   \n",
       "25%             20.000000   2043.000000      419.000000  1161.000000   \n",
       "50%             28.000000   2627.000000      537.870553  1481.000000   \n",
       "75%             35.000000   3476.000000      716.000000  1949.000000   \n",
       "max             51.000000  10282.000000     1780.000000  4027.000000   \n",
       "\n",
       "        households  median_income  ocean_proximity  median_house_value  \n",
       "count  9317.000000    9317.000000      9317.000000         9317.000000  \n",
       "mean    569.896104       3.844241         1.411935       208836.653429  \n",
       "std     226.078903       1.470063         0.847102        88375.476270  \n",
       "min     288.000000       0.683100         0.000000        86200.000000  \n",
       "25%     402.000000       2.750000         1.000000       142000.000000  \n",
       "50%     510.000000       3.640600         1.000000       189800.000000  \n",
       "75%     674.000000       4.708300         2.000000       259400.000000  \n",
       "max    1474.000000      11.112100         3.000000       500000.000000  "
      ]
     },
     "execution_count": 13,
     "metadata": {},
     "output_type": "execute_result"
    }
   ],
   "source": [
    "noNull_outliers_data.describe()"
   ]
  },
  {
   "cell_type": "code",
   "execution_count": 14,
   "id": "1fc76ac6",
   "metadata": {},
   "outputs": [],
   "source": [
    "noNull_outliers_data = noNull_outliers_data.reset_index(drop=True)"
   ]
  },
  {
   "cell_type": "markdown",
   "id": "e16084af",
   "metadata": {},
   "source": [
    "## Get inputs and targets"
   ]
  },
  {
   "cell_type": "code",
   "execution_count": 15,
   "id": "d4950e2b",
   "metadata": {},
   "outputs": [],
   "source": [
    "input_data = noNull_outliers_data.iloc[:, :len(noNull_outliers_data.columns)-1]\n",
    "target_data = noNull_outliers_data['median_house_value']\n",
    "\n",
    "#input_data = noNull_data.iloc[:, :len(noNull_outliers_data.columns)-1]\n",
    "#target_data = noNull_data['median_house_value']"
   ]
  },
  {
   "cell_type": "markdown",
   "id": "da5f03dc",
   "metadata": {},
   "source": [
    "## Checking linearity"
   ]
  },
  {
   "cell_type": "code",
   "execution_count": 16,
   "id": "ee2830c3",
   "metadata": {},
   "outputs": [
    {
     "data": {
      "text/plain": [
       "6"
      ]
     },
     "execution_count": 16,
     "metadata": {},
     "output_type": "execute_result"
    }
   ],
   "source": [
    "# drop the ocean_proximity because it is a categorical data\n",
    "input_cols = input_data.columns.drop(['ocean_proximity'])\n",
    "len(input_cols)"
   ]
  },
  {
   "cell_type": "code",
   "execution_count": 17,
   "id": "38d8bc50",
   "metadata": {},
   "outputs": [],
   "source": [
    "# plot the data by scatter plot\n",
    "    # input_df: input data farme\n",
    "    # y: target\n",
    "    # input_cols: a list with input columns\n",
    "    \n",
    "def plot(input_df, y, input_cols):\n",
    "    for i in input_cols:\n",
    "        x = input_df[i]\n",
    "        plt.figure(figsize=(5,3))\n",
    "        plt.scatter(x, y)\n",
    "        plt.xlabel(x.name)\n",
    "        plt.ylabel(y.name)\n",
    "        plt.show()"
   ]
  },
  {
   "cell_type": "code",
   "execution_count": 18,
   "id": "2900db7e",
   "metadata": {
    "scrolled": true
   },
   "outputs": [
    {
     "data": {
      "image/png": "[encoded data removed]",
      "text/plain": [
       "<Figure size 500x300 with 1 Axes>"
      ]
     },
     "metadata": {},
     "output_type": "display_data"
    },
    {
     "data": {
      "image/png": "[encoded data removed]",
      "text/plain": [
       "<Figure size 500x300 with 1 Axes>"
      ]
     },
     "metadata": {},
     "output_type": "display_data"
    },
    {
     "data": {
      "image/png": "[encoded data removed]",
      "text/plain": [
       "<Figure size 500x300 with 1 Axes>"
      ]
     },
     "metadata": {},
     "output_type": "display_data"
    },
    {
     "data": {
      "image/png": "[encoded data removed]",
      "text/plain": [
       "<Figure size 500x300 with 1 Axes>"
      ]
     },
     "metadata": {},
     "output_type": "display_data"
    },
    {
     "data": {
      "image/png": "[encoded data removed]",
      "text/plain": [
       "<Figure size 500x300 with 1 Axes>"
      ]
     },
     "metadata": {},
     "output_type": "display_data"
    },
    {
     "data": {
      "image/png": "[encoded data removed]",
      "text/plain": [
       "<Figure size 500x300 with 1 Axes>"
      ]
     },
     "metadata": {},
     "output_type": "display_data"
    }
   ],
   "source": [
    "# pass the data to the plot function\n",
    "plot(input_data, np.log(target_data), input_cols)"
   ]
  },
  {
   "cell_type": "markdown",
   "id": "24a19695",
   "metadata": {},
   "source": [
    "#### Most of them are not linear and the best data for the prediction of the price is median_income in the linear regression model"
   ]
  },
  {
   "cell_type": "markdown",
   "id": "4be70003",
   "metadata": {},
   "source": [
    "## Mutillinearity"
   ]
  },
  {
   "cell_type": "code",
   "execution_count": 19,
   "id": "cba39fb8",
   "metadata": {},
   "outputs": [],
   "source": [
    "# calculate the variance inflation factor to check if each input variables are correlated\n",
    "from statsmodels.stats.outliers_influence import variance_inflation_factor"
   ]
  },
  {
   "cell_type": "code",
   "execution_count": 20,
   "id": "61371b28",
   "metadata": {
    "scrolled": true
   },
   "outputs": [
    {
     "data": {
      "text/html": [
       "<div>\n",
       "<style scoped>\n",
       "    .dataframe tbody tr th:only-of-type {\n",
       "        vertical-align: middle;\n",
       "    }\n",
       "\n",
       "    .dataframe tbody tr th {\n",
       "        vertical-align: top;\n",
       "    }\n",
       "\n",
       "    .dataframe thead th {\n",
       "        text-align: right;\n",
       "    }\n",
       "</style>\n",
       "<table border=\"1\" class=\"dataframe\">\n",
       "  <thead>\n",
       "    <tr style=\"text-align: right;\">\n",
       "      <th></th>\n",
       "      <th>Features</th>\n",
       "      <th>VIF</th>\n",
       "    </tr>\n",
       "  </thead>\n",
       "  <tbody>\n",
       "    <tr>\n",
       "      <th>0</th>\n",
       "      <td>housing_median_age</td>\n",
       "      <td>6.383921</td>\n",
       "    </tr>\n",
       "    <tr>\n",
       "      <th>1</th>\n",
       "      <td>total_rooms</td>\n",
       "      <td>38.685139</td>\n",
       "    </tr>\n",
       "    <tr>\n",
       "      <th>2</th>\n",
       "      <td>total_bedrooms</td>\n",
       "      <td>117.849567</td>\n",
       "    </tr>\n",
       "    <tr>\n",
       "      <th>3</th>\n",
       "      <td>population</td>\n",
       "      <td>19.876554</td>\n",
       "    </tr>\n",
       "    <tr>\n",
       "      <th>4</th>\n",
       "      <td>households</td>\n",
       "      <td>134.403412</td>\n",
       "    </tr>\n",
       "    <tr>\n",
       "      <th>5</th>\n",
       "      <td>median_income</td>\n",
       "      <td>10.291382</td>\n",
       "    </tr>\n",
       "    <tr>\n",
       "      <th>6</th>\n",
       "      <td>ocean_proximity</td>\n",
       "      <td>3.275726</td>\n",
       "    </tr>\n",
       "  </tbody>\n",
       "</table>\n",
       "</div>"
      ],
      "text/plain": [
       "             Features         VIF\n",
       "0  housing_median_age    6.383921\n",
       "1         total_rooms   38.685139\n",
       "2      total_bedrooms  117.849567\n",
       "3          population   19.876554\n",
       "4          households  134.403412\n",
       "5       median_income   10.291382\n",
       "6     ocean_proximity    3.275726"
      ]
     },
     "execution_count": 20,
     "metadata": {},
     "output_type": "execute_result"
    }
   ],
   "source": [
    "vif = [variance_inflation_factor(input_data.values, i) for i in range(input_data.shape[1])]\n",
    "vif_df = pd.DataFrame({'Features': input_data.columns, 'VIF': vif})\n",
    "vif_df"
   ]
  },
  {
   "cell_type": "markdown",
   "id": "cc3574fb",
   "metadata": {},
   "source": [
    "#### total rooms are exclused from total bedrooms, so I don't need to drop it but I can drop households or popluation because households can potentialy represent popluation in that block vice versa."
   ]
  },
  {
   "cell_type": "code",
   "execution_count": 21,
   "id": "3c2049f7",
   "metadata": {
    "scrolled": true
   },
   "outputs": [
    {
     "data": {
      "text/html": [
       "<div>\n",
       "<style scoped>\n",
       "    .dataframe tbody tr th:only-of-type {\n",
       "        vertical-align: middle;\n",
       "    }\n",
       "\n",
       "    .dataframe tbody tr th {\n",
       "        vertical-align: top;\n",
       "    }\n",
       "\n",
       "    .dataframe thead th {\n",
       "        text-align: right;\n",
       "    }\n",
       "</style>\n",
       "<table border=\"1\" class=\"dataframe\">\n",
       "  <thead>\n",
       "    <tr style=\"text-align: right;\">\n",
       "      <th></th>\n",
       "      <th>housing_median_age</th>\n",
       "      <th>total_rooms</th>\n",
       "      <th>total_bedrooms</th>\n",
       "      <th>population</th>\n",
       "      <th>median_income</th>\n",
       "      <th>ocean_proximity</th>\n",
       "    </tr>\n",
       "  </thead>\n",
       "  <tbody>\n",
       "    <tr>\n",
       "      <th>0</th>\n",
       "      <td>21</td>\n",
       "      <td>7099</td>\n",
       "      <td>1106.0</td>\n",
       "      <td>2401</td>\n",
       "      <td>8.3014</td>\n",
       "      <td>0</td>\n",
       "    </tr>\n",
       "    <tr>\n",
       "      <th>1</th>\n",
       "      <td>42</td>\n",
       "      <td>2555</td>\n",
       "      <td>665.0</td>\n",
       "      <td>1206</td>\n",
       "      <td>2.0804</td>\n",
       "      <td>0</td>\n",
       "    </tr>\n",
       "    <tr>\n",
       "      <th>2</th>\n",
       "      <td>50</td>\n",
       "      <td>2239</td>\n",
       "      <td>455.0</td>\n",
       "      <td>990</td>\n",
       "      <td>1.9911</td>\n",
       "      <td>0</td>\n",
       "    </tr>\n",
       "    <tr>\n",
       "      <th>3</th>\n",
       "      <td>42</td>\n",
       "      <td>1639</td>\n",
       "      <td>367.0</td>\n",
       "      <td>929</td>\n",
       "      <td>1.7135</td>\n",
       "      <td>0</td>\n",
       "    </tr>\n",
       "    <tr>\n",
       "      <th>4</th>\n",
       "      <td>50</td>\n",
       "      <td>2082</td>\n",
       "      <td>492.0</td>\n",
       "      <td>1131</td>\n",
       "      <td>1.6424</td>\n",
       "      <td>0</td>\n",
       "    </tr>\n",
       "    <tr>\n",
       "      <th>...</th>\n",
       "      <td>...</td>\n",
       "      <td>...</td>\n",
       "      <td>...</td>\n",
       "      <td>...</td>\n",
       "      <td>...</td>\n",
       "      <td>...</td>\n",
       "    </tr>\n",
       "    <tr>\n",
       "      <th>9312</th>\n",
       "      <td>15</td>\n",
       "      <td>2319</td>\n",
       "      <td>416.0</td>\n",
       "      <td>1047</td>\n",
       "      <td>3.1250</td>\n",
       "      <td>2</td>\n",
       "    </tr>\n",
       "    <tr>\n",
       "      <th>9313</th>\n",
       "      <td>27</td>\n",
       "      <td>2080</td>\n",
       "      <td>412.0</td>\n",
       "      <td>1082</td>\n",
       "      <td>2.5495</td>\n",
       "      <td>2</td>\n",
       "    </tr>\n",
       "    <tr>\n",
       "      <th>9314</th>\n",
       "      <td>28</td>\n",
       "      <td>2332</td>\n",
       "      <td>395.0</td>\n",
       "      <td>1041</td>\n",
       "      <td>3.7125</td>\n",
       "      <td>2</td>\n",
       "    </tr>\n",
       "    <tr>\n",
       "      <th>9315</th>\n",
       "      <td>17</td>\n",
       "      <td>2254</td>\n",
       "      <td>485.0</td>\n",
       "      <td>1007</td>\n",
       "      <td>1.7000</td>\n",
       "      <td>2</td>\n",
       "    </tr>\n",
       "    <tr>\n",
       "      <th>9316</th>\n",
       "      <td>16</td>\n",
       "      <td>2785</td>\n",
       "      <td>616.0</td>\n",
       "      <td>1387</td>\n",
       "      <td>2.3886</td>\n",
       "      <td>2</td>\n",
       "    </tr>\n",
       "  </tbody>\n",
       "</table>\n",
       "<p>9317 rows × 6 columns</p>\n",
       "</div>"
      ],
      "text/plain": [
       "      housing_median_age  total_rooms  total_bedrooms  population  \\\n",
       "0                     21         7099          1106.0        2401   \n",
       "1                     42         2555           665.0        1206   \n",
       "2                     50         2239           455.0         990   \n",
       "3                     42         1639           367.0         929   \n",
       "4                     50         2082           492.0        1131   \n",
       "...                  ...          ...             ...         ...   \n",
       "9312                  15         2319           416.0        1047   \n",
       "9313                  27         2080           412.0        1082   \n",
       "9314                  28         2332           395.0        1041   \n",
       "9315                  17         2254           485.0        1007   \n",
       "9316                  16         2785           616.0        1387   \n",
       "\n",
       "      median_income  ocean_proximity  \n",
       "0            8.3014                0  \n",
       "1            2.0804                0  \n",
       "2            1.9911                0  \n",
       "3            1.7135                0  \n",
       "4            1.6424                0  \n",
       "...             ...              ...  \n",
       "9312         3.1250                2  \n",
       "9313         2.5495                2  \n",
       "9314         3.7125                2  \n",
       "9315         1.7000                2  \n",
       "9316         2.3886                2  \n",
       "\n",
       "[9317 rows x 6 columns]"
      ]
     },
     "execution_count": 21,
     "metadata": {},
     "output_type": "execute_result"
    }
   ],
   "source": [
    "# drop the population\n",
    "input_data = input_data.drop(['households'], axis=1)\n",
    "input_data"
   ]
  },
  {
   "cell_type": "code",
   "execution_count": 22,
   "id": "1ee52d54",
   "metadata": {},
   "outputs": [
    {
     "data": {
      "text/html": [
       "<div>\n",
       "<style scoped>\n",
       "    .dataframe tbody tr th:only-of-type {\n",
       "        vertical-align: middle;\n",
       "    }\n",
       "\n",
       "    .dataframe tbody tr th {\n",
       "        vertical-align: top;\n",
       "    }\n",
       "\n",
       "    .dataframe thead th {\n",
       "        text-align: right;\n",
       "    }\n",
       "</style>\n",
       "<table border=\"1\" class=\"dataframe\">\n",
       "  <thead>\n",
       "    <tr style=\"text-align: right;\">\n",
       "      <th></th>\n",
       "      <th>Features</th>\n",
       "      <th>VIF</th>\n",
       "    </tr>\n",
       "  </thead>\n",
       "  <tbody>\n",
       "    <tr>\n",
       "      <th>0</th>\n",
       "      <td>housing_median_age</td>\n",
       "      <td>6.372980</td>\n",
       "    </tr>\n",
       "    <tr>\n",
       "      <th>1</th>\n",
       "      <td>total_rooms</td>\n",
       "      <td>38.261617</td>\n",
       "    </tr>\n",
       "    <tr>\n",
       "      <th>2</th>\n",
       "      <td>total_bedrooms</td>\n",
       "      <td>36.367909</td>\n",
       "    </tr>\n",
       "    <tr>\n",
       "      <th>3</th>\n",
       "      <td>population</td>\n",
       "      <td>16.641417</td>\n",
       "    </tr>\n",
       "    <tr>\n",
       "      <th>4</th>\n",
       "      <td>median_income</td>\n",
       "      <td>10.263251</td>\n",
       "    </tr>\n",
       "    <tr>\n",
       "      <th>5</th>\n",
       "      <td>ocean_proximity</td>\n",
       "      <td>3.263098</td>\n",
       "    </tr>\n",
       "  </tbody>\n",
       "</table>\n",
       "</div>"
      ],
      "text/plain": [
       "             Features        VIF\n",
       "0  housing_median_age   6.372980\n",
       "1         total_rooms  38.261617\n",
       "2      total_bedrooms  36.367909\n",
       "3          population  16.641417\n",
       "4       median_income  10.263251\n",
       "5     ocean_proximity   3.263098"
      ]
     },
     "execution_count": 22,
     "metadata": {},
     "output_type": "execute_result"
    }
   ],
   "source": [
    "vif = [variance_inflation_factor(input_data.values, i) for i in range(input_data.shape[1])]\n",
    "vif_df = pd.DataFrame({'Features': input_data.columns, 'VIF': vif})\n",
    "vif_df"
   ]
  },
  {
   "cell_type": "markdown",
   "id": "f945c1bf",
   "metadata": {},
   "source": [
    "## Feature selection"
   ]
  },
  {
   "cell_type": "code",
   "execution_count": 23,
   "id": "f116c99e",
   "metadata": {
    "scrolled": true
   },
   "outputs": [
    {
     "data": {
      "text/html": [
       "<div>\n",
       "<style scoped>\n",
       "    .dataframe tbody tr th:only-of-type {\n",
       "        vertical-align: middle;\n",
       "    }\n",
       "\n",
       "    .dataframe tbody tr th {\n",
       "        vertical-align: top;\n",
       "    }\n",
       "\n",
       "    .dataframe thead th {\n",
       "        text-align: right;\n",
       "    }\n",
       "</style>\n",
       "<table border=\"1\" class=\"dataframe\">\n",
       "  <thead>\n",
       "    <tr style=\"text-align: right;\">\n",
       "      <th></th>\n",
       "      <th>Features</th>\n",
       "      <th>P_values</th>\n",
       "    </tr>\n",
       "  </thead>\n",
       "  <tbody>\n",
       "    <tr>\n",
       "      <th>0</th>\n",
       "      <td>housing_median_age</td>\n",
       "      <td>0.281</td>\n",
       "    </tr>\n",
       "    <tr>\n",
       "      <th>1</th>\n",
       "      <td>total_rooms</td>\n",
       "      <td>0.000</td>\n",
       "    </tr>\n",
       "    <tr>\n",
       "      <th>2</th>\n",
       "      <td>total_bedrooms</td>\n",
       "      <td>0.000</td>\n",
       "    </tr>\n",
       "    <tr>\n",
       "      <th>3</th>\n",
       "      <td>population</td>\n",
       "      <td>0.000</td>\n",
       "    </tr>\n",
       "    <tr>\n",
       "      <th>4</th>\n",
       "      <td>median_income</td>\n",
       "      <td>0.000</td>\n",
       "    </tr>\n",
       "    <tr>\n",
       "      <th>5</th>\n",
       "      <td>ocean_proximity</td>\n",
       "      <td>0.000</td>\n",
       "    </tr>\n",
       "  </tbody>\n",
       "</table>\n",
       "</div>"
      ],
      "text/plain": [
       "             Features  P_values\n",
       "0  housing_median_age     0.281\n",
       "1         total_rooms     0.000\n",
       "2      total_bedrooms     0.000\n",
       "3          population     0.000\n",
       "4       median_income     0.000\n",
       "5     ocean_proximity     0.000"
      ]
     },
     "execution_count": 23,
     "metadata": {},
     "output_type": "execute_result"
    }
   ],
   "source": [
    "# calculate the p-values to determine the effect of each variable on the model\n",
    "from sklearn.feature_selection import f_regression\n",
    "p_values = f_regression(input_data, target_data)\n",
    "p_values = p_values[1].round(3)\n",
    "\n",
    "P_values_table = pd.DataFrame({'Features': input_data.columns, 'P_values': p_values})\n",
    "P_values_table"
   ]
  },
  {
   "cell_type": "markdown",
   "id": "096a48b7",
   "metadata": {},
   "source": [
    "#### The lower the p value a feature has, the greater effect on the model"
   ]
  },
  {
   "cell_type": "code",
   "execution_count": 24,
   "id": "ce837a79",
   "metadata": {},
   "outputs": [],
   "source": [
    "#input_data = input_data.drop(['housing_median_age'], axis=1)"
   ]
  },
  {
   "cell_type": "markdown",
   "id": "05de87ae",
   "metadata": {},
   "source": [
    "## Normonalization"
   ]
  },
  {
   "cell_type": "code",
   "execution_count": 25,
   "id": "e024a183",
   "metadata": {},
   "outputs": [],
   "source": [
    "from sklearn.preprocessing import StandardScaler"
   ]
  },
  {
   "cell_type": "code",
   "execution_count": 26,
   "id": "6bda4b08",
   "metadata": {},
   "outputs": [
    {
     "data": {
      "text/plain": [
       "array([[-0.77208494,  3.34207019,  2.0307132 ,  1.16614872,  3.03211315,\n",
       "        -1.66687231],\n",
       "       [ 1.41727756, -0.28787001,  0.25271807, -0.68794444, -1.1999043 ,\n",
       "        -1.66687231],\n",
       "       [ 2.25132042, -0.54030423, -0.59394628, -1.02307759, -1.26065324,\n",
       "        -1.66687231],\n",
       "       ...,\n",
       "       [-0.04229744, -0.46601188, -0.83585038, -0.94394893, -0.08962048,\n",
       "         0.69424503],\n",
       "       [-1.18910637, -0.52832159, -0.47299423, -0.99670137, -1.45868254,\n",
       "         0.69424503],\n",
       "       [-1.29336173, -0.10413624,  0.05516305, -0.40711526, -0.99024223,\n",
       "         0.69424503]])"
      ]
     },
     "execution_count": 26,
     "metadata": {},
     "output_type": "execute_result"
    }
   ],
   "source": [
    "# scale the data \n",
    "scale = StandardScaler()\n",
    "scale.fit(input_data)\n",
    "\n",
    "scaled_input_data = scale.transform(input_data)\n",
    "scaled_input_data"
   ]
  },
  {
   "cell_type": "markdown",
   "id": "f6405b6d",
   "metadata": {},
   "source": [
    "## Split data"
   ]
  },
  {
   "cell_type": "code",
   "execution_count": 27,
   "id": "5ad4ef8f",
   "metadata": {},
   "outputs": [],
   "source": [
    "# split the data into train, validation, and test\n",
    "total_sampel_counts = input_data.shape[0]\n",
    "\n",
    "train_data_counts = int(0.8*total_sampel_counts)\n",
    "validation_data_counts = int(0.1*total_sampel_counts)\n",
    "test_data_counts = total_sampel_counts - train_data_counts - validation_data_counts"
   ]
  },
  {
   "cell_type": "code",
   "execution_count": 28,
   "id": "7f8e8cc4",
   "metadata": {},
   "outputs": [
    {
     "name": "stdout",
     "output_type": "stream",
     "text": [
      "9317 7453 931 933\n"
     ]
    }
   ],
   "source": [
    "print(total_sampel_counts, \n",
    "      train_data_counts, \n",
    "      validation_data_counts, \n",
    "      test_data_counts)"
   ]
  },
  {
   "cell_type": "code",
   "execution_count": 29,
   "id": "6a75e936",
   "metadata": {},
   "outputs": [],
   "source": [
    "train_input = input_data[:train_data_counts]\n",
    "train_target = target_data[:train_data_counts]\n",
    "\n",
    "validation_input = input_data[train_data_counts: train_data_counts+validation_data_counts]\n",
    "validation_target = target_data[train_data_counts: train_data_counts+validation_data_counts]\n",
    "\n",
    "test_input = input_data[train_data_counts+validation_data_counts :]\n",
    "test_target = target_data[train_data_counts+validation_data_counts :]"
   ]
  },
  {
   "cell_type": "markdown",
   "id": "d7cd7232",
   "metadata": {},
   "source": [
    "## Save them into npz"
   ]
  },
  {
   "cell_type": "code",
   "execution_count": 30,
   "id": "9a55ed32",
   "metadata": {},
   "outputs": [],
   "source": [
    "np.savez('train_data', inputs=train_input, targets=train_target)\n",
    "np.savez('validation_data', inputs=validation_input, targets=validation_target)\n",
    "np.savez('test_data', inputs=test_input, targets=test_target)"
   ]
  },
  {
   "cell_type": "code",
   "execution_count": null,
   "id": "1906eb61",
   "metadata": {},
   "outputs": [],
   "source": []
  }
 ],
 "metadata": {
  "kernelspec": {
   "display_name": "Python 3 (ipykernel)",
   "language": "python",
   "name": "python3"
  },
  "language_info": {
   "codemirror_mode": {
    "name": "ipython",
    "version": 3
   },
   "file_extension": ".py",
   "mimetype": "text/x-python",
   "name": "python",
   "nbconvert_exporter": "python",
   "pygments_lexer": "ipython3",
   "version": "3.10.12"
  }
 },
 "nbformat": 4,
 "nbformat_minor": 5
}
