{
 "cells": [
  {
   "cell_type": "code",
   "execution_count": 1,
   "id": "eabe8d86",
   "metadata": {},
   "outputs": [],
   "source": [
    "import numpy as np\n",
    "import pandas as pd"
   ]
  },
  {
   "cell_type": "markdown",
   "id": "0a35b901",
   "metadata": {},
   "source": [
    "## Data"
   ]
  },
  {
   "cell_type": "code",
   "execution_count": 2,
   "id": "671c20df",
   "metadata": {},
   "outputs": [],
   "source": [
    "data = pd.read_csv('fraud_dataset.csv')"
   ]
  },
  {
   "cell_type": "code",
   "execution_count": 3,
   "id": "c7551b57",
   "metadata": {},
   "outputs": [
    {
     "data": {
      "text/html": [
       "<div>\n",
       "<style scoped>\n",
       "    .dataframe tbody tr th:only-of-type {\n",
       "        vertical-align: middle;\n",
       "    }\n",
       "\n",
       "    .dataframe tbody tr th {\n",
       "        vertical-align: top;\n",
       "    }\n",
       "\n",
       "    .dataframe thead th {\n",
       "        text-align: right;\n",
       "    }\n",
       "</style>\n",
       "<table border=\"1\" class=\"dataframe\">\n",
       "  <thead>\n",
       "    <tr style=\"text-align: right;\">\n",
       "      <th></th>\n",
       "      <th>transaction_id</th>\n",
       "      <th>transaction_amount</th>\n",
       "      <th>location</th>\n",
       "      <th>merchant</th>\n",
       "      <th>age</th>\n",
       "      <th>gender</th>\n",
       "      <th>fraud_label</th>\n",
       "    </tr>\n",
       "  </thead>\n",
       "  <tbody>\n",
       "    <tr>\n",
       "      <th>0</th>\n",
       "      <td>1</td>\n",
       "      <td>1000.0</td>\n",
       "      <td>New York</td>\n",
       "      <td>ABC Corp</td>\n",
       "      <td>35</td>\n",
       "      <td>M</td>\n",
       "      <td>0</td>\n",
       "    </tr>\n",
       "    <tr>\n",
       "      <th>1</th>\n",
       "      <td>2</td>\n",
       "      <td>500.0</td>\n",
       "      <td>Chicago</td>\n",
       "      <td>XYZ Inc</td>\n",
       "      <td>45</td>\n",
       "      <td>F</td>\n",
       "      <td>0</td>\n",
       "    </tr>\n",
       "    <tr>\n",
       "      <th>2</th>\n",
       "      <td>3</td>\n",
       "      <td>2000.0</td>\n",
       "      <td>Los Angeles</td>\n",
       "      <td>ABC Corp</td>\n",
       "      <td>28</td>\n",
       "      <td>M</td>\n",
       "      <td>1</td>\n",
       "    </tr>\n",
       "    <tr>\n",
       "      <th>3</th>\n",
       "      <td>4</td>\n",
       "      <td>1500.0</td>\n",
       "      <td>San Francisco</td>\n",
       "      <td>XYZ Inc</td>\n",
       "      <td>30</td>\n",
       "      <td>F</td>\n",
       "      <td>0</td>\n",
       "    </tr>\n",
       "    <tr>\n",
       "      <th>4</th>\n",
       "      <td>5</td>\n",
       "      <td>800.0</td>\n",
       "      <td>Chicago</td>\n",
       "      <td>ABC Corp</td>\n",
       "      <td>50</td>\n",
       "      <td>F</td>\n",
       "      <td>0</td>\n",
       "    </tr>\n",
       "  </tbody>\n",
       "</table>\n",
       "</div>"
      ],
      "text/plain": [
       "   transaction_id  transaction_amount       location  merchant  age gender  \\\n",
       "0               1              1000.0       New York  ABC Corp   35      M   \n",
       "1               2               500.0        Chicago   XYZ Inc   45      F   \n",
       "2               3              2000.0    Los Angeles  ABC Corp   28      M   \n",
       "3               4              1500.0  San Francisco   XYZ Inc   30      F   \n",
       "4               5               800.0        Chicago  ABC Corp   50      F   \n",
       "\n",
       "   fraud_label  \n",
       "0            0  \n",
       "1            0  \n",
       "2            1  \n",
       "3            0  \n",
       "4            0  "
      ]
     },
     "execution_count": 3,
     "metadata": {},
     "output_type": "execute_result"
    }
   ],
   "source": [
    "data.head()"
   ]
  },
  {
   "cell_type": "markdown",
   "id": "a1a3d256",
   "metadata": {},
   "source": [
    "## Select the interested Data"
   ]
  },
  {
   "cell_type": "code",
   "execution_count": 4,
   "id": "f5e4d980",
   "metadata": {},
   "outputs": [],
   "source": [
    "# we dont need the transaction_id for our model, so split it out\n",
    "interested_data = data.iloc[:, 1:]"
   ]
  },
  {
   "cell_type": "code",
   "execution_count": 5,
   "id": "3e3618b6",
   "metadata": {
    "scrolled": true
   },
   "outputs": [
    {
     "data": {
      "text/html": [
       "<div>\n",
       "<style scoped>\n",
       "    .dataframe tbody tr th:only-of-type {\n",
       "        vertical-align: middle;\n",
       "    }\n",
       "\n",
       "    .dataframe tbody tr th {\n",
       "        vertical-align: top;\n",
       "    }\n",
       "\n",
       "    .dataframe thead th {\n",
       "        text-align: right;\n",
       "    }\n",
       "</style>\n",
       "<table border=\"1\" class=\"dataframe\">\n",
       "  <thead>\n",
       "    <tr style=\"text-align: right;\">\n",
       "      <th></th>\n",
       "      <th>transaction_amount</th>\n",
       "      <th>location</th>\n",
       "      <th>merchant</th>\n",
       "      <th>age</th>\n",
       "      <th>gender</th>\n",
       "      <th>fraud_label</th>\n",
       "    </tr>\n",
       "  </thead>\n",
       "  <tbody>\n",
       "    <tr>\n",
       "      <th>0</th>\n",
       "      <td>1000.0</td>\n",
       "      <td>New York</td>\n",
       "      <td>ABC Corp</td>\n",
       "      <td>35</td>\n",
       "      <td>M</td>\n",
       "      <td>0</td>\n",
       "    </tr>\n",
       "    <tr>\n",
       "      <th>1</th>\n",
       "      <td>500.0</td>\n",
       "      <td>Chicago</td>\n",
       "      <td>XYZ Inc</td>\n",
       "      <td>45</td>\n",
       "      <td>F</td>\n",
       "      <td>0</td>\n",
       "    </tr>\n",
       "    <tr>\n",
       "      <th>2</th>\n",
       "      <td>2000.0</td>\n",
       "      <td>Los Angeles</td>\n",
       "      <td>ABC Corp</td>\n",
       "      <td>28</td>\n",
       "      <td>M</td>\n",
       "      <td>1</td>\n",
       "    </tr>\n",
       "    <tr>\n",
       "      <th>3</th>\n",
       "      <td>1500.0</td>\n",
       "      <td>San Francisco</td>\n",
       "      <td>XYZ Inc</td>\n",
       "      <td>30</td>\n",
       "      <td>F</td>\n",
       "      <td>0</td>\n",
       "    </tr>\n",
       "    <tr>\n",
       "      <th>4</th>\n",
       "      <td>800.0</td>\n",
       "      <td>Chicago</td>\n",
       "      <td>ABC Corp</td>\n",
       "      <td>50</td>\n",
       "      <td>F</td>\n",
       "      <td>0</td>\n",
       "    </tr>\n",
       "  </tbody>\n",
       "</table>\n",
       "</div>"
      ],
      "text/plain": [
       "   transaction_amount       location  merchant  age gender  fraud_label\n",
       "0              1000.0       New York  ABC Corp   35      M            0\n",
       "1               500.0        Chicago   XYZ Inc   45      F            0\n",
       "2              2000.0    Los Angeles  ABC Corp   28      M            1\n",
       "3              1500.0  San Francisco   XYZ Inc   30      F            0\n",
       "4               800.0        Chicago  ABC Corp   50      F            0"
      ]
     },
     "execution_count": 5,
     "metadata": {},
     "output_type": "execute_result"
    }
   ],
   "source": [
    "interested_data.head()"
   ]
  },
  {
   "cell_type": "code",
   "execution_count": 6,
   "id": "67359094",
   "metadata": {},
   "outputs": [
    {
     "data": {
      "text/html": [
       "<div>\n",
       "<style scoped>\n",
       "    .dataframe tbody tr th:only-of-type {\n",
       "        vertical-align: middle;\n",
       "    }\n",
       "\n",
       "    .dataframe tbody tr th {\n",
       "        vertical-align: top;\n",
       "    }\n",
       "\n",
       "    .dataframe thead th {\n",
       "        text-align: right;\n",
       "    }\n",
       "</style>\n",
       "<table border=\"1\" class=\"dataframe\">\n",
       "  <thead>\n",
       "    <tr style=\"text-align: right;\">\n",
       "      <th></th>\n",
       "      <th>transaction_amount</th>\n",
       "      <th>age</th>\n",
       "      <th>fraud_label</th>\n",
       "    </tr>\n",
       "  </thead>\n",
       "  <tbody>\n",
       "    <tr>\n",
       "      <th>count</th>\n",
       "      <td>86.000000</td>\n",
       "      <td>86.000000</td>\n",
       "      <td>86.000000</td>\n",
       "    </tr>\n",
       "    <tr>\n",
       "      <th>mean</th>\n",
       "      <td>1623.430233</td>\n",
       "      <td>40.081395</td>\n",
       "      <td>0.186047</td>\n",
       "    </tr>\n",
       "    <tr>\n",
       "      <th>std</th>\n",
       "      <td>799.196016</td>\n",
       "      <td>8.829383</td>\n",
       "      <td>0.391427</td>\n",
       "    </tr>\n",
       "    <tr>\n",
       "      <th>min</th>\n",
       "      <td>500.000000</td>\n",
       "      <td>26.000000</td>\n",
       "      <td>0.000000</td>\n",
       "    </tr>\n",
       "    <tr>\n",
       "      <th>25%</th>\n",
       "      <td>950.000000</td>\n",
       "      <td>32.250000</td>\n",
       "      <td>0.000000</td>\n",
       "    </tr>\n",
       "    <tr>\n",
       "      <th>50%</th>\n",
       "      <td>1375.000000</td>\n",
       "      <td>39.500000</td>\n",
       "      <td>0.000000</td>\n",
       "    </tr>\n",
       "    <tr>\n",
       "      <th>75%</th>\n",
       "      <td>2000.000000</td>\n",
       "      <td>47.750000</td>\n",
       "      <td>0.000000</td>\n",
       "    </tr>\n",
       "    <tr>\n",
       "      <th>max</th>\n",
       "      <td>4000.000000</td>\n",
       "      <td>56.000000</td>\n",
       "      <td>1.000000</td>\n",
       "    </tr>\n",
       "  </tbody>\n",
       "</table>\n",
       "</div>"
      ],
      "text/plain": [
       "       transaction_amount        age  fraud_label\n",
       "count           86.000000  86.000000    86.000000\n",
       "mean          1623.430233  40.081395     0.186047\n",
       "std            799.196016   8.829383     0.391427\n",
       "min            500.000000  26.000000     0.000000\n",
       "25%            950.000000  32.250000     0.000000\n",
       "50%           1375.000000  39.500000     0.000000\n",
       "75%           2000.000000  47.750000     0.000000\n",
       "max           4000.000000  56.000000     1.000000"
      ]
     },
     "execution_count": 6,
     "metadata": {},
     "output_type": "execute_result"
    }
   ],
   "source": [
    "interested_data.describe()"
   ]
  },
  {
   "cell_type": "markdown",
   "id": "124256b6",
   "metadata": {},
   "source": [
    "## Mapping the categorical Data"
   ]
  },
  {
   "cell_type": "code",
   "execution_count": 7,
   "id": "7c811cad",
   "metadata": {},
   "outputs": [
    {
     "data": {
      "text/plain": [
       "array(['New York', 'Chicago', 'Los Angeles', 'San Francisco'],\n",
       "      dtype=object)"
      ]
     },
     "execution_count": 7,
     "metadata": {},
     "output_type": "execute_result"
    }
   ],
   "source": [
    "interested_data['location'].unique()"
   ]
  },
  {
   "cell_type": "code",
   "execution_count": 8,
   "id": "ea4db033",
   "metadata": {},
   "outputs": [
    {
     "data": {
      "text/plain": [
       "array(['ABC Corp', 'XYZ Inc'], dtype=object)"
      ]
     },
     "execution_count": 8,
     "metadata": {},
     "output_type": "execute_result"
    }
   ],
   "source": [
    "interested_data['merchant'].unique()"
   ]
  },
  {
   "cell_type": "code",
   "execution_count": 9,
   "id": "b2176332",
   "metadata": {},
   "outputs": [],
   "source": [
    "interested_data['gender'] = interested_data['gender'].map({'M': 0, 'F': 1})"
   ]
  },
  {
   "cell_type": "code",
   "execution_count": 10,
   "id": "e4f15445",
   "metadata": {},
   "outputs": [],
   "source": [
    "interested_data['merchant'] = interested_data['merchant'].map({'ABC Corp': 0, 'XYZ Inc': 1})"
   ]
  },
  {
   "cell_type": "markdown",
   "id": "f20ca209",
   "metadata": {},
   "source": [
    "## Missing values"
   ]
  },
  {
   "cell_type": "code",
   "execution_count": 11,
   "id": "47c0e37e",
   "metadata": {},
   "outputs": [
    {
     "data": {
      "text/plain": [
       "transaction_amount    0\n",
       "location              0\n",
       "merchant              0\n",
       "age                   0\n",
       "gender                0\n",
       "fraud_label           0\n",
       "dtype: int64"
      ]
     },
     "execution_count": 11,
     "metadata": {},
     "output_type": "execute_result"
    }
   ],
   "source": [
    "interested_data.isnull().sum()"
   ]
  },
  {
   "cell_type": "markdown",
   "id": "6b81c89e",
   "metadata": {},
   "source": [
    "## Outiliers"
   ]
  },
  {
   "cell_type": "code",
   "execution_count": 12,
   "id": "4559477f",
   "metadata": {
    "scrolled": true
   },
   "outputs": [
    {
     "name": "stderr",
     "output_type": "stream",
     "text": [
      "C:\\Users\\42128\\AppData\\Local\\Temp\\ipykernel_34068\\3991929192.py:3: UserWarning: \n",
      "\n",
      "`distplot` is a deprecated function and will be removed in seaborn v0.14.0.\n",
      "\n",
      "Please adapt your code to use either `displot` (a figure-level function with\n",
      "similar flexibility) or `histplot` (an axes-level function for histograms).\n",
      "\n",
      "For a guide to updating your code to use the new functions, please see\n",
      "https://gist.github.com/mwaskom/de44147ed2974457ad6372750bbe5751\n",
      "\n",
      "  sns.distplot(interested_data['transaction_amount'])\n"
     ]
    },
    {
     "data": {
      "text/plain": [
       "<Axes: xlabel='transaction_amount', ylabel='Density'>"
      ]
     },
     "execution_count": 12,
     "metadata": {},
     "output_type": "execute_result"
    },
    {
     "data": {
      "image/png": "[encoded data removed]",
      "text/plain": [
       "<Figure size 640x480 with 1 Axes>"
      ]
     },
     "metadata": {},
     "output_type": "display_data"
    }
   ],
   "source": [
    "import seaborn as sns\n",
    "# check how the values in transaction amount are distributed\n",
    "sns.distplot(interested_data['transaction_amount'])"
   ]
  },
  {
   "cell_type": "markdown",
   "id": "16018d0b",
   "metadata": {},
   "source": [
    "#### The values are skew to the right means we have to quantile the top N percent to reduce the prediction errors"
   ]
  },
  {
   "cell_type": "code",
   "execution_count": 13,
   "id": "c2ebb02c",
   "metadata": {
    "scrolled": false
   },
   "outputs": [
    {
     "name": "stderr",
     "output_type": "stream",
     "text": [
      "C:\\Users\\42128\\AppData\\Local\\Temp\\ipykernel_34068\\1417594805.py:2: UserWarning: \n",
      "\n",
      "`distplot` is a deprecated function and will be removed in seaborn v0.14.0.\n",
      "\n",
      "Please adapt your code to use either `displot` (a figure-level function with\n",
      "similar flexibility) or `histplot` (an axes-level function for histograms).\n",
      "\n",
      "For a guide to updating your code to use the new functions, please see\n",
      "https://gist.github.com/mwaskom/de44147ed2974457ad6372750bbe5751\n",
      "\n",
      "  sns.distplot(interested_data['age'])\n"
     ]
    },
    {
     "data": {
      "text/plain": [
       "<Axes: xlabel='age', ylabel='Density'>"
      ]
     },
     "execution_count": 13,
     "metadata": {},
     "output_type": "execute_result"
    },
    {
     "data": {
      "image/png": "[encoded data removed]",
      "text/plain": [
       "<Figure size 640x480 with 1 Axes>"
      ]
     },
     "metadata": {},
     "output_type": "display_data"
    }
   ],
   "source": [
    "# check how the values in age are distributed\n",
    "sns.distplot(interested_data['age'])"
   ]
  },
  {
   "cell_type": "markdown",
   "id": "44bbf9a3",
   "metadata": {},
   "source": [
    "The kewness does not specifically leaning towrad left or right "
   ]
  },
  {
   "cell_type": "markdown",
   "id": "bd895070",
   "metadata": {},
   "source": [
    "## Get input and output"
   ]
  },
  {
   "cell_type": "code",
   "execution_count": 14,
   "id": "2e7df134",
   "metadata": {},
   "outputs": [],
   "source": [
    "input_data = interested_data.iloc[:, :len(interested_data.columns)-1]\n",
    "target_data = interested_data['fraud_label']"
   ]
  },
  {
   "cell_type": "code",
   "execution_count": 15,
   "id": "5561f836",
   "metadata": {},
   "outputs": [
    {
     "data": {
      "text/html": [
       "<div>\n",
       "<style scoped>\n",
       "    .dataframe tbody tr th:only-of-type {\n",
       "        vertical-align: middle;\n",
       "    }\n",
       "\n",
       "    .dataframe tbody tr th {\n",
       "        vertical-align: top;\n",
       "    }\n",
       "\n",
       "    .dataframe thead th {\n",
       "        text-align: right;\n",
       "    }\n",
       "</style>\n",
       "<table border=\"1\" class=\"dataframe\">\n",
       "  <thead>\n",
       "    <tr style=\"text-align: right;\">\n",
       "      <th></th>\n",
       "      <th>transaction_amount</th>\n",
       "      <th>location</th>\n",
       "      <th>merchant</th>\n",
       "      <th>age</th>\n",
       "      <th>gender</th>\n",
       "    </tr>\n",
       "  </thead>\n",
       "  <tbody>\n",
       "    <tr>\n",
       "      <th>0</th>\n",
       "      <td>1000.0</td>\n",
       "      <td>New York</td>\n",
       "      <td>0</td>\n",
       "      <td>35</td>\n",
       "      <td>0</td>\n",
       "    </tr>\n",
       "    <tr>\n",
       "      <th>1</th>\n",
       "      <td>500.0</td>\n",
       "      <td>Chicago</td>\n",
       "      <td>1</td>\n",
       "      <td>45</td>\n",
       "      <td>1</td>\n",
       "    </tr>\n",
       "    <tr>\n",
       "      <th>2</th>\n",
       "      <td>2000.0</td>\n",
       "      <td>Los Angeles</td>\n",
       "      <td>0</td>\n",
       "      <td>28</td>\n",
       "      <td>0</td>\n",
       "    </tr>\n",
       "    <tr>\n",
       "      <th>3</th>\n",
       "      <td>1500.0</td>\n",
       "      <td>San Francisco</td>\n",
       "      <td>1</td>\n",
       "      <td>30</td>\n",
       "      <td>1</td>\n",
       "    </tr>\n",
       "    <tr>\n",
       "      <th>4</th>\n",
       "      <td>800.0</td>\n",
       "      <td>Chicago</td>\n",
       "      <td>0</td>\n",
       "      <td>50</td>\n",
       "      <td>1</td>\n",
       "    </tr>\n",
       "  </tbody>\n",
       "</table>\n",
       "</div>"
      ],
      "text/plain": [
       "   transaction_amount       location  merchant  age  gender\n",
       "0              1000.0       New York         0   35       0\n",
       "1               500.0        Chicago         1   45       1\n",
       "2              2000.0    Los Angeles         0   28       0\n",
       "3              1500.0  San Francisco         1   30       1\n",
       "4               800.0        Chicago         0   50       1"
      ]
     },
     "execution_count": 15,
     "metadata": {},
     "output_type": "execute_result"
    }
   ],
   "source": [
    "input_data.head()"
   ]
  },
  {
   "cell_type": "markdown",
   "id": "18bb0c6e",
   "metadata": {},
   "source": [
    "## Get dummies"
   ]
  },
  {
   "cell_type": "code",
   "execution_count": 16,
   "id": "be2d27b7",
   "metadata": {
    "scrolled": false
   },
   "outputs": [
    {
     "data": {
      "text/html": [
       "<div>\n",
       "<style scoped>\n",
       "    .dataframe tbody tr th:only-of-type {\n",
       "        vertical-align: middle;\n",
       "    }\n",
       "\n",
       "    .dataframe tbody tr th {\n",
       "        vertical-align: top;\n",
       "    }\n",
       "\n",
       "    .dataframe thead th {\n",
       "        text-align: right;\n",
       "    }\n",
       "</style>\n",
       "<table border=\"1\" class=\"dataframe\">\n",
       "  <thead>\n",
       "    <tr style=\"text-align: right;\">\n",
       "      <th></th>\n",
       "      <th>transaction_amount</th>\n",
       "      <th>merchant</th>\n",
       "      <th>age</th>\n",
       "      <th>gender</th>\n",
       "      <th>location_Los Angeles</th>\n",
       "      <th>location_New York</th>\n",
       "      <th>location_San Francisco</th>\n",
       "    </tr>\n",
       "  </thead>\n",
       "  <tbody>\n",
       "    <tr>\n",
       "      <th>0</th>\n",
       "      <td>1000.0</td>\n",
       "      <td>0</td>\n",
       "      <td>35</td>\n",
       "      <td>0</td>\n",
       "      <td>0</td>\n",
       "      <td>1</td>\n",
       "      <td>0</td>\n",
       "    </tr>\n",
       "    <tr>\n",
       "      <th>1</th>\n",
       "      <td>500.0</td>\n",
       "      <td>1</td>\n",
       "      <td>45</td>\n",
       "      <td>1</td>\n",
       "      <td>0</td>\n",
       "      <td>0</td>\n",
       "      <td>0</td>\n",
       "    </tr>\n",
       "    <tr>\n",
       "      <th>2</th>\n",
       "      <td>2000.0</td>\n",
       "      <td>0</td>\n",
       "      <td>28</td>\n",
       "      <td>0</td>\n",
       "      <td>1</td>\n",
       "      <td>0</td>\n",
       "      <td>0</td>\n",
       "    </tr>\n",
       "    <tr>\n",
       "      <th>3</th>\n",
       "      <td>1500.0</td>\n",
       "      <td>1</td>\n",
       "      <td>30</td>\n",
       "      <td>1</td>\n",
       "      <td>0</td>\n",
       "      <td>0</td>\n",
       "      <td>1</td>\n",
       "    </tr>\n",
       "    <tr>\n",
       "      <th>4</th>\n",
       "      <td>800.0</td>\n",
       "      <td>0</td>\n",
       "      <td>50</td>\n",
       "      <td>1</td>\n",
       "      <td>0</td>\n",
       "      <td>0</td>\n",
       "      <td>0</td>\n",
       "    </tr>\n",
       "  </tbody>\n",
       "</table>\n",
       "</div>"
      ],
      "text/plain": [
       "   transaction_amount  merchant  age  gender  location_Los Angeles  \\\n",
       "0              1000.0         0   35       0                     0   \n",
       "1               500.0         1   45       1                     0   \n",
       "2              2000.0         0   28       0                     1   \n",
       "3              1500.0         1   30       1                     0   \n",
       "4               800.0         0   50       1                     0   \n",
       "\n",
       "   location_New York  location_San Francisco  \n",
       "0                  1                       0  \n",
       "1                  0                       0  \n",
       "2                  0                       0  \n",
       "3                  0                       1  \n",
       "4                  0                       0  "
      ]
     },
     "execution_count": 16,
     "metadata": {},
     "output_type": "execute_result"
    }
   ],
   "source": [
    "# get the dummies to replace the categorical data with numerical values\n",
    "dummies_data = pd.get_dummies(input_data, dtype=int, drop_first=True)\n",
    "dummies_data.head()"
   ]
  },
  {
   "cell_type": "markdown",
   "id": "224756cb",
   "metadata": {},
   "source": [
    "## Feature Selecion "
   ]
  },
  {
   "cell_type": "code",
   "execution_count": 17,
   "id": "44bc6989",
   "metadata": {},
   "outputs": [],
   "source": [
    "# import the library for selection\n",
    "from sklearn.feature_selection import f_regression"
   ]
  },
  {
   "cell_type": "code",
   "execution_count": 18,
   "id": "5dd26225",
   "metadata": {},
   "outputs": [
    {
     "data": {
      "text/html": [
       "<div>\n",
       "<style scoped>\n",
       "    .dataframe tbody tr th:only-of-type {\n",
       "        vertical-align: middle;\n",
       "    }\n",
       "\n",
       "    .dataframe tbody tr th {\n",
       "        vertical-align: top;\n",
       "    }\n",
       "\n",
       "    .dataframe thead th {\n",
       "        text-align: right;\n",
       "    }\n",
       "</style>\n",
       "<table border=\"1\" class=\"dataframe\">\n",
       "  <thead>\n",
       "    <tr style=\"text-align: right;\">\n",
       "      <th></th>\n",
       "      <th>Features</th>\n",
       "      <th>P_values</th>\n",
       "    </tr>\n",
       "  </thead>\n",
       "  <tbody>\n",
       "    <tr>\n",
       "      <th>0</th>\n",
       "      <td>transaction_amount</td>\n",
       "      <td>0.000</td>\n",
       "    </tr>\n",
       "    <tr>\n",
       "      <th>1</th>\n",
       "      <td>merchant</td>\n",
       "      <td>0.273</td>\n",
       "    </tr>\n",
       "    <tr>\n",
       "      <th>2</th>\n",
       "      <td>age</td>\n",
       "      <td>0.845</td>\n",
       "    </tr>\n",
       "    <tr>\n",
       "      <th>3</th>\n",
       "      <td>gender</td>\n",
       "      <td>0.585</td>\n",
       "    </tr>\n",
       "    <tr>\n",
       "      <th>4</th>\n",
       "      <td>location_Los Angeles</td>\n",
       "      <td>0.062</td>\n",
       "    </tr>\n",
       "    <tr>\n",
       "      <th>5</th>\n",
       "      <td>location_New York</td>\n",
       "      <td>0.050</td>\n",
       "    </tr>\n",
       "    <tr>\n",
       "      <th>6</th>\n",
       "      <td>location_San Francisco</td>\n",
       "      <td>0.008</td>\n",
       "    </tr>\n",
       "  </tbody>\n",
       "</table>\n",
       "</div>"
      ],
      "text/plain": [
       "                 Features  P_values\n",
       "0      transaction_amount     0.000\n",
       "1                merchant     0.273\n",
       "2                     age     0.845\n",
       "3                  gender     0.585\n",
       "4    location_Los Angeles     0.062\n",
       "5       location_New York     0.050\n",
       "6  location_San Francisco     0.008"
      ]
     },
     "execution_count": 18,
     "metadata": {},
     "output_type": "execute_result"
    }
   ],
   "source": [
    "# calculate the p_values for each input variable\n",
    "p_values = f_regression(dummies_data, target_data)\n",
    "\n",
    "# round the p_values to the third digit\n",
    "p_values = p_values[1].round(3)\n",
    "\n",
    "# create a table to disply the p values\n",
    "p_table = pd.DataFrame({'Features': dummies_data.columns, 'P_values': p_values})\n",
    "p_table"
   ]
  },
  {
   "cell_type": "markdown",
   "id": "b843afde",
   "metadata": {},
   "source": [
    "#### I decide to remove age and gender since the their p_value shows they do not have a significant effect on the model"
   ]
  },
  {
   "cell_type": "code",
   "execution_count": 19,
   "id": "ac780ff5",
   "metadata": {},
   "outputs": [],
   "source": [
    "#dummies_data = dummies_data.drop(['age', 'gender'], axis=1)"
   ]
  },
  {
   "cell_type": "code",
   "execution_count": 20,
   "id": "d74f6843",
   "metadata": {},
   "outputs": [],
   "source": [
    "input_data_preprcoessed = dummies_data.copy().reset_index(drop=True)\n",
    "target_data = target_data.reset_index(drop=True)"
   ]
  },
  {
   "cell_type": "markdown",
   "id": "f2e7c760",
   "metadata": {},
   "source": [
    "## Balance the data"
   ]
  },
  {
   "cell_type": "markdown",
   "id": "7e218b20",
   "metadata": {},
   "source": [
    "I need to balance the target data otherwise if there are more fraud accounts than without fraud accounts. The model will tend to predict the fraud likely."
   ]
  },
  {
   "cell_type": "code",
   "execution_count": 21,
   "id": "eb7d011a",
   "metadata": {},
   "outputs": [
    {
     "name": "stdout",
     "output_type": "stream",
     "text": [
      "86 16\n"
     ]
    }
   ],
   "source": [
    "fraud_counts = np.sum(target_data)\n",
    "print(len(target_data), fraud_counts)"
   ]
  },
  {
   "cell_type": "code",
   "execution_count": 22,
   "id": "2261433a",
   "metadata": {},
   "outputs": [],
   "source": [
    "def balance(target_data):\n",
    "    fraud_count = np.sum(target_data)\n",
    "    noFraud_count = 0\n",
    "    \n",
    "    index = 0\n",
    "    removed_indices = []\n",
    "    \n",
    "    for i in target_data:\n",
    "        if i == 0:\n",
    "            noFraud_count += 1\n",
    "            if noFraud_count > fraud_count:\n",
    "                removed_indices.append(index)\n",
    "        index += 1\n",
    "    return removed_indices   "
   ]
  },
  {
   "cell_type": "code",
   "execution_count": 23,
   "id": "9db567e6",
   "metadata": {},
   "outputs": [],
   "source": [
    "removed_indices = balance(target_data)"
   ]
  },
  {
   "cell_type": "code",
   "execution_count": 24,
   "id": "ab188f06",
   "metadata": {},
   "outputs": [],
   "source": [
    "balanced_input_data = input_data_preprcoessed.drop(removed_indices, axis=0).reset_index(drop=True)\n",
    "balanced_target_data = target_data.drop(removed_indices, axis=0).reset_index(drop=True)"
   ]
  },
  {
   "cell_type": "markdown",
   "id": "c80dafac",
   "metadata": {},
   "source": [
    "## Standardize input data"
   ]
  },
  {
   "cell_type": "code",
   "execution_count": 25,
   "id": "2718ca6c",
   "metadata": {},
   "outputs": [],
   "source": [
    "from sklearn.preprocessing import StandardScaler"
   ]
  },
  {
   "cell_type": "code",
   "execution_count": 26,
   "id": "eb12212e",
   "metadata": {},
   "outputs": [
    {
     "data": {
      "text/html": [
       "<style>#sk-container-id-1 {color: black;}#sk-container-id-1 pre{padding: 0;}#sk-container-id-1 div.sk-toggleable {background-color: white;}#sk-container-id-1 label.sk-toggleable__label {cursor: pointer;display: block;width: 100%;margin-bottom: 0;padding: 0.3em;box-sizing: border-box;text-align: center;}#sk-container-id-1 label.sk-toggleable__label-arrow:before {content: \"▸\";float: left;margin-right: 0.25em;color: #696969;}#sk-container-id-1 label.sk-toggleable__label-arrow:hover:before {color: black;}#sk-container-id-1 div.sk-estimator:hover label.sk-toggleable__label-arrow:before {color: black;}#sk-container-id-1 div.sk-toggleable__content {max-height: 0;max-width: 0;overflow: hidden;text-align: left;background-color: #f0f8ff;}#sk-container-id-1 div.sk-toggleable__content pre {margin: 0.2em;color: black;border-radius: 0.25em;background-color: #f0f8ff;}#sk-container-id-1 input.sk-toggleable__control:checked~div.sk-toggleable__content {max-height: 200px;max-width: 100%;overflow: auto;}#sk-container-id-1 input.sk-toggleable__control:checked~label.sk-toggleable__label-arrow:before {content: \"▾\";}#sk-container-id-1 div.sk-estimator input.sk-toggleable__control:checked~label.sk-toggleable__label {background-color: #d4ebff;}#sk-container-id-1 div.sk-label input.sk-toggleable__control:checked~label.sk-toggleable__label {background-color: #d4ebff;}#sk-container-id-1 input.sk-hidden--visually {border: 0;clip: rect(1px 1px 1px 1px);clip: rect(1px, 1px, 1px, 1px);height: 1px;margin: -1px;overflow: hidden;padding: 0;position: absolute;width: 1px;}#sk-container-id-1 div.sk-estimator {font-family: monospace;background-color: #f0f8ff;border: 1px dotted black;border-radius: 0.25em;box-sizing: border-box;margin-bottom: 0.5em;}#sk-container-id-1 div.sk-estimator:hover {background-color: #d4ebff;}#sk-container-id-1 div.sk-parallel-item::after {content: \"\";width: 100%;border-bottom: 1px solid gray;flex-grow: 1;}#sk-container-id-1 div.sk-label:hover label.sk-toggleable__label {background-color: #d4ebff;}#sk-container-id-1 div.sk-serial::before {content: \"\";position: absolute;border-left: 1px solid gray;box-sizing: border-box;top: 0;bottom: 0;left: 50%;z-index: 0;}#sk-container-id-1 div.sk-serial {display: flex;flex-direction: column;align-items: center;background-color: white;padding-right: 0.2em;padding-left: 0.2em;position: relative;}#sk-container-id-1 div.sk-item {position: relative;z-index: 1;}#sk-container-id-1 div.sk-parallel {display: flex;align-items: stretch;justify-content: center;background-color: white;position: relative;}#sk-container-id-1 div.sk-item::before, #sk-container-id-1 div.sk-parallel-item::before {content: \"\";position: absolute;border-left: 1px solid gray;box-sizing: border-box;top: 0;bottom: 0;left: 50%;z-index: -1;}#sk-container-id-1 div.sk-parallel-item {display: flex;flex-direction: column;z-index: 1;position: relative;background-color: white;}#sk-container-id-1 div.sk-parallel-item:first-child::after {align-self: flex-end;width: 50%;}#sk-container-id-1 div.sk-parallel-item:last-child::after {align-self: flex-start;width: 50%;}#sk-container-id-1 div.sk-parallel-item:only-child::after {width: 0;}#sk-container-id-1 div.sk-dashed-wrapped {border: 1px dashed gray;margin: 0 0.4em 0.5em 0.4em;box-sizing: border-box;padding-bottom: 0.4em;background-color: white;}#sk-container-id-1 div.sk-label label {font-family: monospace;font-weight: bold;display: inline-block;line-height: 1.2em;}#sk-container-id-1 div.sk-label-container {text-align: center;}#sk-container-id-1 div.sk-container {/* jupyter's `normalize.less` sets `[hidden] { display: none; }` but bootstrap.min.css set `[hidden] { display: none !important; }` so we also need the `!important` here to be able to override the default hidden behavior on the sphinx rendered scikit-learn.org. See: https://github.com/scikit-learn/scikit-learn/issues/21755 */display: inline-block !important;position: relative;}#sk-container-id-1 div.sk-text-repr-fallback {display: none;}</style><div id=\"sk-container-id-1\" class=\"sk-top-container\"><div class=\"sk-text-repr-fallback\"><pre>StandardScaler()</pre><b>In a Jupyter environment, please rerun this cell to show the HTML representation or trust the notebook. <br />On GitHub, the HTML representation is unable to render, please try loading this page with nbviewer.org.</b></div><div class=\"sk-container\" hidden><div class=\"sk-item\"><div class=\"sk-estimator sk-toggleable\"><input class=\"sk-toggleable__control sk-hidden--visually\" id=\"sk-estimator-id-1\" type=\"checkbox\" checked><label for=\"sk-estimator-id-1\" class=\"sk-toggleable__label sk-toggleable__label-arrow\">StandardScaler</label><div class=\"sk-toggleable__content\"><pre>StandardScaler()</pre></div></div></div></div></div>"
      ],
      "text/plain": [
       "StandardScaler()"
      ]
     },
     "execution_count": 26,
     "metadata": {},
     "output_type": "execute_result"
    }
   ],
   "source": [
    "scale = StandardScaler()\n",
    "scale.fit(balanced_input_data, balanced_target_data)"
   ]
  },
  {
   "cell_type": "code",
   "execution_count": 27,
   "id": "2e8c7f57",
   "metadata": {},
   "outputs": [],
   "source": [
    "scaled_input_data = scale.transform(balanced_input_data)"
   ]
  },
  {
   "cell_type": "markdown",
   "id": "cae499a7",
   "metadata": {},
   "source": [
    "## Shuffle"
   ]
  },
  {
   "cell_type": "code",
   "execution_count": 28,
   "id": "364ac692",
   "metadata": {},
   "outputs": [],
   "source": [
    "# import random to shuffle the data because I balanced the data in a series of 00001111\n",
    "import random\n",
    "\n",
    "# get indices of scaled_input_data\n",
    "shuffled_indices = list(range(scaled_input_data.shape[0]))\n",
    "\n",
    "# shuffle their its\n",
    "random.shuffle(shuffled_indices)"
   ]
  },
  {
   "cell_type": "code",
   "execution_count": 29,
   "id": "054215a0",
   "metadata": {},
   "outputs": [],
   "source": [
    "# update the data in a new order\n",
    "shuffled_input_data = scaled_input_data[shuffled_indices]\n",
    "shuffled_target_data = balanced_target_data[shuffled_indices]"
   ]
  },
  {
   "cell_type": "markdown",
   "id": "49ebd4c5",
   "metadata": {},
   "source": [
    "## Split"
   ]
  },
  {
   "cell_type": "code",
   "execution_count": 30,
   "id": "7293374b",
   "metadata": {},
   "outputs": [],
   "source": [
    "total_sample_counts = shuffled_input_data.shape[0]\n",
    "train_counts = int(0.8*total_sample_counts)\n",
    "test_counts = total_sample_counts - train_counts"
   ]
  },
  {
   "cell_type": "code",
   "execution_count": 31,
   "id": "42588f26",
   "metadata": {},
   "outputs": [
    {
     "name": "stdout",
     "output_type": "stream",
     "text": [
      "32 25 7\n"
     ]
    }
   ],
   "source": [
    "print(total_sample_counts, train_counts, test_counts)"
   ]
  },
  {
   "cell_type": "code",
   "execution_count": 32,
   "id": "70cbdf8d",
   "metadata": {},
   "outputs": [],
   "source": [
    "train_input = shuffled_input_data[:train_counts]\n",
    "train_target = shuffled_target_data[:train_counts]\n",
    "\n",
    "test_input = shuffled_input_data[train_counts: ]\n",
    "test_target = shuffled_target_data[train_counts: ]"
   ]
  },
  {
   "cell_type": "markdown",
   "id": "33a6bb0c",
   "metadata": {},
   "source": [
    "## Logistic regression"
   ]
  },
  {
   "cell_type": "code",
   "execution_count": 33,
   "id": "67803dc2",
   "metadata": {},
   "outputs": [],
   "source": [
    "# import the Logistic Regression to build the model\n",
    "from sklearn.linear_model import LogisticRegression"
   ]
  },
  {
   "cell_type": "code",
   "execution_count": 1,
   "id": "3e5198fc",
   "metadata": {},
   "outputs": [
    {
     "ename": "NameError",
     "evalue": "name 'LogisticRegression' is not defined",
     "output_type": "error",
     "traceback": [
      "\u001b[1;31m---------------------------------------------------------------------------\u001b[0m",
      "\u001b[1;31mNameError\u001b[0m                                 Traceback (most recent call last)",
      "Cell \u001b[1;32mIn[1], line 1\u001b[0m\n\u001b[1;32m----> 1\u001b[0m classifier \u001b[38;5;241m=\u001b[39m \u001b[43mLogisticRegression\u001b[49m(random_state\u001b[38;5;241m=\u001b[39m\u001b[38;5;241m0\u001b[39m)\n\u001b[0;32m      3\u001b[0m \u001b[38;5;66;03m# fit the model with data\u001b[39;00m\n\u001b[0;32m      4\u001b[0m classifier\u001b[38;5;241m.\u001b[39mfit(train_input, train_target)\n",
      "\u001b[1;31mNameError\u001b[0m: name 'LogisticRegression' is not defined"
     ]
    }
   ],
   "source": [
    "classifier = LogisticRegression(random_state=0)\n",
    "\n",
    "# fit the model with data\n",
    "classifier.fit(train_input, train_target)"
   ]
  },
  {
   "cell_type": "markdown",
   "id": "1fc4ff41",
   "metadata": {},
   "source": [
    "#### calaculate the residual values and plot them into a distribution graph we can see it is normal distributed which mean the model is great"
   ]
  },
  {
   "cell_type": "markdown",
   "id": "c94614ad",
   "metadata": {},
   "source": [
    "## Testing"
   ]
  },
  {
   "cell_type": "code",
   "execution_count": 35,
   "id": "63b747b4",
   "metadata": {},
   "outputs": [
    {
     "data": {
      "text/plain": [
       "array([[3, 0],\n",
       "       [1, 3]], dtype=int64)"
      ]
     },
     "execution_count": 35,
     "metadata": {},
     "output_type": "execute_result"
    }
   ],
   "source": [
    "# import the confusion_matrix to get the probability of getting a correct outpout\n",
    "from sklearn.metrics import confusion_matrix\n",
    "\n",
    "# predict the outputs by the test_input \n",
    "test_outputs = classifier.predict(test_input)\n",
    "\n",
    "# get the confusion matrix\n",
    "cm = confusion_matrix(test_target, test_outputs)\n",
    "cm"
   ]
  },
  {
   "cell_type": "code",
   "execution_count": 36,
   "id": "acc69496",
   "metadata": {},
   "outputs": [
    {
     "data": {
      "text/html": [
       "<div>\n",
       "<style scoped>\n",
       "    .dataframe tbody tr th:only-of-type {\n",
       "        vertical-align: middle;\n",
       "    }\n",
       "\n",
       "    .dataframe tbody tr th {\n",
       "        vertical-align: top;\n",
       "    }\n",
       "\n",
       "    .dataframe thead th {\n",
       "        text-align: right;\n",
       "    }\n",
       "</style>\n",
       "<table border=\"1\" class=\"dataframe\">\n",
       "  <thead>\n",
       "    <tr style=\"text-align: right;\">\n",
       "      <th></th>\n",
       "      <th>Prediction 0</th>\n",
       "      <th>Preidction 1</th>\n",
       "    </tr>\n",
       "  </thead>\n",
       "  <tbody>\n",
       "    <tr>\n",
       "      <th>Prediction 0</th>\n",
       "      <td>3</td>\n",
       "      <td>0</td>\n",
       "    </tr>\n",
       "    <tr>\n",
       "      <th>Prediction 1</th>\n",
       "      <td>1</td>\n",
       "      <td>3</td>\n",
       "    </tr>\n",
       "  </tbody>\n",
       "</table>\n",
       "</div>"
      ],
      "text/plain": [
       "              Prediction 0  Preidction 1\n",
       "Prediction 0             3             0\n",
       "Prediction 1             1             3"
      ]
     },
     "execution_count": 36,
     "metadata": {},
     "output_type": "execute_result"
    }
   ],
   "source": [
    "# construct a datagrame to display the cm\n",
    "cm_table = pd.DataFrame(cm)\n",
    "cm_table.columns = ['Prediction 0', 'Preidction 1']\n",
    "cm_table = cm_table.rename(index={0: 'Prediction 0', 1: 'Prediction 1'})\n",
    "cm_table"
   ]
  },
  {
   "cell_type": "code",
   "execution_count": 37,
   "id": "7c2d95ee",
   "metadata": {},
   "outputs": [
    {
     "name": "stdout",
     "output_type": "stream",
     "text": [
      "The test accuracy is 86.0\n"
     ]
    }
   ],
   "source": [
    "# get the accuracy\n",
    "from sklearn import metrics\n",
    "test_accuracy = metrics.accuracy_score(test_outputs, test_target)\n",
    "print('The test accuracy is ' + str(test_accuracy.round(2)*100))"
   ]
  },
  {
   "cell_type": "markdown",
   "id": "c78dc52c",
   "metadata": {},
   "source": [
    "#### The model sometimes may have a bad accuracy due to shuffling because shuffling may put many 0 or 1 predictions into the test dataset"
   ]
  },
  {
   "cell_type": "code",
   "execution_count": null,
   "id": "9928b0cf",
   "metadata": {},
   "outputs": [],
   "source": []
  }
 ],
 "metadata": {
  "kernelspec": {
   "display_name": "Python 3 (ipykernel)",
   "language": "python",
   "name": "python3"
  },
  "language_info": {
   "codemirror_mode": {
    "name": "ipython",
    "version": 3
   },
   "file_extension": ".py",
   "mimetype": "text/x-python",
   "name": "python",
   "nbconvert_exporter": "python",
   "pygments_lexer": "ipython3",
   "version": "3.10.12"
  }
 },
 "nbformat": 4,
 "nbformat_minor": 5
}
