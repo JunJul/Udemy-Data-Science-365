{
 "cells": [
  {
   "cell_type": "code",
   "execution_count": 1,
   "id": "885ec1bf",
   "metadata": {},
   "outputs": [],
   "source": [
    "import numpy as np\n",
    "import tensorflow as tf"
   ]
  },
  {
   "cell_type": "markdown",
   "id": "79197bbd",
   "metadata": {},
   "source": [
    "## Data"
   ]
  },
  {
   "cell_type": "code",
   "execution_count": 2,
   "id": "76a8aac6",
   "metadata": {},
   "outputs": [],
   "source": [
    "npz = np.load('train_data.npz')\n",
    "train_inputs = npz['inputs']\n",
    "train_targets = npz['targets']\n",
    "\n",
    "npz = np.load('validation_data.npz')\n",
    "validation_inputs = npz['inputs']\n",
    "validation_targets = npz['targets']\n",
    "\n",
    "npz = np.load('test_data.npz')\n",
    "test_inputs = npz['inputs']\n",
    "test_targets = npz['targets']"
   ]
  },
  {
   "cell_type": "markdown",
   "id": "6a7fdea2",
   "metadata": {},
   "source": [
    "## Model"
   ]
  },
  {
   "cell_type": "code",
   "execution_count": 3,
   "id": "f773ff40",
   "metadata": {},
   "outputs": [],
   "source": [
    "input_size = train_inputs.shape[1]\n",
    "output_size = 1\n",
    "hidden_layer = 50"
   ]
  },
  {
   "cell_type": "code",
   "execution_count": 4,
   "id": "2ebdf46a",
   "metadata": {},
   "outputs": [],
   "source": [
    "model = tf.keras.Sequential([\n",
    "    tf.keras.layers.Input(shape=(input_size, )),\n",
    "    tf.keras.layers.Dense(hidden_layer, activation='relu'),\n",
    "    tf.keras.layers.Dense(output_size)\n",
    "])"
   ]
  },
  {
   "cell_type": "code",
   "execution_count": 5,
   "id": "2c6fd059",
   "metadata": {},
   "outputs": [],
   "source": [
    "customized_optimizer = tf.keras.optimizers.Adam()\n",
    "model.compile(optimizer='adam', loss='mean_squared_error', metrics=['mean_squared_error'])"
   ]
  },
  {
   "cell_type": "code",
   "execution_count": 6,
   "id": "2342c155",
   "metadata": {},
   "outputs": [
    {
     "name": "stdout",
     "output_type": "stream",
     "text": [
      "Epoch 1/100\n",
      "2/2 - 0s - loss: 91021144752128.0000 - mean_squared_error: 91021144752128.0000 - val_loss: 78713127436288.0000 - val_mean_squared_error: 78713127436288.0000 - 480ms/epoch - 240ms/step\n",
      "Epoch 2/100\n",
      "2/2 - 0s - loss: 91021153140736.0000 - mean_squared_error: 91021153140736.0000 - val_loss: 78713127436288.0000 - val_mean_squared_error: 78713127436288.0000 - 28ms/epoch - 14ms/step\n",
      "Epoch 3/100\n",
      "2/2 - 0s - loss: 91021144752128.0000 - mean_squared_error: 91021144752128.0000 - val_loss: 78713127436288.0000 - val_mean_squared_error: 78713127436288.0000 - 23ms/epoch - 12ms/step\n"
     ]
    },
    {
     "data": {
      "text/plain": [
       "<keras.callbacks.History at 0x27493d73970>"
      ]
     },
     "execution_count": 6,
     "metadata": {},
     "output_type": "execute_result"
    }
   ],
   "source": [
    "early_stopping = tf.keras.callbacks.EarlyStopping(patience=2)\n",
    "batch_size = 100\n",
    "max_epochs = 100\n",
    "\n",
    "model.fit(\n",
    "    train_inputs, \n",
    "    train_targets, \n",
    "    epochs=max_epochs, \n",
    "    batch_size=batch_size, \n",
    "    callbacks=[early_stopping], \n",
    "    validation_data=(validation_inputs, validation_targets),\n",
    "    verbose=2\n",
    "    )"
   ]
  },
  {
   "cell_type": "code",
   "execution_count": null,
   "id": "bc1e02dc",
   "metadata": {},
   "outputs": [],
   "source": []
  }
 ],
 "metadata": {
  "kernelspec": {
   "display_name": "Python 3 (ipykernel)",
   "language": "python",
   "name": "python3"
  },
  "language_info": {
   "codemirror_mode": {
    "name": "ipython",
    "version": 3
   },
   "file_extension": ".py",
   "mimetype": "text/x-python",
   "name": "python",
   "nbconvert_exporter": "python",
   "pygments_lexer": "ipython3",
   "version": "3.10.12"
  }
 },
 "nbformat": 4,
 "nbformat_minor": 5
}
