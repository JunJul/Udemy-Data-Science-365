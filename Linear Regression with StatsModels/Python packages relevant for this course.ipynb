{
 "cells": [
  {
   "cell_type": "code",
   "execution_count": 4,
   "id": "5f24ec42",
   "metadata": {},
   "outputs": [],
   "source": [
    "import numpy as np\n",
    "import pandas as pd\n",
    "import scipy\n",
    "import statsmodels.api as sm\n",
    "import matplotlib as plt\n",
    "import seaborn as sns\n",
    "import sklearn"
   ]
  },
  {
   "cell_type": "markdown",
   "id": "b4e21ae0",
   "metadata": {},
   "source": [
    "numpy: a third party package allowing us to work with multidimensional arrays"
   ]
  },
  {
   "cell_type": "markdown",
   "id": "ae3d7daa",
   "metadata": {},
   "source": [
    "pandas: allows us to otganize data in tabular form and to attach descripitive labels to the cols and rows"
   ]
  },
  {
   "cell_type": "markdown",
   "id": "fa8ca47f",
   "metadata": {},
   "source": [
    "matplotlib: a 2D plotting library specially desgined for visiulization of Numpy computations"
   ]
  },
  {
   "cell_type": "markdown",
   "id": "eeed8ebc",
   "metadata": {},
   "source": [
    "seaborn: is a Python visualization libaray based on matplotlib. It provides a high-level interface for drawing attractive statistical graphics"
   ]
  },
  {
   "cell_type": "markdown",
   "id": "1b0bff9f",
   "metadata": {},
   "source": [
    "statsmodels: a package built on top of Numpy and SciPy, which integrates with pandas. SM provides very good summaries "
   ]
  },
  {
   "cell_type": "markdown",
   "id": "a6b4cd78",
   "metadata": {},
   "source": [
    "sklearn: used mostly in machine learning"
   ]
  }
 ],
 "metadata": {
  "kernelspec": {
   "display_name": "Python 3 (ipykernel)",
   "language": "python",
   "name": "python3"
  },
  "language_info": {
   "codemirror_mode": {
    "name": "ipython",
    "version": 3
   },
   "file_extension": ".py",
   "mimetype": "text/x-python",
   "name": "python",
   "nbconvert_exporter": "python",
   "pygments_lexer": "ipython3",
   "version": "3.11.4"
  }
 },
 "nbformat": 4,
 "nbformat_minor": 5
}
