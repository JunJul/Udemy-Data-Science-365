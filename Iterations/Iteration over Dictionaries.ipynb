{
 "cells": [
  {
   "cell_type": "code",
   "execution_count": 2,
   "id": "b763f83f",
   "metadata": {},
   "outputs": [
    {
     "name": "stdout",
     "output_type": "stream",
     "text": [
      "box_of_spahetti\n",
      "lasagna\n",
      "hamburger\n",
      "74\n"
     ]
    }
   ],
   "source": [
    "prices = {\n",
    "    \"box_of_spahetti\": 4,\n",
    "    \"lasagna\": 5,\n",
    "    \"hamburger\": 2\n",
    "}\n",
    "\n",
    "quantity = {\n",
    "    \"box_of_spahetti\": 6,\n",
    "    \"lasagna\": 10,\n",
    "    \"hamburger\": 0\n",
    "}\n",
    "\n",
    "money_spent = 0\n",
    "\n",
    "for i in prices:\n",
    "    print(i)\n",
    "    money_spent = money_spent + (prices[i] * quantity[i])\n",
    "    \n",
    "print(money_spent)"
   ]
  }
 ],
 "metadata": {
  "kernelspec": {
   "display_name": "Python 3 (ipykernel)",
   "language": "python",
   "name": "python3"
  },
  "language_info": {
   "codemirror_mode": {
    "name": "ipython",
    "version": 3
   },
   "file_extension": ".py",
   "mimetype": "text/x-python",
   "name": "python",
   "nbconvert_exporter": "python",
   "pygments_lexer": "ipython3",
   "version": "3.11.4"
  }
 },
 "nbformat": 4,
 "nbformat_minor": 5
}
